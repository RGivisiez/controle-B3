{
 "cells": [
  {
   "cell_type": "markdown",
   "metadata": {},
   "source": [
    "# Controle da carteira de ações (Swing Trade)"
   ]
  },
  {
   "cell_type": "markdown",
   "metadata": {},
   "source": [
    "### Referências para o programa.\n",
    "\n",
    "[Link](https://gspread.readthedocs.io/en/latest/api.html#module-gspread.utils) de uma documentação\n",
    "das planilhas do google.\n",
    "\n",
    "[Link](https://www.twilio.com/blog/2017/02/an-easy-way-to-read-and-write-to-a-google-spreadsheet-in-python.html) descrevendo como fazer para pegar as autenticações do google spreadsheet."
   ]
  },
  {
   "cell_type": "code",
   "execution_count": 1,
   "metadata": {},
   "outputs": [],
   "source": [
    "import pandas as pd\n",
    "import numpy as np\n",
    "import matplotlib.pyplot as plt\n",
    "import seaborn as sns\n",
    "import gspread\n",
    "from oauth2client.service_account import ServiceAccountCredentials"
   ]
  },
  {
   "cell_type": "code",
   "execution_count": 2,
   "metadata": {},
   "outputs": [],
   "source": [
    "sns.set(style=\"white\")\n",
    "\n",
    "plt.rcParams['axes.titlesize'] = 20\n",
    "plt.rcParams['axes.labelsize'] = 20\n",
    "plt.rcParams['axes.linewidth'] = 3\n",
    "plt.rcParams['axes.labelpad'] = 15\n",
    "\n",
    "plt.rcParams['xtick.labelsize'] = 16\n",
    "plt.rcParams['xtick.major.size'] = 8\n",
    "plt.rcParams['xtick.major.width'] = 3\n",
    "\n",
    "plt.rcParams['ytick.labelsize'] = 16\n",
    "plt.rcParams['ytick.major.size'] = 8\n",
    "plt.rcParams['ytick.major.width'] = 3\n",
    "\n",
    "plt.rcParams['legend.fontsize'] = 14\n",
    "plt.rcParams['legend.markerscale'] = 1\n",
    "\n",
    "plt.rcParams['lines.markersize'] = 9\n",
    "plt.rcParams['lines.linewidth'] = 2"
   ]
  },
  {
   "cell_type": "markdown",
   "metadata": {},
   "source": [
    "### Credênciais para a API do Google"
   ]
  },
  {
   "cell_type": "code",
   "execution_count": 3,
   "metadata": {},
   "outputs": [],
   "source": [
    "scope = ['https://www.googleapis.com/auth/spreadsheets',\n",
    "        'https://www.googleapis.com/auth/drive']\n",
    "creds = ServiceAccountCredentials.from_json_keyfile_name('cred.json', scope)\n",
    "client = gspread.authorize(creds)"
   ]
  },
  {
   "cell_type": "markdown",
   "metadata": {},
   "source": [
    "### Lê o dataset organizado"
   ]
  },
  {
   "cell_type": "code",
   "execution_count": 4,
   "metadata": {},
   "outputs": [
    {
     "data": {
      "text/html": [
       "<div>\n",
       "<style scoped>\n",
       "    .dataframe tbody tr th:only-of-type {\n",
       "        vertical-align: middle;\n",
       "    }\n",
       "\n",
       "    .dataframe tbody tr th {\n",
       "        vertical-align: top;\n",
       "    }\n",
       "\n",
       "    .dataframe thead th {\n",
       "        text-align: right;\n",
       "    }\n",
       "</style>\n",
       "<table border=\"1\" class=\"dataframe\">\n",
       "  <thead>\n",
       "    <tr style=\"text-align: right;\">\n",
       "      <th></th>\n",
       "      <th>Data</th>\n",
       "      <th>Código</th>\n",
       "      <th>Mercado</th>\n",
       "      <th>Especificação</th>\n",
       "      <th>Tipo de Execução</th>\n",
       "      <th>Quantidade de C/V</th>\n",
       "      <th>Valor Total</th>\n",
       "      <th>Preço de C/V</th>\n",
       "      <th>Preço Atual</th>\n",
       "      <th>L/P</th>\n",
       "      <th>Quantidade Atual</th>\n",
       "    </tr>\n",
       "  </thead>\n",
       "  <tbody>\n",
       "    <tr>\n",
       "      <th>0</th>\n",
       "      <td>2019-07-11</td>\n",
       "      <td>CVCB3</td>\n",
       "      <td>Fracionário</td>\n",
       "      <td>CVC BRASIL   ON      NM</td>\n",
       "      <td>C</td>\n",
       "      <td>10.0</td>\n",
       "      <td>530.00</td>\n",
       "      <td>53.00</td>\n",
       "      <td>53.00</td>\n",
       "      <td>0.0</td>\n",
       "      <td>10.0</td>\n",
       "    </tr>\n",
       "    <tr>\n",
       "      <th>1</th>\n",
       "      <td>2019-07-11</td>\n",
       "      <td>PETR4</td>\n",
       "      <td>Fracionário</td>\n",
       "      <td>PETROBRAS    PN      N2</td>\n",
       "      <td>C</td>\n",
       "      <td>17.0</td>\n",
       "      <td>478.89</td>\n",
       "      <td>28.17</td>\n",
       "      <td>28.17</td>\n",
       "      <td>0.0</td>\n",
       "      <td>17.0</td>\n",
       "    </tr>\n",
       "    <tr>\n",
       "      <th>2</th>\n",
       "      <td>2019-07-11</td>\n",
       "      <td>RAIL3</td>\n",
       "      <td>Fracionário</td>\n",
       "      <td>RUMO S.A.    ON      NM</td>\n",
       "      <td>C</td>\n",
       "      <td>20.0</td>\n",
       "      <td>443.40</td>\n",
       "      <td>22.17</td>\n",
       "      <td>22.17</td>\n",
       "      <td>0.0</td>\n",
       "      <td>20.0</td>\n",
       "    </tr>\n",
       "    <tr>\n",
       "      <th>3</th>\n",
       "      <td>2019-07-11</td>\n",
       "      <td>VALE3</td>\n",
       "      <td>Fracionário</td>\n",
       "      <td>VALE         ON      NM</td>\n",
       "      <td>C</td>\n",
       "      <td>10.0</td>\n",
       "      <td>520.00</td>\n",
       "      <td>52.00</td>\n",
       "      <td>52.00</td>\n",
       "      <td>0.0</td>\n",
       "      <td>10.0</td>\n",
       "    </tr>\n",
       "    <tr>\n",
       "      <th>4</th>\n",
       "      <td>2019-07-19</td>\n",
       "      <td>CVCB3</td>\n",
       "      <td>Fracionário</td>\n",
       "      <td>CVC BRASIL   ON      NM</td>\n",
       "      <td>V</td>\n",
       "      <td>-10.0</td>\n",
       "      <td>487.00</td>\n",
       "      <td>48.70</td>\n",
       "      <td>53.00</td>\n",
       "      <td>-43.0</td>\n",
       "      <td>0.0</td>\n",
       "    </tr>\n",
       "  </tbody>\n",
       "</table>\n",
       "</div>"
      ],
      "text/plain": [
       "        Data Código      Mercado            Especificação Tipo de Execução  \\\n",
       "0 2019-07-11  CVCB3  Fracionário  CVC BRASIL   ON      NM                C   \n",
       "1 2019-07-11  PETR4  Fracionário  PETROBRAS    PN      N2                C   \n",
       "2 2019-07-11  RAIL3  Fracionário  RUMO S.A.    ON      NM                C   \n",
       "3 2019-07-11  VALE3  Fracionário  VALE         ON      NM                C   \n",
       "4 2019-07-19  CVCB3  Fracionário  CVC BRASIL   ON      NM                V   \n",
       "\n",
       "   Quantidade de C/V  Valor Total  Preço de C/V  Preço Atual   L/P  \\\n",
       "0               10.0       530.00         53.00        53.00   0.0   \n",
       "1               17.0       478.89         28.17        28.17   0.0   \n",
       "2               20.0       443.40         22.17        22.17   0.0   \n",
       "3               10.0       520.00         52.00        52.00   0.0   \n",
       "4              -10.0       487.00         48.70        53.00 -43.0   \n",
       "\n",
       "   Quantidade Atual  \n",
       "0              10.0  \n",
       "1              17.0  \n",
       "2              20.0  \n",
       "3              10.0  \n",
       "4               0.0  "
      ]
     },
     "execution_count": 4,
     "metadata": {},
     "output_type": "execute_result"
    }
   ],
   "source": [
    "df_ativos = pd.read_csv('Dataset_ações_2019.csv')\n",
    "df_ativos['Data'] = pd.to_datetime(df_ativos['Data'], format=\"%Y/%m/%d\")\n",
    "df_ativos.head()"
   ]
  },
  {
   "cell_type": "markdown",
   "metadata": {},
   "source": [
    "# Funções"
   ]
  },
  {
   "cell_type": "code",
   "execution_count": 5,
   "metadata": {},
   "outputs": [],
   "source": [
    "def carteira_de_acoes_atual(df):\n",
    "    \n",
    "    carteira = pd.DataFrame(columns=df.columns)\n",
    "\n",
    "    cods = df['Código'].unique()\n",
    "    \n",
    "    for cod in cods:\n",
    "\n",
    "        last_idx = df[df[['Código']] == cod].last_valid_index() \n",
    "\n",
    "        carteira = carteira.append(df.iloc[last_idx], ignore_index=True)\n",
    "\n",
    "    carteira = carteira[carteira['Quantidade Atual'] != 0.0]\n",
    "    \n",
    "    carteira.sort_values(by='Data', ascending=True, inplace=True)\n",
    "    \n",
    "    drop_columns = ['Especificação', 'Tipo de Execução', 'Quantidade de C/V', 'Mercado', 'Preço de C/V']\n",
    "    \n",
    "    carteira.drop(drop_columns, inplace=True, axis=1)\n",
    "    \n",
    "    carteira.rename(columns={'Preço Atual': '<Preço>'}, inplace=True)\n",
    "    \n",
    "    carteira.reset_index(drop=True, inplace=True)\n",
    "    \n",
    "    carteira['<Valor Total>'] = carteira['Quantidade Atual'] * carteira['<Preço>']\n",
    "    \n",
    "    carteira['Preço Atual'] = get_market_values(carteira['Código'])\n",
    "\n",
    "    carteira['Valor Total Atual'] = carteira['Quantidade Atual'] * carteira['Preço Atual']\n",
    "    \n",
    "    carteira['L/P'] = carteira['Quantidade Atual'] * ( carteira['Preço Atual'] - carteira['<Preço>'] )\n",
    "\n",
    "    carteira['L/P (%)'] = (carteira['L/P'] / (carteira['<Preço>'] * carteira['Quantidade Atual'])) * 100.0\n",
    "\n",
    "    carteira['L/P'] = carteira['L/P'].round(2)\n",
    "\n",
    "    carteira['L/P (%)'] = carteira['L/P (%)'].round(2) \n",
    "    \n",
    "    carteira['<Preço>'] = carteira['<Preço>'].round(2)\n",
    "    \n",
    "    \n",
    "    cols_ordenadas = ['Data', 'Código', 'Quantidade Atual', '<Preço>', '<Valor Total>',\n",
    "                      'Preço Atual', 'Valor Total Atual', 'L/P', 'L/P (%)']\n",
    "\n",
    "    return carteira[cols_ordenadas]"
   ]
  },
  {
   "cell_type": "code",
   "execution_count": 6,
   "metadata": {},
   "outputs": [],
   "source": [
    "def get_market_values(names):\n",
    "    \n",
    "    market_values = client.open('Google_Finance').sheet1\n",
    "\n",
    "    size = names.shape[0]\n",
    "    \n",
    "    cell_list = market_values.range('A1:A' + str(size))\n",
    "\n",
    "    for i, cell in enumerate(cell_list):\n",
    "        cell.value = names[i]\n",
    "        market_values.update_acell('B' + str(i + 1), '=GOOGLEFINANCE(A' + str(i + 1) + ';\"price\")')\n",
    "\n",
    "    market_values.update_cells(cell_list);\n",
    "\n",
    "    market_values = market_values.col_values(2)[0:size]\n",
    "    \n",
    "    market_values = [float(market_values[i].replace(',', '.')) for i in range(size)]\n",
    "      \n",
    "    return np.asarray(market_values)"
   ]
  },
  {
   "cell_type": "code",
   "execution_count": 7,
   "metadata": {},
   "outputs": [],
   "source": [
    "def update_carteira_online(carteira):\n",
    "\n",
    "    carteira['Data'] = carteira['Data'].dt.strftime('%d-%m-%Y')\n",
    "\n",
    "    carteira['Preço Atual'] = ['=GOOGLEFINANCE(B' + str(i) + '; \"price\")' for i in range(2, carteira.shape[0]+2)]\n",
    "\n",
    "    carteira['<Valor Total>'] = ['=D' + str(i) + ' * C' + str(i) for i in range(2, carteira.shape[0]+2)]\n",
    "\n",
    "    carteira['Valor Total Atual'] = ['=F' + str(i) + ' * C' + str(i) for i in range(2, carteira.shape[0]+2)]\n",
    "\n",
    "    carteira['L/P'] = ['=G' + str(i) + ' - E' + str(i) for i in range(2, carteira.shape[0]+2)]\n",
    "\n",
    "    carteira['L/P (%)'] = ['=(H' + str(i) + ' / E' + str(i) + ')' for i in range(2, carteira.shape[0]+2)]\n",
    "\n",
    "    google_sheet = client.open('Carteira de Ações').sheet1\n",
    "    google_sheet.clear()\n",
    "\n",
    "    google_sheet.insert_row(carteira.columns.to_list(), index=1)\n",
    "\n",
    "    for row in range(carteira.shape[0]):\n",
    "        google_sheet.insert_row(carteira.iloc[row].to_list(), index=row+2, value_input_option='USER_ENTERED')"
   ]
  },
  {
   "cell_type": "code",
   "execution_count": 8,
   "metadata": {},
   "outputs": [],
   "source": [
    "def save_last(df_all):\n",
    "    \n",
    "    df_carteira = pd.DataFrame(columns = df_all.columns)\n",
    "    df_carteira['Data Negócio'] = carteira['Data']\n",
    "    df_carteira['C/V'] = 'C'\n",
    "    df_carteira['Quantidade'] = carteira['Quantidade Atual']\n",
    "    df_carteira['Código'] = carteira['Código'].apply(lambda x: str(x) + 'F')\n",
    "    df_carteira['Preço (R$)'] = carteira['<Preço>']\n",
    "    df_carteira['Valor Total (R$)'] = carteira['<Valor Total>']\n",
    "    df_carteira['Mercado'] = 'Merc. Fracionário'\n",
    "\n",
    "    for cod in df_carteira['Código']:\n",
    "\n",
    "        df_carteira.loc[df_carteira['Código'] == cod, 'Especificação do Ativo'] = df_all.loc[df_all['Código'] == cod, 'Especificação do Ativo'].iloc[-1]\n",
    "\n",
    "    return df_carteira"
   ]
  },
  {
   "cell_type": "markdown",
   "metadata": {},
   "source": [
    "### Carteira Atual"
   ]
  },
  {
   "cell_type": "code",
   "execution_count": 9,
   "metadata": {},
   "outputs": [],
   "source": [
    "sheet = client.open(\"Carteira de Ações\").sheet1"
   ]
  },
  {
   "cell_type": "code",
   "execution_count": 10,
   "metadata": {},
   "outputs": [
    {
     "data": {
      "text/html": [
       "<div>\n",
       "<style scoped>\n",
       "    .dataframe tbody tr th:only-of-type {\n",
       "        vertical-align: middle;\n",
       "    }\n",
       "\n",
       "    .dataframe tbody tr th {\n",
       "        vertical-align: top;\n",
       "    }\n",
       "\n",
       "    .dataframe thead th {\n",
       "        text-align: right;\n",
       "    }\n",
       "</style>\n",
       "<table border=\"1\" class=\"dataframe\">\n",
       "  <thead>\n",
       "    <tr style=\"text-align: right;\">\n",
       "      <th></th>\n",
       "      <th>Data</th>\n",
       "      <th>Código</th>\n",
       "      <th>Quantidade Atual</th>\n",
       "      <th>&lt;Preço&gt;</th>\n",
       "      <th>&lt;Valor Total&gt;</th>\n",
       "      <th>Preço Atual</th>\n",
       "      <th>Valor Total Atual</th>\n",
       "      <th>L/P</th>\n",
       "      <th>L/P (%)</th>\n",
       "    </tr>\n",
       "  </thead>\n",
       "  <tbody>\n",
       "    <tr>\n",
       "      <th>0</th>\n",
       "      <td>2019-09-05</td>\n",
       "      <td>PETR4</td>\n",
       "      <td>39.0</td>\n",
       "      <td>26.38</td>\n",
       "      <td>1028.68</td>\n",
       "      <td>22.83</td>\n",
       "      <td>890.37</td>\n",
       "      <td>-138.31</td>\n",
       "      <td>-13.45</td>\n",
       "    </tr>\n",
       "    <tr>\n",
       "      <th>1</th>\n",
       "      <td>2019-09-05</td>\n",
       "      <td>VALE3</td>\n",
       "      <td>25.0</td>\n",
       "      <td>49.80</td>\n",
       "      <td>1244.95</td>\n",
       "      <td>44.61</td>\n",
       "      <td>1115.25</td>\n",
       "      <td>-129.70</td>\n",
       "      <td>-10.42</td>\n",
       "    </tr>\n",
       "    <tr>\n",
       "      <th>2</th>\n",
       "      <td>2019-09-05</td>\n",
       "      <td>MGLU3</td>\n",
       "      <td>33.0</td>\n",
       "      <td>34.86</td>\n",
       "      <td>1150.27</td>\n",
       "      <td>45.33</td>\n",
       "      <td>1495.89</td>\n",
       "      <td>345.62</td>\n",
       "      <td>30.05</td>\n",
       "    </tr>\n",
       "    <tr>\n",
       "      <th>3</th>\n",
       "      <td>2019-09-05</td>\n",
       "      <td>CYRE3</td>\n",
       "      <td>21.0</td>\n",
       "      <td>24.16</td>\n",
       "      <td>507.36</td>\n",
       "      <td>27.75</td>\n",
       "      <td>582.75</td>\n",
       "      <td>75.39</td>\n",
       "      <td>14.86</td>\n",
       "    </tr>\n",
       "    <tr>\n",
       "      <th>4</th>\n",
       "      <td>2019-09-12</td>\n",
       "      <td>VVAR3</td>\n",
       "      <td>100.0</td>\n",
       "      <td>7.76</td>\n",
       "      <td>775.80</td>\n",
       "      <td>11.56</td>\n",
       "      <td>1156.00</td>\n",
       "      <td>380.20</td>\n",
       "      <td>49.01</td>\n",
       "    </tr>\n",
       "    <tr>\n",
       "      <th>5</th>\n",
       "      <td>2019-10-01</td>\n",
       "      <td>EZTC3</td>\n",
       "      <td>15.0</td>\n",
       "      <td>36.42</td>\n",
       "      <td>546.30</td>\n",
       "      <td>44.10</td>\n",
       "      <td>661.50</td>\n",
       "      <td>115.20</td>\n",
       "      <td>21.09</td>\n",
       "    </tr>\n",
       "    <tr>\n",
       "      <th>6</th>\n",
       "      <td>2019-11-04</td>\n",
       "      <td>JBSS3</td>\n",
       "      <td>21.0</td>\n",
       "      <td>28.49</td>\n",
       "      <td>598.39</td>\n",
       "      <td>21.01</td>\n",
       "      <td>441.21</td>\n",
       "      <td>-157.18</td>\n",
       "      <td>-26.27</td>\n",
       "    </tr>\n",
       "    <tr>\n",
       "      <th>7</th>\n",
       "      <td>2019-11-04</td>\n",
       "      <td>LCAM3</td>\n",
       "      <td>29.0</td>\n",
       "      <td>17.75</td>\n",
       "      <td>514.75</td>\n",
       "      <td>19.15</td>\n",
       "      <td>555.35</td>\n",
       "      <td>40.60</td>\n",
       "      <td>7.89</td>\n",
       "    </tr>\n",
       "    <tr>\n",
       "      <th>8</th>\n",
       "      <td>2019-12-03</td>\n",
       "      <td>RAIL3</td>\n",
       "      <td>21.0</td>\n",
       "      <td>25.22</td>\n",
       "      <td>529.62</td>\n",
       "      <td>19.30</td>\n",
       "      <td>405.30</td>\n",
       "      <td>-124.32</td>\n",
       "      <td>-23.47</td>\n",
       "    </tr>\n",
       "    <tr>\n",
       "      <th>9</th>\n",
       "      <td>2019-12-03</td>\n",
       "      <td>KLBN11</td>\n",
       "      <td>29.0</td>\n",
       "      <td>18.15</td>\n",
       "      <td>526.35</td>\n",
       "      <td>20.98</td>\n",
       "      <td>608.42</td>\n",
       "      <td>82.07</td>\n",
       "      <td>15.59</td>\n",
       "    </tr>\n",
       "  </tbody>\n",
       "</table>\n",
       "</div>"
      ],
      "text/plain": [
       "        Data  Código  Quantidade Atual  <Preço>  <Valor Total>  Preço Atual  \\\n",
       "0 2019-09-05   PETR4              39.0    26.38        1028.68        22.83   \n",
       "1 2019-09-05   VALE3              25.0    49.80        1244.95        44.61   \n",
       "2 2019-09-05   MGLU3              33.0    34.86        1150.27        45.33   \n",
       "3 2019-09-05   CYRE3              21.0    24.16         507.36        27.75   \n",
       "4 2019-09-12   VVAR3             100.0     7.76         775.80        11.56   \n",
       "5 2019-10-01   EZTC3              15.0    36.42         546.30        44.10   \n",
       "6 2019-11-04   JBSS3              21.0    28.49         598.39        21.01   \n",
       "7 2019-11-04   LCAM3              29.0    17.75         514.75        19.15   \n",
       "8 2019-12-03   RAIL3              21.0    25.22         529.62        19.30   \n",
       "9 2019-12-03  KLBN11              29.0    18.15         526.35        20.98   \n",
       "\n",
       "   Valor Total Atual     L/P  L/P (%)  \n",
       "0             890.37 -138.31   -13.45  \n",
       "1            1115.25 -129.70   -10.42  \n",
       "2            1495.89  345.62    30.05  \n",
       "3             582.75   75.39    14.86  \n",
       "4            1156.00  380.20    49.01  \n",
       "5             661.50  115.20    21.09  \n",
       "6             441.21 -157.18   -26.27  \n",
       "7             555.35   40.60     7.89  \n",
       "8             405.30 -124.32   -23.47  \n",
       "9             608.42   82.07    15.59  "
      ]
     },
     "execution_count": 10,
     "metadata": {},
     "output_type": "execute_result"
    }
   ],
   "source": [
    "carteira = carteira_de_acoes_atual(df_ativos)\n",
    "carteira"
   ]
  },
  {
   "cell_type": "code",
   "execution_count": 11,
   "metadata": {},
   "outputs": [
    {
     "name": "stdout",
     "output_type": "stream",
     "text": [
      "Lucro ao zerar a carteira: 489.56999999999994\n"
     ]
    }
   ],
   "source": [
    "print('Lucro ao zerar a carteira: {0}'.format(carteira['L/P'].sum()))"
   ]
  },
  {
   "cell_type": "markdown",
   "metadata": {},
   "source": [
    "### Atualiza a carteira online"
   ]
  },
  {
   "cell_type": "code",
   "execution_count": 12,
   "metadata": {},
   "outputs": [],
   "source": [
    "#update_carteira_online(carteira.copy())"
   ]
  },
  {
   "cell_type": "markdown",
   "metadata": {},
   "source": [
    "### Salva a última carteira de ativos do ano"
   ]
  },
  {
   "cell_type": "code",
   "execution_count": 13,
   "metadata": {},
   "outputs": [],
   "source": [
    "#df_carteira = save_last(df_all)\n",
    "#df_carteira.to_csv('Ultima_carteira_2019.csv', index=False)"
   ]
  },
  {
   "cell_type": "markdown",
   "metadata": {},
   "source": [
    "# Visualizações"
   ]
  },
  {
   "cell_type": "code",
   "execution_count": 14,
   "metadata": {},
   "outputs": [],
   "source": [
    "from ipywidgets import interact, interactive, fixed, interact_manual\n",
    "import ipywidgets as widgets"
   ]
  },
  {
   "cell_type": "markdown",
   "metadata": {},
   "source": [
    "## Carteira Atual"
   ]
  },
  {
   "cell_type": "code",
   "execution_count": 18,
   "metadata": {},
   "outputs": [
    {
     "data": {
      "application/vnd.jupyter.widget-view+json": {
       "model_id": "7b8416e0c35c466396b30ea5282f4899",
       "version_major": 2,
       "version_minor": 0
      },
      "text/plain": [
       "interactive(children=(Dropdown(description='col_name', options=('Quantidade Atual', '<Preço>', '<Valor Total>'…"
      ]
     },
     "metadata": {},
     "output_type": "display_data"
    }
   ],
   "source": [
    "def f(col_name):\n",
    "    \n",
    "    plt.figure(figsize=[15, 9])\n",
    "    \n",
    "    df = carteira\n",
    "    \n",
    "    if col_name == 'L/P':\n",
    "        \n",
    "        tot = pd.DataFrame(data={'Código': ['Total'], col_name: [carteira[col_name].sum().round(2)]})\n",
    "\n",
    "        df = carteira.append(tot, ignore_index=True)\n",
    "\n",
    "    \n",
    "        \n",
    "    palette_c = ['r' if c < 0.0 else 'b' for c in df[col_name]]\n",
    "\n",
    "    g = sns.barplot(data = df, x = 'Código', y = col_name, palette=palette_c)\n",
    "\n",
    "    for index, row in df[[col_name]].reset_index().values:\n",
    "        g.text(index, row, np.round(row, 2), color='black', ha=\"center\", va='bottom',\n",
    "               fontsize='large', fontweight='bold')\n",
    "\n",
    "\n",
    "    plt.hlines(y=0, xmax=df.shape[0], xmin=-1)\n",
    "    plt.title('Carteira Atual')\n",
    "    plt.ylabel(col_name)\n",
    "    plt.xlabel('')\n",
    "    plt.show()\n",
    "\n",
    "interactive(f, col_name=carteira.columns[2:].to_list())"
   ]
  },
  {
   "cell_type": "markdown",
   "metadata": {},
   "source": [
    "## Lucro por mês"
   ]
  },
  {
   "cell_type": "code",
   "execution_count": 20,
   "metadata": {},
   "outputs": [],
   "source": [
    "lucro_df = df_ativos.loc[(df_ativos['L/P'] != 0.0), ['Data', 'Código', 'L/P']]\n",
    "lucro_df['Mês'] = lucro_df['Data'].dt.strftime('%b')\n",
    "lucro_df = lucro_df.groupby(['Mês', 'Código'], sort=False).sum()"
   ]
  },
  {
   "cell_type": "code",
   "execution_count": 21,
   "metadata": {},
   "outputs": [],
   "source": [
    "months = lucro_df.reset_index()['Mês'].unique()"
   ]
  },
  {
   "cell_type": "code",
   "execution_count": 22,
   "metadata": {},
   "outputs": [
    {
     "data": {
      "application/vnd.jupyter.widget-view+json": {
       "model_id": "9ab1f5f0858a40c799afbfeded18c4d0",
       "version_major": 2,
       "version_minor": 0
      },
      "text/plain": [
       "interactive(children=(Dropdown(description='month', options=('Jul', 'Aug', 'Sep', 'Oct', 'Nov', 'Dec'), value=…"
      ]
     },
     "metadata": {},
     "output_type": "display_data"
    }
   ],
   "source": [
    "def f(month):\n",
    "    \n",
    "    df = lucro_df.loc[month].reset_index()\n",
    "    \n",
    "    tot = pd.DataFrame(data={'Código': ['Total'], 'L/P': [df['L/P'].sum().round(2)]})\n",
    "    \n",
    "    df = df.append(tot, ignore_index=True)\n",
    "    \n",
    "    palette_c = ['r' if c < 0.0 else 'b' for c in df['L/P']]\n",
    "    \n",
    "    plt.figure(figsize=[15, 9])\n",
    "\n",
    "    g = sns.barplot(data = df, x = 'Código', y = 'L/P', palette=palette_c)\n",
    "\n",
    "    for index, row in df[['L/P']].reset_index().values:\n",
    "        g.text(index, row, np.round(row, 2), color='black', ha=\"center\", va='bottom',\n",
    "           fontsize='large', fontweight='bold')\n",
    "        \n",
    "    plt.hlines(y=0, xmax=df.shape[0], xmin=-1)\n",
    "    plt.ylabel('Lucro  (R$)')\n",
    "    plt.xlabel('')\n",
    "    \n",
    "    plt.show()\n",
    "\n",
    "interactive(f, month=months)"
   ]
  },
  {
   "cell_type": "markdown",
   "metadata": {},
   "source": [
    "## Lucro no ano"
   ]
  },
  {
   "cell_type": "code",
   "execution_count": 23,
   "metadata": {},
   "outputs": [],
   "source": [
    "lucro_mes = df_ativos.loc[(df_ativos['L/P'] != 0.0), ['Data', 'L/P']]\n",
    "lucro_mes['Mês'] = lucro_mes['Data'].dt.strftime('%b')\n",
    "lucro_mes = lucro_mes.groupby(['Mês'], sort=False).sum().reset_index()"
   ]
  },
  {
   "cell_type": "code",
   "execution_count": 24,
   "metadata": {},
   "outputs": [
    {
     "data": {
      "image/png": "[encoded data removed]",
      "text/plain": [
       "<Figure size 1080x648 with 1 Axes>"
      ]
     },
     "metadata": {},
     "output_type": "display_data"
    }
   ],
   "source": [
    "plt.figure(figsize=[15, 9])\n",
    "\n",
    "tot = pd.DataFrame(data={'Mês': ['Ano'], 'L/P': [lucro_mes['L/P'].sum().round(2)]})\n",
    "    \n",
    "df = lucro_mes.append(tot, ignore_index=True)\n",
    "\n",
    "palette_c = ['r' if c < 0.0 else 'b' for c in df['L/P']]\n",
    "\n",
    "g = sns.barplot(data = df, x = 'Mês', y = 'L/P', palette=palette_c)\n",
    "\n",
    "for index, row in df[['L/P']].reset_index().values:\n",
    "    g.text(index, row, np.round(row, 2), color='black', ha=\"center\", va='bottom',\n",
    "           fontsize='large', fontweight='bold')\n",
    "\n",
    "plt.hlines(y=0, xmax=df.shape[0], xmin=-1)\n",
    "plt.ylabel('Lucro  (R$)')\n",
    "plt.xlabel('')\n",
    "plt.show()"
   ]
  },
  {
   "cell_type": "code",
   "execution_count": null,
   "metadata": {},
   "outputs": [],
   "source": []
  }
 ],
 "metadata": {
  "kernelspec": {
   "display_name": "Python 3",
   "language": "python",
   "name": "python3"
  },
  "language_info": {
   "codemirror_mode": {
    "name": "ipython",
    "version": 3
   },
   "file_extension": ".py",
   "mimetype": "text/x-python",
   "name": "python",
   "nbconvert_exporter": "python",
   "pygments_lexer": "ipython3",
   "version": "3.7.6"
  }
 },
 "nbformat": 4,
 "nbformat_minor": 4
}
