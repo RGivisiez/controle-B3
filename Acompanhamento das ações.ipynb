{
 "cells": [
  {
   "cell_type": "markdown",
   "metadata": {},
   "source": [
    "# Controle da carteira de ações (Swing Trade)"
   ]
  },
  {
   "cell_type": "markdown",
   "metadata": {},
   "source": [
    "### Referências para o programa.\n",
    "\n",
    "[Link](https://gspread.readthedocs.io/en/latest/api.html#module-gspread.utils) de uma documentação\n",
    "das planilhas do google.\n",
    "\n",
    "[Link](https://www.twilio.com/blog/2017/02/an-easy-way-to-read-and-write-to-a-google-spreadsheet-in-python.html) descrevendo como fazer para pegar as autenticações do google spreadsheet."
   ]
  },
  {
   "cell_type": "code",
   "execution_count": 2,
   "metadata": {},
   "outputs": [],
   "source": [
    "import pandas as pd\n",
    "import numpy as np\n",
    "import matplotlib.pyplot as plt\n",
    "import seaborn as sns\n",
    "import gspread\n",
    "from oauth2client.service_account import ServiceAccountCredentials"
   ]
  },
  {
   "cell_type": "code",
   "execution_count": 3,
   "metadata": {},
   "outputs": [],
   "source": [
    "sns.set(style=\"white\")\n",
    "\n",
    "plt.rcParams['axes.titlesize'] = 20\n",
    "plt.rcParams['axes.labelsize'] = 20\n",
    "plt.rcParams['axes.linewidth'] = 3\n",
    "plt.rcParams['axes.labelpad'] = 15\n",
    "\n",
    "plt.rcParams['xtick.labelsize'] = 16\n",
    "plt.rcParams['xtick.major.size'] = 8\n",
    "plt.rcParams['xtick.major.width'] = 3\n",
    "\n",
    "plt.rcParams['ytick.labelsize'] = 16\n",
    "plt.rcParams['ytick.major.size'] = 8\n",
    "plt.rcParams['ytick.major.width'] = 3\n",
    "\n",
    "plt.rcParams['legend.fontsize'] = 14\n",
    "plt.rcParams['legend.markerscale'] = 1\n",
    "\n",
    "plt.rcParams['lines.markersize'] = 9\n",
    "plt.rcParams['lines.linewidth'] = 2"
   ]
  },
  {
   "cell_type": "markdown",
   "metadata": {},
   "source": [
    "### Credênciais para a API do Google"
   ]
  },
  {
   "cell_type": "code",
   "execution_count": 12,
   "metadata": {},
   "outputs": [],
   "source": [
    "scope = ['https://www.googleapis.com/auth/spreadsheets',\n",
    "        'https://www.googleapis.com/auth/drive']\n",
    "creds = ServiceAccountCredentials.from_json_keyfile_name('cred.json', scope)\n",
    "client = gspread.authorize(creds)"
   ]
  },
  {
   "cell_type": "markdown",
   "metadata": {},
   "source": [
    "### Lê o dataset organizado"
   ]
  },
  {
   "cell_type": "code",
   "execution_count": 4,
   "metadata": {},
   "outputs": [
    {
     "data": {
      "text/html": [
       "<div>\n",
       "<style scoped>\n",
       "    .dataframe tbody tr th:only-of-type {\n",
       "        vertical-align: middle;\n",
       "    }\n",
       "\n",
       "    .dataframe tbody tr th {\n",
       "        vertical-align: top;\n",
       "    }\n",
       "\n",
       "    .dataframe thead th {\n",
       "        text-align: right;\n",
       "    }\n",
       "</style>\n",
       "<table border=\"1\" class=\"dataframe\">\n",
       "  <thead>\n",
       "    <tr style=\"text-align: right;\">\n",
       "      <th></th>\n",
       "      <th>Data</th>\n",
       "      <th>Código</th>\n",
       "      <th>Mercado</th>\n",
       "      <th>Especificação</th>\n",
       "      <th>Tipo de Execução</th>\n",
       "      <th>Quantidade de C/V</th>\n",
       "      <th>Valor Total</th>\n",
       "      <th>Preço de C/V</th>\n",
       "      <th>Preço Atual</th>\n",
       "      <th>L/P</th>\n",
       "      <th>Quantidade Atual</th>\n",
       "    </tr>\n",
       "  </thead>\n",
       "  <tbody>\n",
       "    <tr>\n",
       "      <th>0</th>\n",
       "      <td>2019-07-11</td>\n",
       "      <td>CVCB3</td>\n",
       "      <td>Fracionário</td>\n",
       "      <td>CVC BRASIL   ON      NM</td>\n",
       "      <td>C</td>\n",
       "      <td>10.0</td>\n",
       "      <td>530.00</td>\n",
       "      <td>53.00</td>\n",
       "      <td>53.00</td>\n",
       "      <td>0.0</td>\n",
       "      <td>10.0</td>\n",
       "    </tr>\n",
       "    <tr>\n",
       "      <th>1</th>\n",
       "      <td>2019-07-11</td>\n",
       "      <td>PETR4</td>\n",
       "      <td>Fracionário</td>\n",
       "      <td>PETROBRAS    PN      N2</td>\n",
       "      <td>C</td>\n",
       "      <td>17.0</td>\n",
       "      <td>478.89</td>\n",
       "      <td>28.17</td>\n",
       "      <td>28.17</td>\n",
       "      <td>0.0</td>\n",
       "      <td>17.0</td>\n",
       "    </tr>\n",
       "    <tr>\n",
       "      <th>2</th>\n",
       "      <td>2019-07-11</td>\n",
       "      <td>RAIL3</td>\n",
       "      <td>Fracionário</td>\n",
       "      <td>RUMO S.A.    ON      NM</td>\n",
       "      <td>C</td>\n",
       "      <td>20.0</td>\n",
       "      <td>443.40</td>\n",
       "      <td>22.17</td>\n",
       "      <td>22.17</td>\n",
       "      <td>0.0</td>\n",
       "      <td>20.0</td>\n",
       "    </tr>\n",
       "    <tr>\n",
       "      <th>3</th>\n",
       "      <td>2019-07-11</td>\n",
       "      <td>VALE3</td>\n",
       "      <td>Fracionário</td>\n",
       "      <td>VALE         ON      NM</td>\n",
       "      <td>C</td>\n",
       "      <td>10.0</td>\n",
       "      <td>520.00</td>\n",
       "      <td>52.00</td>\n",
       "      <td>52.00</td>\n",
       "      <td>0.0</td>\n",
       "      <td>10.0</td>\n",
       "    </tr>\n",
       "    <tr>\n",
       "      <th>4</th>\n",
       "      <td>2019-07-19</td>\n",
       "      <td>CVCB3</td>\n",
       "      <td>Fracionário</td>\n",
       "      <td>CVC BRASIL   ON      NM</td>\n",
       "      <td>V</td>\n",
       "      <td>-10.0</td>\n",
       "      <td>487.00</td>\n",
       "      <td>48.70</td>\n",
       "      <td>53.00</td>\n",
       "      <td>-43.0</td>\n",
       "      <td>0.0</td>\n",
       "    </tr>\n",
       "  </tbody>\n",
       "</table>\n",
       "</div>"
      ],
      "text/plain": [
       "        Data Código      Mercado            Especificação Tipo de Execução  \\\n",
       "0 2019-07-11  CVCB3  Fracionário  CVC BRASIL   ON      NM                C   \n",
       "1 2019-07-11  PETR4  Fracionário  PETROBRAS    PN      N2                C   \n",
       "2 2019-07-11  RAIL3  Fracionário  RUMO S.A.    ON      NM                C   \n",
       "3 2019-07-11  VALE3  Fracionário  VALE         ON      NM                C   \n",
       "4 2019-07-19  CVCB3  Fracionário  CVC BRASIL   ON      NM                V   \n",
       "\n",
       "   Quantidade de C/V  Valor Total  Preço de C/V  Preço Atual   L/P  \\\n",
       "0               10.0       530.00         53.00        53.00   0.0   \n",
       "1               17.0       478.89         28.17        28.17   0.0   \n",
       "2               20.0       443.40         22.17        22.17   0.0   \n",
       "3               10.0       520.00         52.00        52.00   0.0   \n",
       "4              -10.0       487.00         48.70        53.00 -43.0   \n",
       "\n",
       "   Quantidade Atual  \n",
       "0              10.0  \n",
       "1              17.0  \n",
       "2              20.0  \n",
       "3              10.0  \n",
       "4               0.0  "
      ]
     },
     "execution_count": 4,
     "metadata": {},
     "output_type": "execute_result"
    }
   ],
   "source": [
    "df_ativos = pd.read_csv('Dataset_ações_2019.csv')\n",
    "df_ativos['Data'] = pd.to_datetime(df_ativos['Data'], format=\"%Y/%m/%d\")\n",
    "df_ativos.head()"
   ]
  },
  {
   "cell_type": "code",
   "execution_count": 7,
   "metadata": {},
   "outputs": [
    {
     "data": {
      "text/html": [
       "<div>\n",
       "<style scoped>\n",
       "    .dataframe tbody tr th:only-of-type {\n",
       "        vertical-align: middle;\n",
       "    }\n",
       "\n",
       "    .dataframe tbody tr th {\n",
       "        vertical-align: top;\n",
       "    }\n",
       "\n",
       "    .dataframe thead th {\n",
       "        text-align: right;\n",
       "    }\n",
       "</style>\n",
       "<table border=\"1\" class=\"dataframe\">\n",
       "  <thead>\n",
       "    <tr style=\"text-align: right;\">\n",
       "      <th></th>\n",
       "      <th>Ativo</th>\n",
       "      <th>Especificação</th>\n",
       "      <th>Código</th>\n",
       "      <th>Tipo</th>\n",
       "      <th>Previsão</th>\n",
       "      <th>Valor</th>\n",
       "      <th>Corretora</th>\n",
       "      <th>Recebi</th>\n",
       "    </tr>\n",
       "  </thead>\n",
       "  <tbody>\n",
       "    <tr>\n",
       "      <th>0</th>\n",
       "      <td>PETROBRAS</td>\n",
       "      <td>PN N2</td>\n",
       "      <td>PETR4</td>\n",
       "      <td>jcp</td>\n",
       "      <td>2019-10-01</td>\n",
       "      <td>3.40</td>\n",
       "      <td>modal</td>\n",
       "      <td>s</td>\n",
       "    </tr>\n",
       "    <tr>\n",
       "      <th>1</th>\n",
       "      <td>MAGAZ LUIZA</td>\n",
       "      <td>ON NM</td>\n",
       "      <td>MGLU3</td>\n",
       "      <td>jcp</td>\n",
       "      <td>NaT</td>\n",
       "      <td>2.06</td>\n",
       "      <td>modal</td>\n",
       "      <td>n</td>\n",
       "    </tr>\n",
       "    <tr>\n",
       "      <th>2</th>\n",
       "      <td>MAGAZ LUIZA</td>\n",
       "      <td>ON NM</td>\n",
       "      <td>MGLU3</td>\n",
       "      <td>jcp</td>\n",
       "      <td>NaT</td>\n",
       "      <td>1.01</td>\n",
       "      <td>modal</td>\n",
       "      <td>n</td>\n",
       "    </tr>\n",
       "    <tr>\n",
       "      <th>3</th>\n",
       "      <td>PETROBRAS</td>\n",
       "      <td>PN N2</td>\n",
       "      <td>PETR4</td>\n",
       "      <td>jcp</td>\n",
       "      <td>2020-02-01</td>\n",
       "      <td>6.63</td>\n",
       "      <td>modal</td>\n",
       "      <td>s</td>\n",
       "    </tr>\n",
       "    <tr>\n",
       "      <th>4</th>\n",
       "      <td>PETROBRAS</td>\n",
       "      <td>PN N2</td>\n",
       "      <td>PETR4</td>\n",
       "      <td>jcp</td>\n",
       "      <td>2020-02-01</td>\n",
       "      <td>13.93</td>\n",
       "      <td>modal</td>\n",
       "      <td>s</td>\n",
       "    </tr>\n",
       "  </tbody>\n",
       "</table>\n",
       "</div>"
      ],
      "text/plain": [
       "         Ativo Especificação Código Tipo   Previsão  Valor Corretora Recebi\n",
       "0    PETROBRAS         PN N2  PETR4  jcp 2019-10-01   3.40     modal      s\n",
       "1  MAGAZ LUIZA         ON NM  MGLU3  jcp        NaT   2.06     modal      n\n",
       "2  MAGAZ LUIZA         ON NM  MGLU3  jcp        NaT   1.01     modal      n\n",
       "3    PETROBRAS         PN N2  PETR4  jcp 2020-02-01   6.63     modal      s\n",
       "4    PETROBRAS         PN N2  PETR4  jcp 2020-02-01  13.93     modal      s"
      ]
     },
     "execution_count": 7,
     "metadata": {},
     "output_type": "execute_result"
    }
   ],
   "source": [
    "df_proventos = pd.read_excel('Proventos - 2019.xlsx')\n",
    "df_proventos.head()"
   ]
  },
  {
   "cell_type": "markdown",
   "metadata": {},
   "source": [
    "# Funções"
   ]
  },
  {
   "cell_type": "code",
   "execution_count": 8,
   "metadata": {},
   "outputs": [],
   "source": [
    "def carteira_de_acoes_atual(df):\n",
    "    \n",
    "    carteira = pd.DataFrame(columns=df.columns)\n",
    "\n",
    "    cods = df['Código'].unique()\n",
    "    \n",
    "    for cod in cods:\n",
    "\n",
    "        last_idx = df[df[['Código']] == cod].last_valid_index() \n",
    "\n",
    "        carteira = carteira.append(df.iloc[last_idx], ignore_index=True)\n",
    "\n",
    "    carteira = carteira[carteira['Quantidade Atual'] != 0.0]\n",
    "    \n",
    "    carteira.sort_values(by='Data', ascending=True, inplace=True)\n",
    "    \n",
    "    drop_columns = ['Especificação', 'Tipo de Execução', 'Quantidade de C/V', 'Mercado', 'Preço de C/V']\n",
    "    \n",
    "    carteira.drop(drop_columns, inplace=True, axis=1)\n",
    "    \n",
    "    carteira.rename(columns={'Preço Atual': '<Preço>'}, inplace=True)\n",
    "    \n",
    "    carteira.reset_index(drop=True, inplace=True)\n",
    "    \n",
    "    carteira['<Valor Total>'] = carteira['Quantidade Atual'] * carteira['<Preço>']\n",
    "    \n",
    "    carteira['Preço Atual'] = get_market_values(carteira['Código'])\n",
    "\n",
    "    carteira['Valor Total Atual'] = carteira['Quantidade Atual'] * carteira['Preço Atual']\n",
    "    \n",
    "    carteira['L/P'] = carteira['Quantidade Atual'] * ( carteira['Preço Atual'] - carteira['<Preço>'] )\n",
    "\n",
    "    carteira['L/P (%)'] = (carteira['L/P'] / (carteira['<Preço>'] * carteira['Quantidade Atual'])) * 100.0\n",
    "\n",
    "    carteira['L/P'] = carteira['L/P'].round(2)\n",
    "\n",
    "    carteira['L/P (%)'] = carteira['L/P (%)'].round(2) \n",
    "    \n",
    "    carteira['<Preço>'] = carteira['<Preço>'].round(2)\n",
    "    \n",
    "    \n",
    "    cols_ordenadas = ['Data', 'Código', 'Quantidade Atual', '<Preço>', '<Valor Total>',\n",
    "                      'Preço Atual', 'Valor Total Atual', 'L/P', 'L/P (%)']\n",
    "\n",
    "    return carteira[cols_ordenadas]"
   ]
  },
  {
   "cell_type": "code",
   "execution_count": 9,
   "metadata": {},
   "outputs": [],
   "source": [
    "def get_market_values(names):\n",
    "    \n",
    "    market_values = client.open('Google_Finance').sheet1\n",
    "\n",
    "    size = names.shape[0]\n",
    "    \n",
    "    cell_list = market_values.range('A1:A' + str(size))\n",
    "\n",
    "    for i, cell in enumerate(cell_list):\n",
    "        cell.value = names[i]\n",
    "        market_values.update_acell('B' + str(i + 1), '=GOOGLEFINANCE(A' + str(i + 1) + ';\"price\")')\n",
    "\n",
    "    market_values.update_cells(cell_list);\n",
    "\n",
    "    market_values = market_values.col_values(2)[0:size]\n",
    "    \n",
    "    market_values = [float(market_values[i].replace(',', '.')) for i in range(size)]\n",
    "      \n",
    "    return np.asarray(market_values)"
   ]
  },
  {
   "cell_type": "code",
   "execution_count": 10,
   "metadata": {},
   "outputs": [],
   "source": [
    "def update_carteira_online(carteira):\n",
    "\n",
    "    carteira['Data'] = carteira['Data'].dt.strftime('%d-%m-%Y')\n",
    "\n",
    "    carteira['Preço Atual'] = ['=GOOGLEFINANCE(B' + str(i) + '; \"price\")' for i in range(2, carteira.shape[0]+2)]\n",
    "\n",
    "    carteira['<Valor Total>'] = ['=D' + str(i) + ' * C' + str(i) for i in range(2, carteira.shape[0]+2)]\n",
    "\n",
    "    carteira['Valor Total Atual'] = ['=F' + str(i) + ' * C' + str(i) for i in range(2, carteira.shape[0]+2)]\n",
    "\n",
    "    carteira['L/P'] = ['=G' + str(i) + ' - E' + str(i) for i in range(2, carteira.shape[0]+2)]\n",
    "\n",
    "    carteira['L/P (%)'] = ['=(H' + str(i) + ' / E' + str(i) + ')' for i in range(2, carteira.shape[0]+2)]\n",
    "\n",
    "    google_sheet = client.open('Carteira de Ações').sheet1\n",
    "    google_sheet.clear()\n",
    "\n",
    "    google_sheet.insert_row(carteira.columns.to_list(), index=1)\n",
    "\n",
    "    for row in range(carteira.shape[0]):\n",
    "        google_sheet.insert_row(carteira.iloc[row].to_list(), index=row+2, value_input_option='USER_ENTERED')"
   ]
  },
  {
   "cell_type": "code",
   "execution_count": 11,
   "metadata": {},
   "outputs": [],
   "source": [
    "def save_last(df_all):\n",
    "    \n",
    "    df_carteira = pd.DataFrame(columns = df_all.columns)\n",
    "    df_carteira['Data Negócio'] = carteira['Data']\n",
    "    df_carteira['C/V'] = 'C'\n",
    "    df_carteira['Quantidade'] = carteira['Quantidade Atual']\n",
    "    df_carteira['Código'] = carteira['Código'].apply(lambda x: str(x) + 'F')\n",
    "    df_carteira['Preço (R$)'] = carteira['<Preço>']\n",
    "    df_carteira['Valor Total (R$)'] = carteira['<Valor Total>']\n",
    "    df_carteira['Mercado'] = 'Merc. Fracionário'\n",
    "\n",
    "    for cod in df_carteira['Código']:\n",
    "\n",
    "        df_carteira.loc[df_carteira['Código'] == cod, 'Especificação do Ativo'] = df_all.loc[df_all['Código'] == cod, 'Especificação do Ativo'].iloc[-1]\n",
    "\n",
    "    return df_carteira"
   ]
  },
  {
   "cell_type": "markdown",
   "metadata": {},
   "source": [
    "### Carteira Atual"
   ]
  },
  {
   "cell_type": "code",
   "execution_count": 13,
   "metadata": {},
   "outputs": [],
   "source": [
    "sheet = client.open(\"Carteira de Ações\").sheet1"
   ]
  },
  {
   "cell_type": "code",
   "execution_count": 14,
   "metadata": {},
   "outputs": [
    {
     "data": {
      "text/html": [
       "<div>\n",
       "<style scoped>\n",
       "    .dataframe tbody tr th:only-of-type {\n",
       "        vertical-align: middle;\n",
       "    }\n",
       "\n",
       "    .dataframe tbody tr th {\n",
       "        vertical-align: top;\n",
       "    }\n",
       "\n",
       "    .dataframe thead th {\n",
       "        text-align: right;\n",
       "    }\n",
       "</style>\n",
       "<table border=\"1\" class=\"dataframe\">\n",
       "  <thead>\n",
       "    <tr style=\"text-align: right;\">\n",
       "      <th></th>\n",
       "      <th>Data</th>\n",
       "      <th>Código</th>\n",
       "      <th>Quantidade Atual</th>\n",
       "      <th>&lt;Preço&gt;</th>\n",
       "      <th>&lt;Valor Total&gt;</th>\n",
       "      <th>Preço Atual</th>\n",
       "      <th>Valor Total Atual</th>\n",
       "      <th>L/P</th>\n",
       "      <th>L/P (%)</th>\n",
       "    </tr>\n",
       "  </thead>\n",
       "  <tbody>\n",
       "    <tr>\n",
       "      <th>0</th>\n",
       "      <td>2019-09-05</td>\n",
       "      <td>PETR4</td>\n",
       "      <td>39.0</td>\n",
       "      <td>26.38</td>\n",
       "      <td>1028.68</td>\n",
       "      <td>16.05</td>\n",
       "      <td>625.95</td>\n",
       "      <td>-402.73</td>\n",
       "      <td>-39.15</td>\n",
       "    </tr>\n",
       "    <tr>\n",
       "      <th>1</th>\n",
       "      <td>2019-09-05</td>\n",
       "      <td>VALE3</td>\n",
       "      <td>25.0</td>\n",
       "      <td>49.80</td>\n",
       "      <td>1244.95</td>\n",
       "      <td>37.83</td>\n",
       "      <td>945.75</td>\n",
       "      <td>-299.20</td>\n",
       "      <td>-24.03</td>\n",
       "    </tr>\n",
       "    <tr>\n",
       "      <th>2</th>\n",
       "      <td>2019-09-05</td>\n",
       "      <td>MGLU3</td>\n",
       "      <td>33.0</td>\n",
       "      <td>34.86</td>\n",
       "      <td>1150.27</td>\n",
       "      <td>40.36</td>\n",
       "      <td>1331.88</td>\n",
       "      <td>181.61</td>\n",
       "      <td>15.79</td>\n",
       "    </tr>\n",
       "    <tr>\n",
       "      <th>3</th>\n",
       "      <td>2019-09-05</td>\n",
       "      <td>CYRE3</td>\n",
       "      <td>21.0</td>\n",
       "      <td>24.16</td>\n",
       "      <td>507.36</td>\n",
       "      <td>23.12</td>\n",
       "      <td>485.52</td>\n",
       "      <td>-21.84</td>\n",
       "      <td>-4.30</td>\n",
       "    </tr>\n",
       "    <tr>\n",
       "      <th>4</th>\n",
       "      <td>2019-09-12</td>\n",
       "      <td>VVAR3</td>\n",
       "      <td>100.0</td>\n",
       "      <td>7.76</td>\n",
       "      <td>775.80</td>\n",
       "      <td>9.58</td>\n",
       "      <td>958.00</td>\n",
       "      <td>182.20</td>\n",
       "      <td>23.49</td>\n",
       "    </tr>\n",
       "    <tr>\n",
       "      <th>5</th>\n",
       "      <td>2019-10-01</td>\n",
       "      <td>EZTC3</td>\n",
       "      <td>15.0</td>\n",
       "      <td>36.42</td>\n",
       "      <td>546.30</td>\n",
       "      <td>38.80</td>\n",
       "      <td>582.00</td>\n",
       "      <td>35.70</td>\n",
       "      <td>6.53</td>\n",
       "    </tr>\n",
       "    <tr>\n",
       "      <th>6</th>\n",
       "      <td>2019-11-04</td>\n",
       "      <td>JBSS3</td>\n",
       "      <td>21.0</td>\n",
       "      <td>28.49</td>\n",
       "      <td>598.39</td>\n",
       "      <td>18.00</td>\n",
       "      <td>378.00</td>\n",
       "      <td>-220.39</td>\n",
       "      <td>-36.83</td>\n",
       "    </tr>\n",
       "    <tr>\n",
       "      <th>7</th>\n",
       "      <td>2019-11-04</td>\n",
       "      <td>LCAM3</td>\n",
       "      <td>29.0</td>\n",
       "      <td>17.75</td>\n",
       "      <td>514.75</td>\n",
       "      <td>16.55</td>\n",
       "      <td>479.95</td>\n",
       "      <td>-34.80</td>\n",
       "      <td>-6.76</td>\n",
       "    </tr>\n",
       "    <tr>\n",
       "      <th>8</th>\n",
       "      <td>2019-12-03</td>\n",
       "      <td>RAIL3</td>\n",
       "      <td>21.0</td>\n",
       "      <td>25.22</td>\n",
       "      <td>529.62</td>\n",
       "      <td>17.35</td>\n",
       "      <td>364.35</td>\n",
       "      <td>-165.27</td>\n",
       "      <td>-31.21</td>\n",
       "    </tr>\n",
       "    <tr>\n",
       "      <th>9</th>\n",
       "      <td>2019-12-03</td>\n",
       "      <td>KLBN11</td>\n",
       "      <td>29.0</td>\n",
       "      <td>18.15</td>\n",
       "      <td>526.35</td>\n",
       "      <td>19.59</td>\n",
       "      <td>568.11</td>\n",
       "      <td>41.76</td>\n",
       "      <td>7.93</td>\n",
       "    </tr>\n",
       "  </tbody>\n",
       "</table>\n",
       "</div>"
      ],
      "text/plain": [
       "        Data  Código  Quantidade Atual  <Preço>  <Valor Total>  Preço Atual  \\\n",
       "0 2019-09-05   PETR4              39.0    26.38        1028.68        16.05   \n",
       "1 2019-09-05   VALE3              25.0    49.80        1244.95        37.83   \n",
       "2 2019-09-05   MGLU3              33.0    34.86        1150.27        40.36   \n",
       "3 2019-09-05   CYRE3              21.0    24.16         507.36        23.12   \n",
       "4 2019-09-12   VVAR3             100.0     7.76         775.80         9.58   \n",
       "5 2019-10-01   EZTC3              15.0    36.42         546.30        38.80   \n",
       "6 2019-11-04   JBSS3              21.0    28.49         598.39        18.00   \n",
       "7 2019-11-04   LCAM3              29.0    17.75         514.75        16.55   \n",
       "8 2019-12-03   RAIL3              21.0    25.22         529.62        17.35   \n",
       "9 2019-12-03  KLBN11              29.0    18.15         526.35        19.59   \n",
       "\n",
       "   Valor Total Atual     L/P  L/P (%)  \n",
       "0             625.95 -402.73   -39.15  \n",
       "1             945.75 -299.20   -24.03  \n",
       "2            1331.88  181.61    15.79  \n",
       "3             485.52  -21.84    -4.30  \n",
       "4             958.00  182.20    23.49  \n",
       "5             582.00   35.70     6.53  \n",
       "6             378.00 -220.39   -36.83  \n",
       "7             479.95  -34.80    -6.76  \n",
       "8             364.35 -165.27   -31.21  \n",
       "9             568.11   41.76     7.93  "
      ]
     },
     "execution_count": 14,
     "metadata": {},
     "output_type": "execute_result"
    }
   ],
   "source": [
    "carteira = carteira_de_acoes_atual(df_ativos)\n",
    "carteira"
   ]
  },
  {
   "cell_type": "code",
   "execution_count": 15,
   "metadata": {},
   "outputs": [
    {
     "name": "stdout",
     "output_type": "stream",
     "text": [
      "Lucro ao zerar a carteira: -702.96\n"
     ]
    }
   ],
   "source": [
    "print('Lucro ao zerar a carteira: {0}'.format(carteira['L/P'].sum()))"
   ]
  },
  {
   "cell_type": "markdown",
   "metadata": {},
   "source": [
    "### Atualiza a carteira online"
   ]
  },
  {
   "cell_type": "code",
   "execution_count": 12,
   "metadata": {},
   "outputs": [],
   "source": [
    "#update_carteira_online(carteira.copy())"
   ]
  },
  {
   "cell_type": "markdown",
   "metadata": {},
   "source": [
    "### Salva a última carteira de ativos do ano"
   ]
  },
  {
   "cell_type": "code",
   "execution_count": 13,
   "metadata": {},
   "outputs": [],
   "source": [
    "#df_carteira = save_last(df_all)\n",
    "#df_carteira.to_csv('Ultima_carteira_2019.csv', index=False)"
   ]
  },
  {
   "cell_type": "markdown",
   "metadata": {},
   "source": [
    "# Visualizações"
   ]
  },
  {
   "cell_type": "code",
   "execution_count": 16,
   "metadata": {},
   "outputs": [],
   "source": [
    "from ipywidgets import interact, interactive, fixed, interact_manual\n",
    "import ipywidgets as widgets"
   ]
  },
  {
   "cell_type": "markdown",
   "metadata": {},
   "source": [
    "## Carteira Atual"
   ]
  },
  {
   "cell_type": "code",
   "execution_count": 17,
   "metadata": {},
   "outputs": [
    {
     "data": {
      "application/vnd.jupyter.widget-view+json": {
       "model_id": "dcf871a0fbf54850b511041c3f837d58",
       "version_major": 2,
       "version_minor": 0
      },
      "text/plain": [
       "interactive(children=(Dropdown(description='col_name', options=('Quantidade Atual', '<Preço>', '<Valor Total>'…"
      ]
     },
     "metadata": {},
     "output_type": "display_data"
    }
   ],
   "source": [
    "def f(col_name):\n",
    "    \n",
    "    plt.figure(figsize=[15, 9])\n",
    "    \n",
    "    df = carteira\n",
    "    \n",
    "    if col_name == 'L/P':\n",
    "        \n",
    "        tot = pd.DataFrame(data={'Código': ['Total'], col_name: [carteira[col_name].sum().round(2)]})\n",
    "\n",
    "        df = carteira.append(tot, ignore_index=True)\n",
    "\n",
    "    \n",
    "        \n",
    "    palette_c = ['r' if c < 0.0 else 'b' for c in df[col_name]]\n",
    "\n",
    "    g = sns.barplot(data = df, x = 'Código', y = col_name, palette=palette_c)\n",
    "\n",
    "    for index, row in df[[col_name]].reset_index().values:\n",
    "        g.text(index, row, np.round(row, 2), color='black', ha=\"center\", va='bottom',\n",
    "               fontsize='large', fontweight='bold')\n",
    "\n",
    "\n",
    "    plt.hlines(y=0, xmax=df.shape[0], xmin=-1)\n",
    "    plt.title('Carteira Atual')\n",
    "    plt.ylabel(col_name)\n",
    "    plt.xlabel('')\n",
    "    plt.show()\n",
    "\n",
    "interactive(f, col_name=carteira.columns[2:].to_list())"
   ]
  },
  {
   "cell_type": "markdown",
   "metadata": {},
   "source": [
    "## Lucro por mês"
   ]
  },
  {
   "cell_type": "code",
   "execution_count": 18,
   "metadata": {},
   "outputs": [],
   "source": [
    "lucro_df = df_ativos.loc[(df_ativos['L/P'] != 0.0), ['Data', 'Código', 'L/P']]\n",
    "lucro_df['Mês'] = lucro_df['Data'].dt.strftime('%b')\n",
    "lucro_df = lucro_df.groupby(['Mês', 'Código'], sort=False).sum()"
   ]
  },
  {
   "cell_type": "code",
   "execution_count": 19,
   "metadata": {},
   "outputs": [],
   "source": [
    "months = lucro_df.reset_index()['Mês'].unique()"
   ]
  },
  {
   "cell_type": "code",
   "execution_count": 71,
   "metadata": {},
   "outputs": [
    {
     "data": {
      "application/vnd.jupyter.widget-view+json": {
       "model_id": "c3f5f019729b47cd99853bdfc5c578e7",
       "version_major": 2,
       "version_minor": 0
      },
      "text/plain": [
       "interactive(children=(Dropdown(description='month', options=('Jul', 'Aug', 'Sep', 'Oct', 'Nov', 'Dec'), value=…"
      ]
     },
     "metadata": {},
     "output_type": "display_data"
    }
   ],
   "source": [
    "def f(month):\n",
    "    \n",
    "    df = lucro_df.loc[month].reset_index()\n",
    "    \n",
    "    tot = pd.DataFrame(data={'Código': ['Total'], 'L/P': [df['L/P'].sum().round(2)]})\n",
    "    \n",
    "    df = df.append(tot, ignore_index=True)\n",
    "    \n",
    "    palette_c = ['r' if c < 0.0 else 'b' for c in df['L/P']]\n",
    "    \n",
    "    plt.figure(figsize=[15, 9])\n",
    "\n",
    "    g = sns.barplot(data = df, x = 'Código', y = 'L/P', palette=palette_c)\n",
    "\n",
    "    for index, row in df[['L/P']].reset_index().values:\n",
    "        g.text(index, row, np.round(row, 2), color='black', ha=\"center\", va='bottom',\n",
    "           fontsize='large', fontweight='bold')\n",
    "        \n",
    "    plt.hlines(y=0, xmax=df.shape[0], xmin=-1)\n",
    "    plt.ylabel('Lucro  (R$)')\n",
    "    plt.xlabel('')\n",
    "    plt.title('Lucro mensal')\n",
    "    \n",
    "    plt.show()\n",
    "\n",
    "interactive(f, month=months)"
   ]
  },
  {
   "cell_type": "markdown",
   "metadata": {},
   "source": [
    "## Lucro no ano"
   ]
  },
  {
   "cell_type": "code",
   "execution_count": 45,
   "metadata": {},
   "outputs": [],
   "source": [
    "lucro_mes = df_ativos.loc[(df_ativos['L/P'] != 0.0), ['Data', 'L/P']]\n",
    "lucro_mes['Mês'] = lucro_mes['Data'].dt.strftime('%b')\n",
    "lucro_mes = lucro_mes.groupby(['Mês'], sort=False).sum().reset_index()"
   ]
  },
  {
   "cell_type": "code",
   "execution_count": 70,
   "metadata": {},
   "outputs": [
    {
     "data": {
      "image/png": "[encoded data removed]",
      "text/plain": [
       "<Figure size 1080x648 with 1 Axes>"
      ]
     },
     "metadata": {},
     "output_type": "display_data"
    }
   ],
   "source": [
    "plt.figure(figsize=[15, 9])\n",
    "\n",
    "tot = pd.DataFrame(data={'Mês': ['Ano'], 'L/P': [lucro_mes['L/P'].sum().round(2)]})\n",
    "    \n",
    "df = lucro_mes.append(tot, ignore_index=True)\n",
    "\n",
    "palette_c = ['r' if c < 0.0 else 'b' for c in df['L/P']]\n",
    "\n",
    "g = sns.barplot(data = df, x = 'Mês', y = 'L/P', palette=palette_c)\n",
    "\n",
    "for index, row in df[['L/P']].reset_index().values:\n",
    "    g.text(index, row, np.round(row, 2), color='black', ha=\"center\", va='bottom',\n",
    "           fontsize='large', fontweight='bold')\n",
    "    \n",
    "plt.hlines(y=0, xmax=df.shape[0], xmin=-1)\n",
    "plt.ylabel('Lucro  (R$)')\n",
    "plt.xlabel('')\n",
    "plt.title('Lucro no ano')\n",
    "plt.show()\n",
    "del df"
   ]
  },
  {
   "cell_type": "markdown",
   "metadata": {},
   "source": [
    "## Proventos"
   ]
  },
  {
   "cell_type": "code",
   "execution_count": 66,
   "metadata": {},
   "outputs": [],
   "source": [
    "prov = df_proventos.groupby(['Código']).sum().reset_index()"
   ]
  },
  {
   "cell_type": "code",
   "execution_count": 67,
   "metadata": {},
   "outputs": [
    {
     "data": {
      "image/png": "[encoded data removed]",
      "text/plain": [
       "<Figure size 1080x648 with 1 Axes>"
      ]
     },
     "metadata": {},
     "output_type": "display_data"
    }
   ],
   "source": [
    "plt.figure(figsize=[15, 9])\n",
    "\n",
    "tot = pd.DataFrame(data={'Código': ['Ano'], 'Valor': [prov['Valor'].sum().round(2)]})\n",
    "    \n",
    "df = prov.append(tot, ignore_index=True)\n",
    "\n",
    "g = sns.barplot(data = df, x = 'Código', y = 'Valor', color='b')\n",
    "\n",
    "for index, row in df[['Valor']].reset_index().values:\n",
    "    g.text(index, row, np.round(row, 2), color='black', ha=\"center\", va='bottom',\n",
    "           fontsize='large', fontweight='bold')\n",
    "\n",
    "plt.hlines(y=0, xmax=df.shape[0], xmin=-1)\n",
    "plt.title('Proventos')\n",
    "plt.ylabel('Lucro  (R$)')\n",
    "plt.xlabel('')\n",
    "plt.show()"
   ]
  },
  {
   "cell_type": "code",
   "execution_count": null,
   "metadata": {},
   "outputs": [],
   "source": []
  }
 ],
 "metadata": {
  "kernelspec": {
   "display_name": "Python 3",
   "language": "python",
   "name": "python3"
  },
  "language_info": {
   "codemirror_mode": {
    "name": "ipython",
    "version": 3
   },
   "file_extension": ".py",
   "mimetype": "text/x-python",
   "name": "python",
   "nbconvert_exporter": "python",
   "pygments_lexer": "ipython3",
   "version": "3.7.6"
  },
  "widgets": {
   "application/vnd.jupyter.widget-state+json": {
    "state": {
     "28387fdee77f4e769d2bb5794658d201": {
      "model_module": "@jupyter-widgets/base",
      "model_module_version": "1.2.0",
      "model_name": "LayoutModel",
      "state": {}
     },
     "3c7f0897717747de84117a054f791116": {
      "model_module": "@jupyter-widgets/controls",
      "model_module_version": "1.5.0",
      "model_name": "DropdownModel",
      "state": {
       "_options_labels": [
        "Jul",
        "Aug",
        "Sep",
        "Oct",
        "Nov",
        "Dec"
       ],
       "description": "month",
       "index": 2,
       "layout": "IPY_MODEL_28387fdee77f4e769d2bb5794658d201",
       "style": "IPY_MODEL_5ba2ece5a177481dba8ced679d82c4aa"
      }
     },
     "5777eddfd1ac42278320dfe028886768": {
      "model_module": "@jupyter-widgets/output",
      "model_module_version": "1.0.0",
      "model_name": "OutputModel",
      "state": {
       "layout": "IPY_MODEL_e0bae0416c3b43349e5e19fa26aa8c37",
       "outputs": [
        {
         "data": {
          "image/png": "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\n",
          "text/plain": "<Figure size 1080x648 with 1 Axes>"
         },
         "metadata": {},
         "output_type": "display_data"
        }
       ]
      }
     },
     "5ba2ece5a177481dba8ced679d82c4aa": {
      "model_module": "@jupyter-widgets/controls",
      "model_module_version": "1.5.0",
      "model_name": "DescriptionStyleModel",
      "state": {
       "description_width": ""
      }
     },
     "5eac352f1354483e86565b2a20ab75b6": {
      "model_module": "@jupyter-widgets/controls",
      "model_module_version": "1.5.0",
      "model_name": "VBoxModel",
      "state": {
       "_dom_classes": [
        "widget-interact"
       ],
       "children": [
        "IPY_MODEL_3c7f0897717747de84117a054f791116",
        "IPY_MODEL_5777eddfd1ac42278320dfe028886768"
       ],
       "layout": "IPY_MODEL_e100c4767716491783ad9c31e157f2ff"
      }
     },
     "6f4af8113057431c8be04f22c8660501": {
      "model_module": "@jupyter-widgets/controls",
      "model_module_version": "1.5.0",
      "model_name": "DropdownModel",
      "state": {
       "_options_labels": [
        "Quantidade Atual",
        "<Preço>",
        "<Valor Total>",
        "Preço Atual",
        "Valor Total Atual",
        "L/P",
        "L/P (%)"
       ],
       "description": "col_name",
       "index": 5,
       "layout": "IPY_MODEL_8cb13a923c0845449aade5d7cdd74e41",
       "style": "IPY_MODEL_c215ac649a1046839a14bdc9953769c7"
      }
     },
     "8cb13a923c0845449aade5d7cdd74e41": {
      "model_module": "@jupyter-widgets/base",
      "model_module_version": "1.2.0",
      "model_name": "LayoutModel",
      "state": {}
     },
     "8dfb9df5ecdd4fbcbad2cf60399d7f6c": {
      "model_module": "@jupyter-widgets/base",
      "model_module_version": "1.2.0",
      "model_name": "LayoutModel",
      "state": {}
     },
     "91b9b2b21c234515a8e564ff70abf889": {
      "model_module": "@jupyter-widgets/output",
      "model_module_version": "1.0.0",
      "model_name": "OutputModel",
      "state": {
       "layout": "IPY_MODEL_8dfb9df5ecdd4fbcbad2cf60399d7f6c",
       "outputs": [
        {
         "data": {
          "image/png": "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\n",
          "text/plain": "<Figure size 1080x648 with 1 Axes>"
         },
         "metadata": {},
         "output_type": "display_data"
        }
       ]
      }
     },
     "a240e56903854e7386fd9e947e8d2318": {
      "model_module": "@jupyter-widgets/base",
      "model_module_version": "1.2.0",
      "model_name": "LayoutModel",
      "state": {}
     },
     "c215ac649a1046839a14bdc9953769c7": {
      "model_module": "@jupyter-widgets/controls",
      "model_module_version": "1.5.0",
      "model_name": "DescriptionStyleModel",
      "state": {
       "description_width": ""
      }
     },
     "dcf871a0fbf54850b511041c3f837d58": {
      "model_module": "@jupyter-widgets/controls",
      "model_module_version": "1.5.0",
      "model_name": "VBoxModel",
      "state": {
       "_dom_classes": [
        "widget-interact"
       ],
       "children": [
        "IPY_MODEL_6f4af8113057431c8be04f22c8660501",
        "IPY_MODEL_91b9b2b21c234515a8e564ff70abf889"
       ],
       "layout": "IPY_MODEL_a240e56903854e7386fd9e947e8d2318"
      }
     },
     "e0bae0416c3b43349e5e19fa26aa8c37": {
      "model_module": "@jupyter-widgets/base",
      "model_module_version": "1.2.0",
      "model_name": "LayoutModel",
      "state": {}
     },
     "e100c4767716491783ad9c31e157f2ff": {
      "model_module": "@jupyter-widgets/base",
      "model_module_version": "1.2.0",
      "model_name": "LayoutModel",
      "state": {}
     }
    },
    "version_major": 2,
    "version_minor": 0
   }
  }
 },
 "nbformat": 4,
 "nbformat_minor": 4
}
