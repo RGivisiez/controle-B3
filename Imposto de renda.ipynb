{
 "cells": [
  {
   "cell_type": "markdown",
   "metadata": {},
   "source": [
    "# Ainda em desenvolvimento"
   ]
  },
  {
   "cell_type": "code",
   "execution_count": null,
   "metadata": {},
   "outputs": [],
   "source": [
    "def intersection(l1, l2):\n",
    "    return list(set(l1) & set(l2))"
   ]
  },
  {
   "cell_type": "code",
   "execution_count": null,
   "metadata": {},
   "outputs": [],
   "source": [
    "lucro_df = df_ativos.loc[(df_ativos['L/P'] != 0.0), ['Data', 'Código', 'L/P']].groupby(['Data', 'Código']).sum()\n",
    "lucro_df"
   ]
  },
  {
   "cell_type": "code",
   "execution_count": null,
   "metadata": {},
   "outputs": [],
   "source": [
    "from ipywidgets import interact, interactive, fixed, interact_manual\n",
    "import ipywidgets as widgets"
   ]
  },
  {
   "cell_type": "code",
   "execution_count": null,
   "metadata": {},
   "outputs": [],
   "source": [
    "def mov_ativo(cod):\n",
    "    return df_ativos[df_ativos['Código'] == cod]"
   ]
  },
  {
   "cell_type": "markdown",
   "metadata": {},
   "source": [
    "### Movimentações por ativos"
   ]
  },
  {
   "cell_type": "code",
   "execution_count": null,
   "metadata": {},
   "outputs": [],
   "source": [
    "interact(mov_ativo, cod=df_ativos['Código'].unique());"
   ]
  },
  {
   "cell_type": "markdown",
   "metadata": {},
   "source": [
    "### Imposto de Renda"
   ]
  },
  {
   "cell_type": "markdown",
   "metadata": {},
   "source": [
    "- Os dados do imposto de renda devem ser feitos separadamente para cada corretora.\n",
    "- Os dados para as ações que não foram zeradas estão listadas na carteira.\n",
    "- Sempre conferir os valores com o site da B3. <- Nem sempre é o mesmo."
   ]
  },
  {
   "cell_type": "code",
   "execution_count": null,
   "metadata": {},
   "outputs": [],
   "source": [
    "def position(df):\n",
    "\n",
    "    cods = df['Código'].unique()\n",
    "\n",
    "    zerada = []\n",
    "    comprada = []\n",
    "\n",
    "    for cod in cods:\n",
    "\n",
    "        qnt = df.loc[df['Código'] == cod, 'Quantidade Atual'].tail(1).values[0]\n",
    "\n",
    "        if qnt != 0:\n",
    "            comprada.append(cod)\n",
    "        else:\n",
    "            zerada.append(cod)\n",
    "\n",
    "    return zerada, comprada"
   ]
  },
  {
   "cell_type": "code",
   "execution_count": null,
   "metadata": {},
   "outputs": [],
   "source": [
    "def weighted_mean_for_duplicates(df):\n",
    "    \n",
    "    cod_duplicated = df['Código'].value_counts() != 1\n",
    "    \n",
    "    cod_unique = [not i for i in cod_duplicated]\n",
    "    \n",
    "    new_df = pd.DataFrame()\n",
    "    \n",
    "    for cod in cod_duplicated.index[cod_duplicated]:\n",
    "        \n",
    "        aux = df[df['Código'] == cod].reset_index(drop=True)\n",
    "        \n",
    "        aux.loc[0, 'Preço Atual'] = np.average(aux['Preço Atual'], weights = np.abs(aux['Quantidade de C/V']))\n",
    "        aux.loc[0, 'Preço de C/V'] = np.average(aux['Preço de C/V'], weights = np.abs(aux['Quantidade de C/V']))\n",
    "    \n",
    "        new_df = new_df.append(aux.loc[0, :])\n",
    "    \n",
    "    new_df = new_df.append(df.set_index('Código').drop(cod_duplicated.index[cod_duplicated]).reset_index())\n",
    "    \n",
    "    new_df = new_df[['Data', 'Código', 'Preço Atual', 'Preço de C/V']].reset_index(drop=True)\n",
    "    \n",
    "    new_df['Preço Atual'] = new_df['Preço Atual'].round(3)\n",
    "    new_df['Preço de C/V'] = new_df['Preço de C/V'].round(3)\n",
    "    \n",
    "    new_df['Posição'] = 'Zerada'\n",
    "    \n",
    "    return new_df"
   ]
  },
  {
   "cell_type": "code",
   "execution_count": 1,
   "metadata": {},
   "outputs": [],
   "source": [
    "#### Por enquanto só serve pra ver quais ações foram zeradas"
   ]
  },
  {
   "cell_type": "code",
   "execution_count": null,
   "metadata": {},
   "outputs": [],
   "source": [
    "cols = ['Data', 'Código', 'Preço Atual', 'Preço de C/V', 'Quantidade de C/V']\n",
    "zerada, comprada = position(df_ativos)\n",
    "\n",
    "ir_df = weighted_mean_for_duplicates(df_ativos.loc[df_ativos['Código'].isin(zerada), cols]).sort_values('Código')\n",
    "ir_df"
   ]
  }
 ],
 "metadata": {
  "kernelspec": {
   "display_name": "Python 3",
   "language": "python",
   "name": "python3"
  },
  "language_info": {
   "codemirror_mode": {
    "name": "ipython",
    "version": 3
   },
   "file_extension": ".py",
   "mimetype": "text/x-python",
   "name": "python",
   "nbconvert_exporter": "python",
   "pygments_lexer": "ipython3",
   "version": "3.7.6"
  }
 },
 "nbformat": 4,
 "nbformat_minor": 4
}
