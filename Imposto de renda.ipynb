{
 "cells": [
  {
   "cell_type": "markdown",
   "metadata": {},
   "source": [
    "# Imposto de Renda"
   ]
  },
  {
   "cell_type": "code",
   "execution_count": 1,
   "metadata": {},
   "outputs": [],
   "source": [
    "import pandas as pd\n",
    "import numpy as np\n",
    "import matplotlib.pyplot as plt\n",
    "import seaborn as sns"
   ]
  },
  {
   "cell_type": "code",
   "execution_count": 2,
   "metadata": {},
   "outputs": [],
   "source": [
    "sns.set(style=\"white\")\n",
    "\n",
    "plt.rcParams['axes.titlesize'] = 20\n",
    "plt.rcParams['axes.labelsize'] = 20\n",
    "plt.rcParams['axes.linewidth'] = 3\n",
    "plt.rcParams['axes.labelpad'] = 15\n",
    "\n",
    "plt.rcParams['xtick.labelsize'] = 16\n",
    "plt.rcParams['xtick.major.size'] = 8\n",
    "plt.rcParams['xtick.major.width'] = 3\n",
    "\n",
    "plt.rcParams['ytick.labelsize'] = 16\n",
    "plt.rcParams['ytick.major.size'] = 8\n",
    "plt.rcParams['ytick.major.width'] = 3\n",
    "\n",
    "plt.rcParams['legend.fontsize'] = 14\n",
    "plt.rcParams['legend.markerscale'] = 1\n",
    "\n",
    "plt.rcParams['lines.markersize'] = 9\n",
    "plt.rcParams['lines.linewidth'] = 2"
   ]
  },
  {
   "cell_type": "markdown",
   "metadata": {},
   "source": [
    "### Lê os datasets"
   ]
  },
  {
   "cell_type": "code",
   "execution_count": 3,
   "metadata": {},
   "outputs": [
    {
     "data": {
      "text/html": [
       "<div>\n",
       "<style scoped>\n",
       "    .dataframe tbody tr th:only-of-type {\n",
       "        vertical-align: middle;\n",
       "    }\n",
       "\n",
       "    .dataframe tbody tr th {\n",
       "        vertical-align: top;\n",
       "    }\n",
       "\n",
       "    .dataframe thead th {\n",
       "        text-align: right;\n",
       "    }\n",
       "</style>\n",
       "<table border=\"1\" class=\"dataframe\">\n",
       "  <thead>\n",
       "    <tr style=\"text-align: right;\">\n",
       "      <th></th>\n",
       "      <th>Data</th>\n",
       "      <th>Código</th>\n",
       "      <th>Mercado</th>\n",
       "      <th>Especificação</th>\n",
       "      <th>Tipo de Execução</th>\n",
       "      <th>Corretora</th>\n",
       "      <th>Quantidade de C/V</th>\n",
       "      <th>Valor Total</th>\n",
       "      <th>Preço de C/V</th>\n",
       "      <th>Preço Atual</th>\n",
       "      <th>L/P</th>\n",
       "      <th>Quantidade Atual</th>\n",
       "    </tr>\n",
       "  </thead>\n",
       "  <tbody>\n",
       "    <tr>\n",
       "      <th>0</th>\n",
       "      <td>2019-07-11</td>\n",
       "      <td>CVCB3</td>\n",
       "      <td>Fracionário</td>\n",
       "      <td>CVC BRASIL   ON      NM</td>\n",
       "      <td>C</td>\n",
       "      <td>MODAL</td>\n",
       "      <td>10.0</td>\n",
       "      <td>530.00</td>\n",
       "      <td>53.00</td>\n",
       "      <td>53.00</td>\n",
       "      <td>0.0</td>\n",
       "      <td>10.0</td>\n",
       "    </tr>\n",
       "    <tr>\n",
       "      <th>1</th>\n",
       "      <td>2019-07-11</td>\n",
       "      <td>PETR4</td>\n",
       "      <td>Fracionário</td>\n",
       "      <td>PETROBRAS    PN      N2</td>\n",
       "      <td>C</td>\n",
       "      <td>MODAL</td>\n",
       "      <td>17.0</td>\n",
       "      <td>478.89</td>\n",
       "      <td>28.17</td>\n",
       "      <td>28.17</td>\n",
       "      <td>0.0</td>\n",
       "      <td>17.0</td>\n",
       "    </tr>\n",
       "    <tr>\n",
       "      <th>2</th>\n",
       "      <td>2019-07-11</td>\n",
       "      <td>RAIL3</td>\n",
       "      <td>Fracionário</td>\n",
       "      <td>RUMO S.A.    ON      NM</td>\n",
       "      <td>C</td>\n",
       "      <td>MODAL</td>\n",
       "      <td>20.0</td>\n",
       "      <td>443.40</td>\n",
       "      <td>22.17</td>\n",
       "      <td>22.17</td>\n",
       "      <td>0.0</td>\n",
       "      <td>20.0</td>\n",
       "    </tr>\n",
       "    <tr>\n",
       "      <th>3</th>\n",
       "      <td>2019-07-11</td>\n",
       "      <td>VALE3</td>\n",
       "      <td>Fracionário</td>\n",
       "      <td>VALE         ON      NM</td>\n",
       "      <td>C</td>\n",
       "      <td>MODAL</td>\n",
       "      <td>10.0</td>\n",
       "      <td>520.00</td>\n",
       "      <td>52.00</td>\n",
       "      <td>52.00</td>\n",
       "      <td>0.0</td>\n",
       "      <td>10.0</td>\n",
       "    </tr>\n",
       "    <tr>\n",
       "      <th>4</th>\n",
       "      <td>2019-07-19</td>\n",
       "      <td>CVCB3</td>\n",
       "      <td>Fracionário</td>\n",
       "      <td>CVC BRASIL   ON      NM</td>\n",
       "      <td>V</td>\n",
       "      <td>MODAL</td>\n",
       "      <td>-10.0</td>\n",
       "      <td>487.00</td>\n",
       "      <td>48.70</td>\n",
       "      <td>53.00</td>\n",
       "      <td>-43.0</td>\n",
       "      <td>0.0</td>\n",
       "    </tr>\n",
       "  </tbody>\n",
       "</table>\n",
       "</div>"
      ],
      "text/plain": [
       "        Data Código      Mercado            Especificação Tipo de Execução  \\\n",
       "0 2019-07-11  CVCB3  Fracionário  CVC BRASIL   ON      NM                C   \n",
       "1 2019-07-11  PETR4  Fracionário  PETROBRAS    PN      N2                C   \n",
       "2 2019-07-11  RAIL3  Fracionário  RUMO S.A.    ON      NM                C   \n",
       "3 2019-07-11  VALE3  Fracionário  VALE         ON      NM                C   \n",
       "4 2019-07-19  CVCB3  Fracionário  CVC BRASIL   ON      NM                V   \n",
       "\n",
       "  Corretora  Quantidade de C/V  Valor Total  Preço de C/V  Preço Atual   L/P  \\\n",
       "0     MODAL               10.0       530.00         53.00        53.00   0.0   \n",
       "1     MODAL               17.0       478.89         28.17        28.17   0.0   \n",
       "2     MODAL               20.0       443.40         22.17        22.17   0.0   \n",
       "3     MODAL               10.0       520.00         52.00        52.00   0.0   \n",
       "4     MODAL              -10.0       487.00         48.70        53.00 -43.0   \n",
       "\n",
       "   Quantidade Atual  \n",
       "0              10.0  \n",
       "1              17.0  \n",
       "2              20.0  \n",
       "3              10.0  \n",
       "4               0.0  "
      ]
     },
     "execution_count": 3,
     "metadata": {},
     "output_type": "execute_result"
    }
   ],
   "source": [
    "df_ativos = pd.read_csv('Dataset_ações_2019.csv')\n",
    "df_ativos['Data'] = pd.to_datetime(df_ativos['Data'], format=\"%Y/%m/%d\")\n",
    "df_ativos.head()"
   ]
  },
  {
   "cell_type": "code",
   "execution_count": 30,
   "metadata": {},
   "outputs": [
    {
     "data": {
      "text/html": [
       "<div>\n",
       "<style scoped>\n",
       "    .dataframe tbody tr th:only-of-type {\n",
       "        vertical-align: middle;\n",
       "    }\n",
       "\n",
       "    .dataframe tbody tr th {\n",
       "        vertical-align: top;\n",
       "    }\n",
       "\n",
       "    .dataframe thead th {\n",
       "        text-align: right;\n",
       "    }\n",
       "</style>\n",
       "<table border=\"1\" class=\"dataframe\">\n",
       "  <thead>\n",
       "    <tr style=\"text-align: right;\">\n",
       "      <th></th>\n",
       "      <th>Ativo</th>\n",
       "      <th>Especificação</th>\n",
       "      <th>Código</th>\n",
       "      <th>Tipo</th>\n",
       "      <th>Previsão</th>\n",
       "      <th>Valor</th>\n",
       "      <th>Corretora</th>\n",
       "      <th>Recebi</th>\n",
       "    </tr>\n",
       "  </thead>\n",
       "  <tbody>\n",
       "    <tr>\n",
       "      <th>0</th>\n",
       "      <td>PETROBRAS</td>\n",
       "      <td>PN N2</td>\n",
       "      <td>PETR4</td>\n",
       "      <td>jcp</td>\n",
       "      <td>2019-10-01</td>\n",
       "      <td>3.40</td>\n",
       "      <td>modal</td>\n",
       "      <td>s</td>\n",
       "    </tr>\n",
       "    <tr>\n",
       "      <th>1</th>\n",
       "      <td>MAGAZ LUIZA</td>\n",
       "      <td>ON NM</td>\n",
       "      <td>MGLU3</td>\n",
       "      <td>jcp</td>\n",
       "      <td>NaT</td>\n",
       "      <td>2.06</td>\n",
       "      <td>modal</td>\n",
       "      <td>n</td>\n",
       "    </tr>\n",
       "    <tr>\n",
       "      <th>2</th>\n",
       "      <td>MAGAZ LUIZA</td>\n",
       "      <td>ON NM</td>\n",
       "      <td>MGLU3</td>\n",
       "      <td>jcp</td>\n",
       "      <td>NaT</td>\n",
       "      <td>1.01</td>\n",
       "      <td>modal</td>\n",
       "      <td>n</td>\n",
       "    </tr>\n",
       "    <tr>\n",
       "      <th>3</th>\n",
       "      <td>PETROBRAS</td>\n",
       "      <td>PN N2</td>\n",
       "      <td>PETR4</td>\n",
       "      <td>jcp</td>\n",
       "      <td>2020-02-01</td>\n",
       "      <td>6.63</td>\n",
       "      <td>modal</td>\n",
       "      <td>s</td>\n",
       "    </tr>\n",
       "    <tr>\n",
       "      <th>4</th>\n",
       "      <td>PETROBRAS</td>\n",
       "      <td>PN N2</td>\n",
       "      <td>PETR4</td>\n",
       "      <td>jcp</td>\n",
       "      <td>2020-02-01</td>\n",
       "      <td>13.93</td>\n",
       "      <td>modal</td>\n",
       "      <td>s</td>\n",
       "    </tr>\n",
       "  </tbody>\n",
       "</table>\n",
       "</div>"
      ],
      "text/plain": [
       "         Ativo Especificação Código Tipo   Previsão  Valor Corretora Recebi\n",
       "0    PETROBRAS         PN N2  PETR4  jcp 2019-10-01   3.40     modal      s\n",
       "1  MAGAZ LUIZA         ON NM  MGLU3  jcp        NaT   2.06     modal      n\n",
       "2  MAGAZ LUIZA         ON NM  MGLU3  jcp        NaT   1.01     modal      n\n",
       "3    PETROBRAS         PN N2  PETR4  jcp 2020-02-01   6.63     modal      s\n",
       "4    PETROBRAS         PN N2  PETR4  jcp 2020-02-01  13.93     modal      s"
      ]
     },
     "execution_count": 30,
     "metadata": {},
     "output_type": "execute_result"
    }
   ],
   "source": [
    "df_proventos = pd.read_excel('Proventos - 2019.xlsx')\n",
    "df_proventos.head()"
   ]
  },
  {
   "cell_type": "markdown",
   "metadata": {},
   "source": [
    "# Vendas acima de 20k"
   ]
  },
  {
   "cell_type": "markdown",
   "metadata": {},
   "source": [
    "- Meses com venda acima de 20k tem que pagar IR no próximo mês de 15% para swing trade."
   ]
  },
  {
   "cell_type": "code",
   "execution_count": 5,
   "metadata": {},
   "outputs": [],
   "source": [
    "df_ativos['Mês'] = df_ativos['Data'].dt.strftime('%B')"
   ]
  },
  {
   "cell_type": "code",
   "execution_count": 6,
   "metadata": {},
   "outputs": [],
   "source": [
    "df_vendas = df_ativos.groupby(['Mês', 'Tipo de Execução'], sort=False).sum().reset_index()"
   ]
  },
  {
   "cell_type": "code",
   "execution_count": 7,
   "metadata": {},
   "outputs": [
    {
     "data": {
      "image/png": "[encoded data removed]",
      "text/plain": [
       "<Figure size 1080x648 with 1 Axes>"
      ]
     },
     "metadata": {},
     "output_type": "display_data"
    }
   ],
   "source": [
    "plt.figure(figsize=[15, 9])\n",
    "\n",
    "palette_c = ['b' if val < 20000 else 'r' for val in df_vendas['Valor Total']]\n",
    "more_20k = [ '< 20K' if val < 20000 else '> 20' for val in df_vendas['Valor Total'] ]\n",
    "\n",
    "sns.barplot(data = df_vendas, x = 'Mês', hue=more_20k, y = 'Valor Total', palette=palette_c, ci=None)\n",
    "\n",
    "plt.ylabel('Vendas (R$)')\n",
    "plt.title('Valor total das vendas no mês')\n",
    "\n",
    "plt.show()"
   ]
  },
  {
   "cell_type": "markdown",
   "metadata": {},
   "source": [
    "# Declaração mensal"
   ]
  },
  {
   "cell_type": "markdown",
   "metadata": {},
   "source": [
    "- Declarar prejuízos para abatimentos em cobranças posteriores."
   ]
  },
  {
   "cell_type": "code",
   "execution_count": 8,
   "metadata": {},
   "outputs": [],
   "source": [
    "lucro_mes = df_ativos.loc[(df_ativos['L/P'] != 0.0), ['Data', 'L/P']]\n",
    "lucro_mes['Mês'] = lucro_mes['Data'].dt.strftime('%b')\n",
    "lucro_mes = lucro_mes.groupby(['Mês'], sort=False).sum().reset_index()"
   ]
  },
  {
   "cell_type": "code",
   "execution_count": 9,
   "metadata": {},
   "outputs": [
    {
     "data": {
      "image/png": "[encoded data removed]",
      "text/plain": [
       "<Figure size 1080x648 with 1 Axes>"
      ]
     },
     "metadata": {},
     "output_type": "display_data"
    }
   ],
   "source": [
    "plt.figure(figsize=[15, 9])\n",
    "\n",
    "tot = pd.DataFrame(data={'Mês': ['Ano'], 'L/P': [lucro_mes['L/P'].sum().round(2)]})\n",
    "    \n",
    "df = lucro_mes.append(tot, ignore_index=True)\n",
    "\n",
    "palette_c = ['r' if c < 0.0 else 'b' for c in df['L/P']]\n",
    "\n",
    "g = sns.barplot(data = df, x = 'Mês', y = 'L/P', palette=palette_c)\n",
    "\n",
    "for index, row in df[['L/P']].reset_index().values:\n",
    "    g.text(index, row, np.round(row, 2), color='black', ha=\"center\", va='bottom',\n",
    "           fontsize='large', fontweight='bold')\n",
    "    \n",
    "plt.hlines(y=0, xmax=df.shape[0], xmin=-1)\n",
    "plt.ylabel('Lucro  (R$)')\n",
    "plt.xlabel('')\n",
    "plt.title('Lucro no ano')\n",
    "plt.show()"
   ]
  },
  {
   "cell_type": "markdown",
   "metadata": {},
   "source": [
    "# Proventos"
   ]
  },
  {
   "cell_type": "code",
   "execution_count": 60,
   "metadata": {},
   "outputs": [
    {
     "data": {
      "application/vnd.jupyter.widget-view+json": {
       "model_id": "199c33b46bf64bac9f7b1ef77c87eae3",
       "version_major": 2,
       "version_minor": 0
      },
      "text/plain": [
       "interactive(children=(Dropdown(description='tipo', options=('jcp', 'div'), value='jcp'), Dropdown(description=…"
      ]
     },
     "metadata": {},
     "output_type": "display_data"
    }
   ],
   "source": [
    "def f(tipo, previsão):\n",
    "    df = df_proventos[df_proventos['Tipo'] == tipo]\n",
    "\n",
    "    mask_year = df['Previsão'].dt.strftime('%Y')  == previsão\n",
    "    mask_not_year = df['Previsão'].dt.strftime('%Y')  != previsão\n",
    "\n",
    "    print('\\nJá creditados em {0}:'.format(previsão))\n",
    "\n",
    "    display(df[mask_year])\n",
    "\n",
    "    print('\\nCrédito em transito:')\n",
    "    display(df[mask_not_year])\n",
    "\n",
    "interactive(f, tipo=['jcp', 'div'] , previsão=['2019'])"
   ]
  },
  {
   "cell_type": "markdown",
   "metadata": {},
   "source": [
    "# Funções"
   ]
  },
  {
   "cell_type": "code",
   "execution_count": 10,
   "metadata": {},
   "outputs": [],
   "source": [
    "def carteira_de_acoes_atual(df, offline = False):\n",
    "    \n",
    "    carteira = pd.DataFrame(columns=df.columns)\n",
    "\n",
    "    cods = df['Código'].unique()\n",
    "    \n",
    "    for cod in cods:\n",
    "        \n",
    "        last_idx = df[df[['Código']] == cod].last_valid_index() \n",
    "        \n",
    "        carteira = carteira.append(df.loc[last_idx], ignore_index=True)\n",
    "\n",
    "    carteira = carteira[carteira['Quantidade Atual'] != 0.0]\n",
    "    \n",
    "    carteira.sort_values(by='Data', ascending=True, inplace=True)\n",
    "    \n",
    "    drop_columns = ['Especificação', 'Tipo de Execução', 'Quantidade de C/V', 'Mercado', 'Preço de C/V']\n",
    "    \n",
    "    carteira.drop(drop_columns, inplace=True, axis=1)\n",
    "    \n",
    "    carteira.rename(columns={'Preço Atual': '<Preço>'}, inplace=True)\n",
    "    \n",
    "    carteira.reset_index(drop=True, inplace=True)\n",
    "    \n",
    "    carteira['<Valor Total>'] = carteira['Quantidade Atual'] * carteira['<Preço>']\n",
    "    \n",
    "    if offline == False:\n",
    "    \n",
    "        carteira['Preço Atual'] = get_market_values(carteira['Código'])\n",
    "\n",
    "        carteira['Valor Total Atual'] = carteira['Quantidade Atual'] * carteira['Preço Atual']\n",
    "\n",
    "        carteira['L/P'] = carteira['Quantidade Atual'] * ( carteira['Preço Atual'] - carteira['<Preço>'] )\n",
    "\n",
    "        carteira['L/P (%)'] = (carteira['L/P'] / (carteira['<Preço>'] * carteira['Quantidade Atual'])) * 100.0\n",
    "\n",
    "        carteira['L/P'] = carteira['L/P'].round(2)\n",
    "\n",
    "        carteira['L/P (%)'] = carteira['L/P (%)'].round(2) \n",
    "\n",
    "        carteira['<Preço>'] = carteira['<Preço>'].round(2)\n",
    "\n",
    "\n",
    "        cols_ordenadas = ['Data', 'Código', 'Quantidade Atual', '<Preço>', '<Valor Total>',\n",
    "                          'Preço Atual', 'Valor Total Atual', 'L/P', 'L/P (%)', 'Corretora']\n",
    "\n",
    "    elif offline == True:\n",
    "        \n",
    "        cols_ordenadas = ['Data', 'Código', 'Quantidade Atual', '<Preço>', '<Valor Total>', 'Corretora']\n",
    "        \n",
    "    return carteira[cols_ordenadas]"
   ]
  },
  {
   "cell_type": "markdown",
   "metadata": {},
   "source": [
    "# Posições"
   ]
  },
  {
   "cell_type": "code",
   "execution_count": 11,
   "metadata": {},
   "outputs": [],
   "source": [
    "from ipywidgets import interact, interactive, fixed, interact_manual\n",
    "import ipywidgets as widgets"
   ]
  },
  {
   "cell_type": "markdown",
   "metadata": {},
   "source": [
    "### Zerada"
   ]
  },
  {
   "cell_type": "code",
   "execution_count": 12,
   "metadata": {},
   "outputs": [
    {
     "data": {
      "application/vnd.jupyter.widget-view+json": {
       "model_id": "5855d33c9c1c4a05b48d8af6a1af55cc",
       "version_major": 2,
       "version_minor": 0
      },
      "text/plain": [
       "interactive(children=(Dropdown(description='corretora', options=('MODAL', 'CLEAR'), value='MODAL'), Output()),…"
      ]
     },
     "metadata": {},
     "output_type": "display_data"
    }
   ],
   "source": [
    "def f(corretora):\n",
    "\n",
    "    df = df_ativos[df_ativos['Corretora'] == corretora]\n",
    "\n",
    "    cods = df['Código'].unique()\n",
    "\n",
    "    index = []\n",
    "\n",
    "    for cod in cods:\n",
    "\n",
    "        qnt = df.loc[df['Código'] == cod, 'Quantidade Atual'].tail(1)\n",
    "\n",
    "        idx = qnt.index.values[0]\n",
    "\n",
    "        if qnt.values[0] == 0.0:\n",
    "\n",
    "            index.append(idx)\n",
    "\n",
    "    df = df_ativos.iloc[index, :].copy()\n",
    "\n",
    "    df.rename(columns={'Preço Atual': '<Preço>'}, inplace=True)\n",
    "    \n",
    "    df['<Valor Total>'] =  - df['Quantidade de C/V'] * df['<Preço>']\n",
    "    \n",
    "    df = df.sort_values('Data')\n",
    "    \n",
    "    df['Posição'] = 'Zerada'\n",
    "    \n",
    "    display(df[['Data', 'Código', 'Quantidade de C/V', '<Preço>', '<Valor Total>', 'Corretora', 'Posição']])\n",
    "\n",
    "interactive(f, corretora=df_ativos['Corretora'].unique())"
   ]
  },
  {
   "cell_type": "markdown",
   "metadata": {},
   "source": [
    "### Comprada"
   ]
  },
  {
   "cell_type": "code",
   "execution_count": 13,
   "metadata": {},
   "outputs": [
    {
     "data": {
      "application/vnd.jupyter.widget-view+json": {
       "model_id": "02aa73377ce246328f30a7969d62830f",
       "version_major": 2,
       "version_minor": 0
      },
      "text/plain": [
       "interactive(children=(Dropdown(description='corretora', options=('MODAL', 'CLEAR'), value='MODAL'), Output()),…"
      ]
     },
     "metadata": {},
     "output_type": "display_data"
    }
   ],
   "source": [
    "def f(corretora):\n",
    "    \n",
    "    df = df_ativos[df_ativos['Corretora'] == corretora]\n",
    "    df = carteira_de_acoes_atual(df.copy(), offline=True)\n",
    "    df['Posição'] = 'Comprada'\n",
    "    display(df)\n",
    "    \n",
    "interactive(f, corretora=df_ativos['Corretora'].unique())"
   ]
  },
  {
   "cell_type": "markdown",
   "metadata": {},
   "source": [
    "# Movimentações por ativo"
   ]
  },
  {
   "cell_type": "code",
   "execution_count": 14,
   "metadata": {},
   "outputs": [
    {
     "data": {
      "application/vnd.jupyter.widget-view+json": {
       "model_id": "3f4855acd4af4935bde6cb24a8192d4e",
       "version_major": 2,
       "version_minor": 0
      },
      "text/plain": [
       "interactive(children=(Dropdown(description='ativo', options=('CVCB3', 'PETR4', 'RAIL3', 'VALE3', 'ANIM3', 'B3S…"
      ]
     },
     "metadata": {},
     "output_type": "display_data"
    }
   ],
   "source": [
    "def f(ativo):\n",
    "    \n",
    "    display(df_ativos[df_ativos['Código'] == ativo].drop('Mês', axis=1))\n",
    "    \n",
    "interactive(f, ativo=df_ativos['Código'].unique())"
   ]
  },
  {
   "cell_type": "markdown",
   "metadata": {},
   "source": [
    "# Movimentação por corretora"
   ]
  },
  {
   "cell_type": "code",
   "execution_count": 17,
   "metadata": {},
   "outputs": [],
   "source": [
    "def f(corretora):\n",
    "    \n",
    "    display(df_ativos[df_ativos['Corretora'] == corretora].drop('Mês', axis=1))\n",
    "    \n",
    "interactive(f, corretora=df_ativos['Corretora'].unique())"
   ]
  },
  {
   "cell_type": "code",
   "execution_count": null,
   "metadata": {},
   "outputs": [],
   "source": []
  }
 ],
 "metadata": {
  "kernelspec": {
   "display_name": "Python 3",
   "language": "python",
   "name": "python3"
  },
  "language_info": {
   "codemirror_mode": {
    "name": "ipython",
    "version": 3
   },
   "file_extension": ".py",
   "mimetype": "text/x-python",
   "name": "python",
   "nbconvert_exporter": "python",
   "pygments_lexer": "ipython3",
   "version": "3.7.6"
  },
  "widgets": {
   "application/vnd.jupyter.widget-state+json": {
    "state": {
     "03c945e928c04fa68527a44aa7ab66d9": {
      "model_module": "@jupyter-widgets/controls",
      "model_module_version": "1.5.0",
      "model_name": "DropdownModel",
      "state": {
       "_options_labels": [
        "MODAL",
        "CLEAR"
       ],
       "description": "corretora",
       "index": 0,
       "layout": "IPY_MODEL_c53ee025a061494ca6f0ccabf0975243",
       "style": "IPY_MODEL_3e3ee3b66f684e6ab9f7569697814fd7"
      }
     },
     "04a0e261504845cbac0ad36ba6062e24": {
      "model_module": "@jupyter-widgets/output",
      "model_module_version": "1.0.0",
      "model_name": "OutputModel",
      "state": {
       "layout": "IPY_MODEL_278ba470731c49d48e24872e09f8bec7",
       "outputs": [
        {
         "data": {
          "text/html": "<div>\n<style scoped>\n    .dataframe tbody tr th:only-of-type {\n        vertical-align: middle;\n    }\n\n    .dataframe tbody tr th {\n        vertical-align: top;\n    }\n\n    .dataframe thead th {\n        text-align: right;\n    }\n</style>\n<table border=\"1\" class=\"dataframe\">\n  <thead>\n    <tr style=\"text-align: right;\">\n      <th></th>\n      <th>Data</th>\n      <th>Código</th>\n      <th>Mercado</th>\n      <th>Especificação</th>\n      <th>Tipo de Execução</th>\n      <th>Corretora</th>\n      <th>Quantidade de C/V</th>\n      <th>Valor Total</th>\n      <th>Preço de C/V</th>\n      <th>Preço Atual</th>\n      <th>L/P</th>\n      <th>Quantidade Atual</th>\n    </tr>\n  </thead>\n  <tbody>\n    <tr>\n      <th>0</th>\n      <td>2019-07-11</td>\n      <td>CVCB3</td>\n      <td>Fracionário</td>\n      <td>CVC BRASIL   ON      NM</td>\n      <td>C</td>\n      <td>MODAL</td>\n      <td>10.0</td>\n      <td>530.00</td>\n      <td>53.000000</td>\n      <td>53.000000</td>\n      <td>0.00</td>\n      <td>10.0</td>\n    </tr>\n    <tr>\n      <th>1</th>\n      <td>2019-07-11</td>\n      <td>PETR4</td>\n      <td>Fracionário</td>\n      <td>PETROBRAS    PN      N2</td>\n      <td>C</td>\n      <td>MODAL</td>\n      <td>17.0</td>\n      <td>478.89</td>\n      <td>28.170000</td>\n      <td>28.170000</td>\n      <td>0.00</td>\n      <td>17.0</td>\n    </tr>\n    <tr>\n      <th>2</th>\n      <td>2019-07-11</td>\n      <td>RAIL3</td>\n      <td>Fracionário</td>\n      <td>RUMO S.A.    ON      NM</td>\n      <td>C</td>\n      <td>MODAL</td>\n      <td>20.0</td>\n      <td>443.40</td>\n      <td>22.170000</td>\n      <td>22.170000</td>\n      <td>0.00</td>\n      <td>20.0</td>\n    </tr>\n    <tr>\n      <th>3</th>\n      <td>2019-07-11</td>\n      <td>VALE3</td>\n      <td>Fracionário</td>\n      <td>VALE         ON      NM</td>\n      <td>C</td>\n      <td>MODAL</td>\n      <td>10.0</td>\n      <td>520.00</td>\n      <td>52.000000</td>\n      <td>52.000000</td>\n      <td>0.00</td>\n      <td>10.0</td>\n    </tr>\n    <tr>\n      <th>4</th>\n      <td>2019-07-19</td>\n      <td>CVCB3</td>\n      <td>Fracionário</td>\n      <td>CVC BRASIL   ON      NM</td>\n      <td>V</td>\n      <td>MODAL</td>\n      <td>-10.0</td>\n      <td>487.00</td>\n      <td>48.700000</td>\n      <td>53.000000</td>\n      <td>-43.00</td>\n      <td>0.0</td>\n    </tr>\n    <tr>\n      <th>5</th>\n      <td>2019-08-01</td>\n      <td>ANIM3</td>\n      <td>Fracionário</td>\n      <td>ANIMA        ON      NM</td>\n      <td>C</td>\n      <td>MODAL</td>\n      <td>20.0</td>\n      <td>425.40</td>\n      <td>21.270000</td>\n      <td>21.270000</td>\n      <td>0.00</td>\n      <td>20.0</td>\n    </tr>\n    <tr>\n      <th>6</th>\n      <td>2019-08-01</td>\n      <td>B3SA3</td>\n      <td>Fracionário</td>\n      <td>B3           ON      NM</td>\n      <td>C</td>\n      <td>MODAL</td>\n      <td>10.0</td>\n      <td>430.70</td>\n      <td>43.070000</td>\n      <td>43.070000</td>\n      <td>0.00</td>\n      <td>10.0</td>\n    </tr>\n    <tr>\n      <th>7</th>\n      <td>2019-08-01</td>\n      <td>CVCB3</td>\n      <td>Fracionário</td>\n      <td>CVC BRASIL   ON      NM</td>\n      <td>C</td>\n      <td>MODAL</td>\n      <td>9.0</td>\n      <td>459.00</td>\n      <td>51.000000</td>\n      <td>51.000000</td>\n      <td>0.00</td>\n      <td>9.0</td>\n    </tr>\n    <tr>\n      <th>8</th>\n      <td>2019-08-01</td>\n      <td>JBSS3</td>\n      <td>Fracionário</td>\n      <td>JBS          ON      NM</td>\n      <td>C</td>\n      <td>MODAL</td>\n      <td>16.0</td>\n      <td>429.68</td>\n      <td>26.855000</td>\n      <td>26.855000</td>\n      <td>0.00</td>\n      <td>16.0</td>\n    </tr>\n    <tr>\n      <th>9</th>\n      <td>2019-08-01</td>\n      <td>LREN3</td>\n      <td>Fracionário</td>\n      <td>LOJAS RENNER ON      NM</td>\n      <td>C</td>\n      <td>MODAL</td>\n      <td>10.0</td>\n      <td>493.20</td>\n      <td>49.320000</td>\n      <td>49.320000</td>\n      <td>0.00</td>\n      <td>10.0</td>\n    </tr>\n    <tr>\n      <th>10</th>\n      <td>2019-08-01</td>\n      <td>MGLU3</td>\n      <td>Fracionário</td>\n      <td>MAGAZ LUIZA  ON      NM</td>\n      <td>C</td>\n      <td>MODAL</td>\n      <td>2.0</td>\n      <td>548.80</td>\n      <td>274.400000</td>\n      <td>274.400000</td>\n      <td>0.00</td>\n      <td>2.0</td>\n    </tr>\n    <tr>\n      <th>11</th>\n      <td>2019-08-01</td>\n      <td>MGLU3</td>\n      <td>Fracionário</td>\n      <td>MAGAZ LUIZA  ON      NM</td>\n      <td>DES</td>\n      <td>MODAL</td>\n      <td>14.0</td>\n      <td>8.00</td>\n      <td>0.125000</td>\n      <td>34.300000</td>\n      <td>0.00</td>\n      <td>16.0</td>\n    </tr>\n    <tr>\n      <th>12</th>\n      <td>2019-08-01</td>\n      <td>PCAR4</td>\n      <td>Fracionário</td>\n      <td>P.ACUCAR-CBD PN      N1</td>\n      <td>C</td>\n      <td>MODAL</td>\n      <td>5.0</td>\n      <td>474.30</td>\n      <td>94.860000</td>\n      <td>94.860000</td>\n      <td>0.00</td>\n      <td>5.0</td>\n    </tr>\n    <tr>\n      <th>13</th>\n      <td>2019-08-01</td>\n      <td>RENT3</td>\n      <td>Fracionário</td>\n      <td>LOCALIZA     ON      NM</td>\n      <td>C</td>\n      <td>MODAL</td>\n      <td>11.0</td>\n      <td>488.18</td>\n      <td>44.380000</td>\n      <td>44.380000</td>\n      <td>0.00</td>\n      <td>11.0</td>\n    </tr>\n    <tr>\n      <th>14</th>\n      <td>2019-08-01</td>\n      <td>VALE3</td>\n      <td>Fracionário</td>\n      <td>VALE         ON      NM</td>\n      <td>C</td>\n      <td>MODAL</td>\n      <td>10.0</td>\n      <td>489.30</td>\n      <td>48.930000</td>\n      <td>50.465000</td>\n      <td>0.00</td>\n      <td>20.0</td>\n    </tr>\n    <tr>\n      <th>15</th>\n      <td>2019-08-01</td>\n      <td>VVAR3</td>\n      <td>Fracionário</td>\n      <td>VIAVAREJO    ON      NM</td>\n      <td>C</td>\n      <td>MODAL</td>\n      <td>60.0</td>\n      <td>493.80</td>\n      <td>8.230000</td>\n      <td>8.230000</td>\n      <td>0.00</td>\n      <td>60.0</td>\n    </tr>\n    <tr>\n      <th>16</th>\n      <td>2019-08-05</td>\n      <td>IRBR3</td>\n      <td>Fracionário</td>\n      <td>IRBBRASIL RE ON      NM</td>\n      <td>C</td>\n      <td>MODAL</td>\n      <td>5.0</td>\n      <td>457.50</td>\n      <td>91.500000</td>\n      <td>91.500000</td>\n      <td>0.00</td>\n      <td>5.0</td>\n    </tr>\n    <tr>\n      <th>17</th>\n      <td>2019-08-05</td>\n      <td>JBSS3</td>\n      <td>Fracionário</td>\n      <td>JBS          ON      NM</td>\n      <td>V</td>\n      <td>MODAL</td>\n      <td>-16.0</td>\n      <td>413.51</td>\n      <td>25.844375</td>\n      <td>26.855000</td>\n      <td>-16.17</td>\n      <td>0.0</td>\n    </tr>\n    <tr>\n      <th>18</th>\n      <td>2019-08-07</td>\n      <td>PETR4</td>\n      <td>Fracionário</td>\n      <td>PETROBRAS    PN      N2</td>\n      <td>V</td>\n      <td>MODAL</td>\n      <td>-17.0</td>\n      <td>430.61</td>\n      <td>25.330000</td>\n      <td>28.170000</td>\n      <td>-48.28</td>\n      <td>0.0</td>\n    </tr>\n    <tr>\n      <th>19</th>\n      <td>2019-08-08</td>\n      <td>PETR4</td>\n      <td>Fracionário</td>\n      <td>PETROBRAS    PN      N2</td>\n      <td>C</td>\n      <td>MODAL</td>\n      <td>20.0</td>\n      <td>522.52</td>\n      <td>26.126000</td>\n      <td>26.126000</td>\n      <td>0.00</td>\n      <td>20.0</td>\n    </tr>\n    <tr>\n      <th>20</th>\n      <td>2019-08-26</td>\n      <td>MGLU3</td>\n      <td>Fracionário</td>\n      <td>MAGAZ LUIZA  ON      NM</td>\n      <td>C</td>\n      <td>MODAL</td>\n      <td>10.0</td>\n      <td>337.50</td>\n      <td>33.750000</td>\n      <td>34.088462</td>\n      <td>0.00</td>\n      <td>26.0</td>\n    </tr>\n    <tr>\n      <th>21</th>\n      <td>2019-09-02</td>\n      <td>ANIM3</td>\n      <td>Fracionário</td>\n      <td>ANIMA        ON      NM</td>\n      <td>V</td>\n      <td>MODAL</td>\n      <td>-20.0</td>\n      <td>416.20</td>\n      <td>20.810000</td>\n      <td>21.270000</td>\n      <td>-9.20</td>\n      <td>0.0</td>\n    </tr>\n    <tr>\n      <th>22</th>\n      <td>2019-09-02</td>\n      <td>B3SA3</td>\n      <td>Fracionário</td>\n      <td>B3           ON      NM</td>\n      <td>V</td>\n      <td>MODAL</td>\n      <td>-10.0</td>\n      <td>442.70</td>\n      <td>44.270000</td>\n      <td>43.070000</td>\n      <td>12.00</td>\n      <td>0.0</td>\n    </tr>\n    <tr>\n      <th>23</th>\n      <td>2019-09-02</td>\n      <td>CVCB3</td>\n      <td>Fracionário</td>\n      <td>CVC BRASIL   ON      NM</td>\n      <td>V</td>\n      <td>MODAL</td>\n      <td>-9.0</td>\n      <td>474.30</td>\n      <td>52.700000</td>\n      <td>51.000000</td>\n      <td>15.30</td>\n      <td>0.0</td>\n    </tr>\n    <tr>\n      <th>24</th>\n      <td>2019-09-02</td>\n      <td>IRBR3</td>\n      <td>Fracionário</td>\n      <td>IRBBRASIL RE ON      NM</td>\n      <td>V</td>\n      <td>MODAL</td>\n      <td>-5.0</td>\n      <td>535.10</td>\n      <td>107.020000</td>\n      <td>91.500000</td>\n      <td>77.60</td>\n      <td>0.0</td>\n    </tr>\n    <tr>\n      <th>25</th>\n      <td>2019-09-02</td>\n      <td>LREN3</td>\n      <td>Fracionário</td>\n      <td>LOJAS RENNER ON      NM</td>\n      <td>V</td>\n      <td>MODAL</td>\n      <td>-10.0</td>\n      <td>506.20</td>\n      <td>50.620000</td>\n      <td>49.320000</td>\n      <td>13.00</td>\n      <td>0.0</td>\n    </tr>\n    <tr>\n      <th>26</th>\n      <td>2019-09-02</td>\n      <td>PCAR4</td>\n      <td>Fracionário</td>\n      <td>P.ACUCAR-CBD PN      N1</td>\n      <td>V</td>\n      <td>MODAL</td>\n      <td>-5.0</td>\n      <td>431.55</td>\n      <td>86.310000</td>\n      <td>94.860000</td>\n      <td>-42.75</td>\n      <td>0.0</td>\n    </tr>\n    <tr>\n      <th>27</th>\n      <td>2019-09-02</td>\n      <td>RAIL3</td>\n      <td>Fracionário</td>\n      <td>RUMO S.A.    ON      NM</td>\n      <td>V</td>\n      <td>MODAL</td>\n      <td>-20.0</td>\n      <td>456.40</td>\n      <td>22.820000</td>\n      <td>22.170000</td>\n      <td>13.00</td>\n      <td>0.0</td>\n    </tr>\n    <tr>\n      <th>28</th>\n      <td>2019-09-02</td>\n      <td>RENT3</td>\n      <td>Fracionário</td>\n      <td>LOCALIZA     ON      NM</td>\n      <td>V</td>\n      <td>MODAL</td>\n      <td>-11.0</td>\n      <td>513.59</td>\n      <td>46.690000</td>\n      <td>44.380000</td>\n      <td>25.41</td>\n      <td>0.0</td>\n    </tr>\n    <tr>\n      <th>35</th>\n      <td>2019-09-05</td>\n      <td>MGLU3</td>\n      <td>Fracionário</td>\n      <td>MAGAZ LUIZA  ON      NM</td>\n      <td>C</td>\n      <td>MODAL</td>\n      <td>7.0</td>\n      <td>263.97</td>\n      <td>37.710000</td>\n      <td>34.856667</td>\n      <td>0.00</td>\n      <td>33.0</td>\n    </tr>\n    <tr>\n      <th>37</th>\n      <td>2019-09-05</td>\n      <td>PETR4</td>\n      <td>Fracionário</td>\n      <td>PETROBRAS    PN      N2</td>\n      <td>C</td>\n      <td>MODAL</td>\n      <td>19.0</td>\n      <td>506.16</td>\n      <td>26.640000</td>\n      <td>26.376410</td>\n      <td>0.00</td>\n      <td>39.0</td>\n    </tr>\n    <tr>\n      <th>38</th>\n      <td>2019-09-05</td>\n      <td>VALE3</td>\n      <td>Fracionário</td>\n      <td>VALE         ON      NM</td>\n      <td>C</td>\n      <td>MODAL</td>\n      <td>5.0</td>\n      <td>235.65</td>\n      <td>47.130000</td>\n      <td>49.798000</td>\n      <td>0.00</td>\n      <td>25.0</td>\n    </tr>\n    <tr>\n      <th>42</th>\n      <td>2019-09-12</td>\n      <td>VVAR3</td>\n      <td>Fracionário</td>\n      <td>VIAVAREJO    ON      NM</td>\n      <td>C</td>\n      <td>MODAL</td>\n      <td>40.0</td>\n      <td>282.00</td>\n      <td>7.050000</td>\n      <td>7.758000</td>\n      <td>0.00</td>\n      <td>100.0</td>\n    </tr>\n  </tbody>\n</table>\n</div>",
          "text/plain": "         Data Código      Mercado            Especificação Tipo de Execução  \\\n0  2019-07-11  CVCB3  Fracionário  CVC BRASIL   ON      NM                C   \n1  2019-07-11  PETR4  Fracionário  PETROBRAS    PN      N2                C   \n2  2019-07-11  RAIL3  Fracionário  RUMO S.A.    ON      NM                C   \n3  2019-07-11  VALE3  Fracionário  VALE         ON      NM                C   \n4  2019-07-19  CVCB3  Fracionário  CVC BRASIL   ON      NM                V   \n5  2019-08-01  ANIM3  Fracionário  ANIMA        ON      NM                C   \n6  2019-08-01  B3SA3  Fracionário  B3           ON      NM                C   \n7  2019-08-01  CVCB3  Fracionário  CVC BRASIL   ON      NM                C   \n8  2019-08-01  JBSS3  Fracionário  JBS          ON      NM                C   \n9  2019-08-01  LREN3  Fracionário  LOJAS RENNER ON      NM                C   \n10 2019-08-01  MGLU3  Fracionário  MAGAZ LUIZA  ON      NM                C   \n11 2019-08-01  MGLU3  Fracionário  MAGAZ LUIZA  ON      NM              DES   \n12 2019-08-01  PCAR4  Fracionário  P.ACUCAR-CBD PN      N1                C   \n13 2019-08-01  RENT3  Fracionário  LOCALIZA     ON      NM                C   \n14 2019-08-01  VALE3  Fracionário  VALE         ON      NM                C   \n15 2019-08-01  VVAR3  Fracionário  VIAVAREJO    ON      NM                C   \n16 2019-08-05  IRBR3  Fracionário  IRBBRASIL RE ON      NM                C   \n17 2019-08-05  JBSS3  Fracionário  JBS          ON      NM                V   \n18 2019-08-07  PETR4  Fracionário  PETROBRAS    PN      N2                V   \n19 2019-08-08  PETR4  Fracionário  PETROBRAS    PN      N2                C   \n20 2019-08-26  MGLU3  Fracionário  MAGAZ LUIZA  ON      NM                C   \n21 2019-09-02  ANIM3  Fracionário  ANIMA        ON      NM                V   \n22 2019-09-02  B3SA3  Fracionário  B3           ON      NM                V   \n23 2019-09-02  CVCB3  Fracionário  CVC BRASIL   ON      NM                V   \n24 2019-09-02  IRBR3  Fracionário  IRBBRASIL RE ON      NM                V   \n25 2019-09-02  LREN3  Fracionário  LOJAS RENNER ON      NM                V   \n26 2019-09-02  PCAR4  Fracionário  P.ACUCAR-CBD PN      N1                V   \n27 2019-09-02  RAIL3  Fracionário  RUMO S.A.    ON      NM                V   \n28 2019-09-02  RENT3  Fracionário  LOCALIZA     ON      NM                V   \n35 2019-09-05  MGLU3  Fracionário  MAGAZ LUIZA  ON      NM                C   \n37 2019-09-05  PETR4  Fracionário  PETROBRAS    PN      N2                C   \n38 2019-09-05  VALE3  Fracionário  VALE         ON      NM                C   \n42 2019-09-12  VVAR3  Fracionário  VIAVAREJO    ON      NM                C   \n\n   Corretora  Quantidade de C/V  Valor Total  Preço de C/V  Preço Atual  \\\n0      MODAL               10.0       530.00     53.000000    53.000000   \n1      MODAL               17.0       478.89     28.170000    28.170000   \n2      MODAL               20.0       443.40     22.170000    22.170000   \n3      MODAL               10.0       520.00     52.000000    52.000000   \n4      MODAL              -10.0       487.00     48.700000    53.000000   \n5      MODAL               20.0       425.40     21.270000    21.270000   \n6      MODAL               10.0       430.70     43.070000    43.070000   \n7      MODAL                9.0       459.00     51.000000    51.000000   \n8      MODAL               16.0       429.68     26.855000    26.855000   \n9      MODAL               10.0       493.20     49.320000    49.320000   \n10     MODAL                2.0       548.80    274.400000   274.400000   \n11     MODAL               14.0         8.00      0.125000    34.300000   \n12     MODAL                5.0       474.30     94.860000    94.860000   \n13     MODAL               11.0       488.18     44.380000    44.380000   \n14     MODAL               10.0       489.30     48.930000    50.465000   \n15     MODAL               60.0       493.80      8.230000     8.230000   \n16     MODAL                5.0       457.50     91.500000    91.500000   \n17     MODAL              -16.0       413.51     25.844375    26.855000   \n18     MODAL              -17.0       430.61     25.330000    28.170000   \n19     MODAL               20.0       522.52     26.126000    26.126000   \n20     MODAL               10.0       337.50     33.750000    34.088462   \n21     MODAL              -20.0       416.20     20.810000    21.270000   \n22     MODAL              -10.0       442.70     44.270000    43.070000   \n23     MODAL               -9.0       474.30     52.700000    51.000000   \n24     MODAL               -5.0       535.10    107.020000    91.500000   \n25     MODAL              -10.0       506.20     50.620000    49.320000   \n26     MODAL               -5.0       431.55     86.310000    94.860000   \n27     MODAL              -20.0       456.40     22.820000    22.170000   \n28     MODAL              -11.0       513.59     46.690000    44.380000   \n35     MODAL                7.0       263.97     37.710000    34.856667   \n37     MODAL               19.0       506.16     26.640000    26.376410   \n38     MODAL                5.0       235.65     47.130000    49.798000   \n42     MODAL               40.0       282.00      7.050000     7.758000   \n\n      L/P  Quantidade Atual  \n0    0.00              10.0  \n1    0.00              17.0  \n2    0.00              20.0  \n3    0.00              10.0  \n4  -43.00               0.0  \n5    0.00              20.0  \n6    0.00              10.0  \n7    0.00               9.0  \n8    0.00              16.0  \n9    0.00              10.0  \n10   0.00               2.0  \n11   0.00              16.0  \n12   0.00               5.0  \n13   0.00              11.0  \n14   0.00              20.0  \n15   0.00              60.0  \n16   0.00               5.0  \n17 -16.17               0.0  \n18 -48.28               0.0  \n19   0.00              20.0  \n20   0.00              26.0  \n21  -9.20               0.0  \n22  12.00               0.0  \n23  15.30               0.0  \n24  77.60               0.0  \n25  13.00               0.0  \n26 -42.75               0.0  \n27  13.00               0.0  \n28  25.41               0.0  \n35   0.00              33.0  \n37   0.00              39.0  \n38   0.00              25.0  \n42   0.00             100.0  "
         },
         "metadata": {},
         "output_type": "display_data"
        }
       ]
      }
     },
     "0555fdd0639946e19ab1d2b4bbc75aa9": {
      "model_module": "@jupyter-widgets/base",
      "model_module_version": "1.2.0",
      "model_name": "LayoutModel",
      "state": {}
     },
     "08ef2911c7de4978abe1d85930b40f17": {
      "model_module": "@jupyter-widgets/controls",
      "model_module_version": "1.5.0",
      "model_name": "DescriptionStyleModel",
      "state": {
       "description_width": ""
      }
     },
     "09065e12746142a8a060f5d7d0c62453": {
      "model_module": "@jupyter-widgets/base",
      "model_module_version": "1.2.0",
      "model_name": "LayoutModel",
      "state": {}
     },
     "09621b9baaca415dab32bd8aa33e6aec": {
      "model_module": "@jupyter-widgets/controls",
      "model_module_version": "1.5.0",
      "model_name": "DropdownModel",
      "state": {
       "_options_labels": [
        "MODAL",
        "CLEAR"
       ],
       "description": "corretora",
       "index": 1,
       "layout": "IPY_MODEL_5dd7790c71d84558b734ecf4b13c03b3",
       "style": "IPY_MODEL_57a95da8403141a89aeb969b2f0b221a"
      }
     },
     "0cb6c67e7aa840f2912a6f0dff79cefe": {
      "model_module": "@jupyter-widgets/controls",
      "model_module_version": "1.5.0",
      "model_name": "VBoxModel",
      "state": {
       "_dom_classes": [
        "widget-interact"
       ],
       "children": [
        "IPY_MODEL_03c945e928c04fa68527a44aa7ab66d9",
        "IPY_MODEL_a899a836d4874d75bb4e140b88a1719e"
       ],
       "layout": "IPY_MODEL_89b365ad969242538b2c6121e448eea8"
      }
     },
     "0e6f6bb854df4c25ae82fb43c3489666": {
      "model_module": "@jupyter-widgets/controls",
      "model_module_version": "1.5.0",
      "model_name": "DescriptionStyleModel",
      "state": {
       "description_width": ""
      }
     },
     "0f2519cde113444cb7c2d44036d001b7": {
      "model_module": "@jupyter-widgets/controls",
      "model_module_version": "1.5.0",
      "model_name": "DropdownModel",
      "state": {
       "_options_labels": [
        "CVCB3",
        "PETR4",
        "RAIL3",
        "VALE3",
        "ANIM3",
        "B3SA3",
        "JBSS3",
        "LREN3",
        "MGLU3",
        "PCAR4",
        "RENT3",
        "VVAR3",
        "IRBR3",
        "BBDC3",
        "BBSE3",
        "CSNA3",
        "CYRE3",
        "EVEN3",
        "MOVI3",
        "EZTC3",
        "SANB11",
        "SBSP3",
        "BBDC4",
        "LCAM3",
        "KLBN11"
       ],
       "description": "ativo",
       "index": 0,
       "layout": "IPY_MODEL_2efd005d77854b2aac26f2fdeb51205d",
       "style": "IPY_MODEL_90ed2ee0a6054e908f217261c227bcf4"
      }
     },
     "11caf8bb4a2d4e2faed22d2ef0f5d881": {
      "model_module": "@jupyter-widgets/base",
      "model_module_version": "1.2.0",
      "model_name": "LayoutModel",
      "state": {}
     },
     "133179876a3f4bc892f7d289cb045fb7": {
      "model_module": "@jupyter-widgets/base",
      "model_module_version": "1.2.0",
      "model_name": "LayoutModel",
      "state": {}
     },
     "136ff0e5b9c5482baccd2f149d1d665f": {
      "model_module": "@jupyter-widgets/controls",
      "model_module_version": "1.5.0",
      "model_name": "DropdownModel",
      "state": {
       "_options_labels": [
        "MODAL",
        "CLEAR"
       ],
       "description": "name",
       "index": 1,
       "layout": "IPY_MODEL_329900879cce48c1b22866562c4fb037",
       "style": "IPY_MODEL_6fbc154553b74443a5a04488e353a089"
      }
     },
     "140a6df3596f460b9cebac96ef6e7217": {
      "model_module": "@jupyter-widgets/output",
      "model_module_version": "1.0.0",
      "model_name": "OutputModel",
      "state": {
       "layout": "IPY_MODEL_e55e40c6d1bf4ed0a8bf7a91d96381c9",
       "outputs": [
        {
         "data": {
          "text/html": "<div>\n<style scoped>\n    .dataframe tbody tr th:only-of-type {\n        vertical-align: middle;\n    }\n\n    .dataframe tbody tr th {\n        vertical-align: top;\n    }\n\n    .dataframe thead th {\n        text-align: right;\n    }\n</style>\n<table border=\"1\" class=\"dataframe\">\n  <thead>\n    <tr style=\"text-align: right;\">\n      <th></th>\n      <th>Data</th>\n      <th>Código</th>\n      <th>Quantidade de C/V</th>\n      <th>&lt;Preço&gt;</th>\n      <th>&lt;Valor Total&gt;</th>\n      <th>Corretora</th>\n      <th>Posição</th>\n    </tr>\n  </thead>\n  <tbody>\n    <tr>\n      <th>43</th>\n      <td>2019-10-01</td>\n      <td>BBDC3</td>\n      <td>-16.0</td>\n      <td>30.55</td>\n      <td>488.80</td>\n      <td>CLEAR</td>\n      <td>Zerada</td>\n    </tr>\n    <tr>\n      <th>44</th>\n      <td>2019-10-01</td>\n      <td>BBSE3</td>\n      <td>-15.0</td>\n      <td>32.90</td>\n      <td>493.50</td>\n      <td>CLEAR</td>\n      <td>Zerada</td>\n    </tr>\n    <tr>\n      <th>45</th>\n      <td>2019-10-01</td>\n      <td>CSNA3</td>\n      <td>-35.0</td>\n      <td>14.53</td>\n      <td>508.55</td>\n      <td>CLEAR</td>\n      <td>Zerada</td>\n    </tr>\n    <tr>\n      <th>46</th>\n      <td>2019-10-01</td>\n      <td>EVEN3</td>\n      <td>-65.0</td>\n      <td>10.84</td>\n      <td>704.60</td>\n      <td>CLEAR</td>\n      <td>Zerada</td>\n    </tr>\n    <tr>\n      <th>54</th>\n      <td>2019-11-04</td>\n      <td>MOVI3</td>\n      <td>-31.0</td>\n      <td>15.71</td>\n      <td>487.01</td>\n      <td>CLEAR</td>\n      <td>Zerada</td>\n    </tr>\n    <tr>\n      <th>55</th>\n      <td>2019-11-04</td>\n      <td>SANB11</td>\n      <td>-12.0</td>\n      <td>45.65</td>\n      <td>547.80</td>\n      <td>CLEAR</td>\n      <td>Zerada</td>\n    </tr>\n    <tr>\n      <th>56</th>\n      <td>2019-11-04</td>\n      <td>SBSP3</td>\n      <td>-11.0</td>\n      <td>49.90</td>\n      <td>548.90</td>\n      <td>CLEAR</td>\n      <td>Zerada</td>\n    </tr>\n    <tr>\n      <th>58</th>\n      <td>2019-12-02</td>\n      <td>IRBR3</td>\n      <td>-14.0</td>\n      <td>37.80</td>\n      <td>529.20</td>\n      <td>CLEAR</td>\n      <td>Zerada</td>\n    </tr>\n    <tr>\n      <th>57</th>\n      <td>2019-12-02</td>\n      <td>BBDC4</td>\n      <td>-15.0</td>\n      <td>35.05</td>\n      <td>525.75</td>\n      <td>CLEAR</td>\n      <td>Zerada</td>\n    </tr>\n  </tbody>\n</table>\n</div>",
          "text/plain": "         Data  Código  Quantidade de C/V  <Preço>  <Valor Total> Corretora  \\\n43 2019-10-01   BBDC3              -16.0    30.55         488.80     CLEAR   \n44 2019-10-01   BBSE3              -15.0    32.90         493.50     CLEAR   \n45 2019-10-01   CSNA3              -35.0    14.53         508.55     CLEAR   \n46 2019-10-01   EVEN3              -65.0    10.84         704.60     CLEAR   \n54 2019-11-04   MOVI3              -31.0    15.71         487.01     CLEAR   \n55 2019-11-04  SANB11              -12.0    45.65         547.80     CLEAR   \n56 2019-11-04   SBSP3              -11.0    49.90         548.90     CLEAR   \n58 2019-12-02   IRBR3              -14.0    37.80         529.20     CLEAR   \n57 2019-12-02   BBDC4              -15.0    35.05         525.75     CLEAR   \n\n   Posição  \n43  Zerada  \n44  Zerada  \n45  Zerada  \n46  Zerada  \n54  Zerada  \n55  Zerada  \n56  Zerada  \n58  Zerada  \n57  Zerada  "
         },
         "metadata": {},
         "output_type": "display_data"
        }
       ]
      }
     },
     "1aa3211d94464925aaa8b11a673c4da7": {
      "model_module": "@jupyter-widgets/output",
      "model_module_version": "1.0.0",
      "model_name": "OutputModel",
      "state": {
       "layout": "IPY_MODEL_b0cc39136bd84db799b3085062261ce3",
       "outputs": [
        {
         "ename": "IndexError",
         "evalue": "single positional indexer is out-of-bounds",
         "output_type": "error",
         "traceback": [
          "\u001b[0;31m---------------------------------------------------------------------------\u001b[0m",
          "\u001b[0;31mIndexError\u001b[0m                                Traceback (most recent call last)",
          "\u001b[0;32m~/anaconda3/envs/data/lib/python3.7/site-packages/ipywidgets/widgets/interaction.py\u001b[0m in \u001b[0;36mupdate\u001b[0;34m(self, *args)\u001b[0m\n\u001b[1;32m    254\u001b[0m                     \u001b[0mvalue\u001b[0m \u001b[0;34m=\u001b[0m \u001b[0mwidget\u001b[0m\u001b[0;34m.\u001b[0m\u001b[0mget_interact_value\u001b[0m\u001b[0;34m(\u001b[0m\u001b[0;34m)\u001b[0m\u001b[0;34m\u001b[0m\u001b[0;34m\u001b[0m\u001b[0m\n\u001b[1;32m    255\u001b[0m                     \u001b[0mself\u001b[0m\u001b[0;34m.\u001b[0m\u001b[0mkwargs\u001b[0m\u001b[0;34m[\u001b[0m\u001b[0mwidget\u001b[0m\u001b[0;34m.\u001b[0m\u001b[0m_kwarg\u001b[0m\u001b[0;34m]\u001b[0m \u001b[0;34m=\u001b[0m \u001b[0mvalue\u001b[0m\u001b[0;34m\u001b[0m\u001b[0;34m\u001b[0m\u001b[0m\n\u001b[0;32m--> 256\u001b[0;31m                 \u001b[0mself\u001b[0m\u001b[0;34m.\u001b[0m\u001b[0mresult\u001b[0m \u001b[0;34m=\u001b[0m \u001b[0mself\u001b[0m\u001b[0;34m.\u001b[0m\u001b[0mf\u001b[0m\u001b[0;34m(\u001b[0m\u001b[0;34m**\u001b[0m\u001b[0mself\u001b[0m\u001b[0;34m.\u001b[0m\u001b[0mkwargs\u001b[0m\u001b[0;34m)\u001b[0m\u001b[0;34m\u001b[0m\u001b[0;34m\u001b[0m\u001b[0m\n\u001b[0m\u001b[1;32m    257\u001b[0m                 \u001b[0mshow_inline_matplotlib_plots\u001b[0m\u001b[0;34m(\u001b[0m\u001b[0;34m)\u001b[0m\u001b[0;34m\u001b[0m\u001b[0;34m\u001b[0m\u001b[0m\n\u001b[1;32m    258\u001b[0m                 \u001b[0;32mif\u001b[0m \u001b[0mself\u001b[0m\u001b[0;34m.\u001b[0m\u001b[0mauto_display\u001b[0m \u001b[0;32mand\u001b[0m \u001b[0mself\u001b[0m\u001b[0;34m.\u001b[0m\u001b[0mresult\u001b[0m \u001b[0;32mis\u001b[0m \u001b[0;32mnot\u001b[0m \u001b[0;32mNone\u001b[0m\u001b[0;34m:\u001b[0m\u001b[0;34m\u001b[0m\u001b[0;34m\u001b[0m\u001b[0m\n",
          "\u001b[0;32m<ipython-input-105-6f29c920d2f2>\u001b[0m in \u001b[0;36mf\u001b[0;34m(corretora)\u001b[0m\n\u001b[1;32m      3\u001b[0m     \u001b[0mdf\u001b[0m \u001b[0;34m=\u001b[0m \u001b[0mdf_ativos\u001b[0m\u001b[0;34m[\u001b[0m\u001b[0mdf_ativos\u001b[0m\u001b[0;34m[\u001b[0m\u001b[0;34m'Corretora'\u001b[0m\u001b[0;34m]\u001b[0m \u001b[0;34m==\u001b[0m \u001b[0mcorretora\u001b[0m\u001b[0;34m]\u001b[0m\u001b[0;34m\u001b[0m\u001b[0;34m\u001b[0m\u001b[0m\n\u001b[1;32m      4\u001b[0m \u001b[0;34m\u001b[0m\u001b[0m\n\u001b[0;32m----> 5\u001b[0;31m     \u001b[0mdisplay\u001b[0m\u001b[0;34m(\u001b[0m\u001b[0mcarteira_de_acoes_atual\u001b[0m\u001b[0;34m(\u001b[0m\u001b[0mdf\u001b[0m\u001b[0;34m.\u001b[0m\u001b[0mcopy\u001b[0m\u001b[0;34m(\u001b[0m\u001b[0;34m)\u001b[0m\u001b[0;34m,\u001b[0m \u001b[0moffline\u001b[0m\u001b[0;34m=\u001b[0m\u001b[0;32mTrue\u001b[0m\u001b[0;34m)\u001b[0m\u001b[0;34m)\u001b[0m\u001b[0;34m\u001b[0m\u001b[0;34m\u001b[0m\u001b[0m\n\u001b[0m\u001b[1;32m      6\u001b[0m \u001b[0;34m\u001b[0m\u001b[0m\n\u001b[1;32m      7\u001b[0m \u001b[0minteractive\u001b[0m\u001b[0;34m(\u001b[0m\u001b[0mf\u001b[0m\u001b[0;34m,\u001b[0m \u001b[0mcorretora\u001b[0m\u001b[0;34m=\u001b[0m\u001b[0mdf_ativos\u001b[0m\u001b[0;34m[\u001b[0m\u001b[0;34m'Corretora'\u001b[0m\u001b[0;34m]\u001b[0m\u001b[0;34m.\u001b[0m\u001b[0munique\u001b[0m\u001b[0;34m(\u001b[0m\u001b[0;34m)\u001b[0m\u001b[0;34m)\u001b[0m\u001b[0;34m\u001b[0m\u001b[0;34m\u001b[0m\u001b[0m\n",
          "\u001b[0;32m<ipython-input-103-253fe6605bb8>\u001b[0m in \u001b[0;36mcarteira_de_acoes_atual\u001b[0;34m(df, offline)\u001b[0m\n\u001b[1;32m      9\u001b[0m         \u001b[0mlast_idx\u001b[0m \u001b[0;34m=\u001b[0m \u001b[0mdf\u001b[0m\u001b[0;34m[\u001b[0m\u001b[0mdf\u001b[0m\u001b[0;34m[\u001b[0m\u001b[0;34m[\u001b[0m\u001b[0;34m'Código'\u001b[0m\u001b[0;34m]\u001b[0m\u001b[0;34m]\u001b[0m \u001b[0;34m==\u001b[0m \u001b[0mcod\u001b[0m\u001b[0;34m]\u001b[0m\u001b[0;34m.\u001b[0m\u001b[0mlast_valid_index\u001b[0m\u001b[0;34m(\u001b[0m\u001b[0;34m)\u001b[0m\u001b[0;34m\u001b[0m\u001b[0;34m\u001b[0m\u001b[0m\n\u001b[1;32m     10\u001b[0m \u001b[0;34m\u001b[0m\u001b[0m\n\u001b[0;32m---> 11\u001b[0;31m         \u001b[0mcarteira\u001b[0m \u001b[0;34m=\u001b[0m \u001b[0mcarteira\u001b[0m\u001b[0;34m.\u001b[0m\u001b[0mappend\u001b[0m\u001b[0;34m(\u001b[0m\u001b[0mdf\u001b[0m\u001b[0;34m.\u001b[0m\u001b[0miloc\u001b[0m\u001b[0;34m[\u001b[0m\u001b[0mlast_idx\u001b[0m\u001b[0;34m]\u001b[0m\u001b[0;34m,\u001b[0m \u001b[0mignore_index\u001b[0m\u001b[0;34m=\u001b[0m\u001b[0;32mTrue\u001b[0m\u001b[0;34m)\u001b[0m\u001b[0;34m\u001b[0m\u001b[0;34m\u001b[0m\u001b[0m\n\u001b[0m\u001b[1;32m     12\u001b[0m \u001b[0;34m\u001b[0m\u001b[0m\n\u001b[1;32m     13\u001b[0m     \u001b[0mcarteira\u001b[0m \u001b[0;34m=\u001b[0m \u001b[0mcarteira\u001b[0m\u001b[0;34m[\u001b[0m\u001b[0mcarteira\u001b[0m\u001b[0;34m[\u001b[0m\u001b[0;34m'Quantidade Atual'\u001b[0m\u001b[0;34m]\u001b[0m \u001b[0;34m!=\u001b[0m \u001b[0;36m0.0\u001b[0m\u001b[0;34m]\u001b[0m\u001b[0;34m\u001b[0m\u001b[0;34m\u001b[0m\u001b[0m\n",
          "\u001b[0;32m~/anaconda3/envs/data/lib/python3.7/site-packages/pandas/core/indexing.py\u001b[0m in \u001b[0;36m__getitem__\u001b[0;34m(self, key)\u001b[0m\n\u001b[1;32m   1765\u001b[0m \u001b[0;34m\u001b[0m\u001b[0m\n\u001b[1;32m   1766\u001b[0m             \u001b[0mmaybe_callable\u001b[0m \u001b[0;34m=\u001b[0m \u001b[0mcom\u001b[0m\u001b[0;34m.\u001b[0m\u001b[0mapply_if_callable\u001b[0m\u001b[0;34m(\u001b[0m\u001b[0mkey\u001b[0m\u001b[0;34m,\u001b[0m \u001b[0mself\u001b[0m\u001b[0;34m.\u001b[0m\u001b[0mobj\u001b[0m\u001b[0;34m)\u001b[0m\u001b[0;34m\u001b[0m\u001b[0;34m\u001b[0m\u001b[0m\n\u001b[0;32m-> 1767\u001b[0;31m             \u001b[0;32mreturn\u001b[0m \u001b[0mself\u001b[0m\u001b[0;34m.\u001b[0m\u001b[0m_getitem_axis\u001b[0m\u001b[0;34m(\u001b[0m\u001b[0mmaybe_callable\u001b[0m\u001b[0;34m,\u001b[0m \u001b[0maxis\u001b[0m\u001b[0;34m=\u001b[0m\u001b[0maxis\u001b[0m\u001b[0;34m)\u001b[0m\u001b[0;34m\u001b[0m\u001b[0;34m\u001b[0m\u001b[0m\n\u001b[0m\u001b[1;32m   1768\u001b[0m \u001b[0;34m\u001b[0m\u001b[0m\n\u001b[1;32m   1769\u001b[0m     \u001b[0;32mdef\u001b[0m \u001b[0m_is_scalar_access\u001b[0m\u001b[0;34m(\u001b[0m\u001b[0mself\u001b[0m\u001b[0;34m,\u001b[0m \u001b[0mkey\u001b[0m\u001b[0;34m:\u001b[0m \u001b[0mTuple\u001b[0m\u001b[0;34m)\u001b[0m\u001b[0;34m:\u001b[0m\u001b[0;34m\u001b[0m\u001b[0;34m\u001b[0m\u001b[0m\n",
          "\u001b[0;32m~/anaconda3/envs/data/lib/python3.7/site-packages/pandas/core/indexing.py\u001b[0m in \u001b[0;36m_getitem_axis\u001b[0;34m(self, key, axis)\u001b[0m\n\u001b[1;32m   2135\u001b[0m \u001b[0;34m\u001b[0m\u001b[0m\n\u001b[1;32m   2136\u001b[0m             \u001b[0;31m# validate the location\u001b[0m\u001b[0;34m\u001b[0m\u001b[0;34m\u001b[0m\u001b[0;34m\u001b[0m\u001b[0m\n\u001b[0;32m-> 2137\u001b[0;31m             \u001b[0mself\u001b[0m\u001b[0;34m.\u001b[0m\u001b[0m_validate_integer\u001b[0m\u001b[0;34m(\u001b[0m\u001b[0mkey\u001b[0m\u001b[0;34m,\u001b[0m \u001b[0maxis\u001b[0m\u001b[0;34m)\u001b[0m\u001b[0;34m\u001b[0m\u001b[0;34m\u001b[0m\u001b[0m\n\u001b[0m\u001b[1;32m   2138\u001b[0m \u001b[0;34m\u001b[0m\u001b[0m\n\u001b[1;32m   2139\u001b[0m             \u001b[0;32mreturn\u001b[0m \u001b[0mself\u001b[0m\u001b[0;34m.\u001b[0m\u001b[0m_get_loc\u001b[0m\u001b[0;34m(\u001b[0m\u001b[0mkey\u001b[0m\u001b[0;34m,\u001b[0m \u001b[0maxis\u001b[0m\u001b[0;34m=\u001b[0m\u001b[0maxis\u001b[0m\u001b[0;34m)\u001b[0m\u001b[0;34m\u001b[0m\u001b[0;34m\u001b[0m\u001b[0m\n",
          "\u001b[0;32m~/anaconda3/envs/data/lib/python3.7/site-packages/pandas/core/indexing.py\u001b[0m in \u001b[0;36m_validate_integer\u001b[0;34m(self, key, axis)\u001b[0m\n\u001b[1;32m   2060\u001b[0m         \u001b[0mlen_axis\u001b[0m \u001b[0;34m=\u001b[0m \u001b[0mlen\u001b[0m\u001b[0;34m(\u001b[0m\u001b[0mself\u001b[0m\u001b[0;34m.\u001b[0m\u001b[0mobj\u001b[0m\u001b[0;34m.\u001b[0m\u001b[0m_get_axis\u001b[0m\u001b[0;34m(\u001b[0m\u001b[0maxis\u001b[0m\u001b[0;34m)\u001b[0m\u001b[0;34m)\u001b[0m\u001b[0;34m\u001b[0m\u001b[0;34m\u001b[0m\u001b[0m\n\u001b[1;32m   2061\u001b[0m         \u001b[0;32mif\u001b[0m \u001b[0mkey\u001b[0m \u001b[0;34m>=\u001b[0m \u001b[0mlen_axis\u001b[0m \u001b[0;32mor\u001b[0m \u001b[0mkey\u001b[0m \u001b[0;34m<\u001b[0m \u001b[0;34m-\u001b[0m\u001b[0mlen_axis\u001b[0m\u001b[0;34m:\u001b[0m\u001b[0;34m\u001b[0m\u001b[0;34m\u001b[0m\u001b[0m\n\u001b[0;32m-> 2062\u001b[0;31m             \u001b[0;32mraise\u001b[0m \u001b[0mIndexError\u001b[0m\u001b[0;34m(\u001b[0m\u001b[0;34m\"single positional indexer is out-of-bounds\"\u001b[0m\u001b[0;34m)\u001b[0m\u001b[0;34m\u001b[0m\u001b[0;34m\u001b[0m\u001b[0m\n\u001b[0m\u001b[1;32m   2063\u001b[0m \u001b[0;34m\u001b[0m\u001b[0m\n\u001b[1;32m   2064\u001b[0m     \u001b[0;32mdef\u001b[0m \u001b[0m_getitem_tuple\u001b[0m\u001b[0;34m(\u001b[0m\u001b[0mself\u001b[0m\u001b[0;34m,\u001b[0m \u001b[0mtup\u001b[0m\u001b[0;34m:\u001b[0m \u001b[0mTuple\u001b[0m\u001b[0;34m)\u001b[0m\u001b[0;34m:\u001b[0m\u001b[0;34m\u001b[0m\u001b[0;34m\u001b[0m\u001b[0m\n",
          "\u001b[0;31mIndexError\u001b[0m: single positional indexer is out-of-bounds"
         ]
        }
       ]
      }
     },
     "1c7f697987f74e338af358e1f3e250bf": {
      "model_module": "@jupyter-widgets/base",
      "model_module_version": "1.2.0",
      "model_name": "LayoutModel",
      "state": {}
     },
     "1d397af23b574c3881c852fa5542a9b4": {
      "model_module": "@jupyter-widgets/controls",
      "model_module_version": "1.5.0",
      "model_name": "DropdownModel",
      "state": {
       "_options_labels": [
        "MODAL",
        "CLEAR"
       ],
       "description": "corretora",
       "index": 0,
       "layout": "IPY_MODEL_891e7c3fed344a5aac463e015023891b",
       "style": "IPY_MODEL_74432649c67e45a7b5a1fb56b87ea8f2"
      }
     },
     "1d74b405cb4e4197aed4280508212373": {
      "model_module": "@jupyter-widgets/base",
      "model_module_version": "1.2.0",
      "model_name": "LayoutModel",
      "state": {}
     },
     "221d2518a3c44050a5818ad0ffa02d8f": {
      "model_module": "@jupyter-widgets/controls",
      "model_module_version": "1.5.0",
      "model_name": "VBoxModel",
      "state": {
       "_dom_classes": [
        "widget-interact"
       ],
       "children": [
        "IPY_MODEL_a75c5e4aec81426cbd26e908ff987d69",
        "IPY_MODEL_04a0e261504845cbac0ad36ba6062e24"
       ],
       "layout": "IPY_MODEL_b99e03d818654acd8acd4b696513a30a"
      }
     },
     "22307df501bd43f7a9c3ac20d6f9156b": {
      "model_module": "@jupyter-widgets/controls",
      "model_module_version": "1.5.0",
      "model_name": "DropdownModel",
      "state": {
       "_options_labels": [
        "MODAL",
        "CLEAR"
       ],
       "description": "corretora",
       "index": 1,
       "layout": "IPY_MODEL_2e0dfc974dbd45e7a6291171c292b961",
       "style": "IPY_MODEL_bc1693a3a6c5406787c93a0cbd239d8f"
      }
     },
     "223abbf860a34898ba21339655a24f80": {
      "model_module": "@jupyter-widgets/controls",
      "model_module_version": "1.5.0",
      "model_name": "DropdownModel",
      "state": {
       "_options_labels": [
        "MODAL",
        "CLEAR"
       ],
       "description": "corretora",
       "index": 0,
       "layout": "IPY_MODEL_47e888882f3d4df9a6dbc0db69813e92",
       "style": "IPY_MODEL_640cfb1a14064ade8eb0a58f1d4488b8"
      }
     },
     "233230794e83498ba17a07c343bcf53b": {
      "model_module": "@jupyter-widgets/output",
      "model_module_version": "1.0.0",
      "model_name": "OutputModel",
      "state": {
       "layout": "IPY_MODEL_86ef40725b3047968b214f7629e28907",
       "outputs": [
        {
         "data": {
          "text/html": "<div>\n<style scoped>\n    .dataframe tbody tr th:only-of-type {\n        vertical-align: middle;\n    }\n\n    .dataframe tbody tr th {\n        vertical-align: top;\n    }\n\n    .dataframe thead th {\n        text-align: right;\n    }\n</style>\n<table border=\"1\" class=\"dataframe\">\n  <thead>\n    <tr style=\"text-align: right;\">\n      <th></th>\n      <th>Data</th>\n      <th>Código</th>\n      <th>Quantidade de C/V</th>\n      <th>&lt;Preço&gt;</th>\n      <th>&lt;Valor Total&gt;</th>\n      <th>Situação</th>\n      <th>Corretora</th>\n    </tr>\n  </thead>\n  <tbody>\n    <tr>\n      <th>17</th>\n      <td>2019-08-05</td>\n      <td>JBSS3</td>\n      <td>-16.0</td>\n      <td>26.855</td>\n      <td>429.68</td>\n      <td>Zerada</td>\n      <td>MODAL</td>\n    </tr>\n    <tr>\n      <th>23</th>\n      <td>2019-09-02</td>\n      <td>CVCB3</td>\n      <td>-9.0</td>\n      <td>51.000</td>\n      <td>459.00</td>\n      <td>Zerada</td>\n      <td>MODAL</td>\n    </tr>\n    <tr>\n      <th>27</th>\n      <td>2019-09-02</td>\n      <td>RAIL3</td>\n      <td>-20.0</td>\n      <td>22.170</td>\n      <td>443.40</td>\n      <td>Zerada</td>\n      <td>MODAL</td>\n    </tr>\n    <tr>\n      <th>21</th>\n      <td>2019-09-02</td>\n      <td>ANIM3</td>\n      <td>-20.0</td>\n      <td>21.270</td>\n      <td>425.40</td>\n      <td>Zerada</td>\n      <td>MODAL</td>\n    </tr>\n    <tr>\n      <th>22</th>\n      <td>2019-09-02</td>\n      <td>B3SA3</td>\n      <td>-10.0</td>\n      <td>43.070</td>\n      <td>430.70</td>\n      <td>Zerada</td>\n      <td>MODAL</td>\n    </tr>\n    <tr>\n      <th>25</th>\n      <td>2019-09-02</td>\n      <td>LREN3</td>\n      <td>-10.0</td>\n      <td>49.320</td>\n      <td>493.20</td>\n      <td>Zerada</td>\n      <td>MODAL</td>\n    </tr>\n    <tr>\n      <th>26</th>\n      <td>2019-09-02</td>\n      <td>PCAR4</td>\n      <td>-5.0</td>\n      <td>94.860</td>\n      <td>474.30</td>\n      <td>Zerada</td>\n      <td>MODAL</td>\n    </tr>\n    <tr>\n      <th>28</th>\n      <td>2019-09-02</td>\n      <td>RENT3</td>\n      <td>-11.0</td>\n      <td>44.380</td>\n      <td>488.18</td>\n      <td>Zerada</td>\n      <td>MODAL</td>\n    </tr>\n    <tr>\n      <th>24</th>\n      <td>2019-09-02</td>\n      <td>IRBR3</td>\n      <td>-5.0</td>\n      <td>91.500</td>\n      <td>457.50</td>\n      <td>Zerada</td>\n      <td>MODAL</td>\n    </tr>\n  </tbody>\n</table>\n</div>",
          "text/plain": "         Data Código  Quantidade de C/V  <Preço>  <Valor Total> Situação  \\\n17 2019-08-05  JBSS3              -16.0   26.855         429.68   Zerada   \n23 2019-09-02  CVCB3               -9.0   51.000         459.00   Zerada   \n27 2019-09-02  RAIL3              -20.0   22.170         443.40   Zerada   \n21 2019-09-02  ANIM3              -20.0   21.270         425.40   Zerada   \n22 2019-09-02  B3SA3              -10.0   43.070         430.70   Zerada   \n25 2019-09-02  LREN3              -10.0   49.320         493.20   Zerada   \n26 2019-09-02  PCAR4               -5.0   94.860         474.30   Zerada   \n28 2019-09-02  RENT3              -11.0   44.380         488.18   Zerada   \n24 2019-09-02  IRBR3               -5.0   91.500         457.50   Zerada   \n\n   Corretora  \n17     MODAL  \n23     MODAL  \n27     MODAL  \n21     MODAL  \n22     MODAL  \n25     MODAL  \n26     MODAL  \n28     MODAL  \n24     MODAL  "
         },
         "metadata": {},
         "output_type": "display_data"
        }
       ]
      }
     },
     "23b7bc15673a4a148d1c3f5f1dfd1f87": {
      "model_module": "@jupyter-widgets/base",
      "model_module_version": "1.2.0",
      "model_name": "LayoutModel",
      "state": {}
     },
     "278ba470731c49d48e24872e09f8bec7": {
      "model_module": "@jupyter-widgets/base",
      "model_module_version": "1.2.0",
      "model_name": "LayoutModel",
      "state": {}
     },
     "287c341fab7045d5910434270b0236b4": {
      "model_module": "@jupyter-widgets/base",
      "model_module_version": "1.2.0",
      "model_name": "LayoutModel",
      "state": {}
     },
     "29edb23c1f8e4f46b964a5fb7e2af4c7": {
      "model_module": "@jupyter-widgets/output",
      "model_module_version": "1.0.0",
      "model_name": "OutputModel",
      "state": {
       "layout": "IPY_MODEL_133179876a3f4bc892f7d289cb045fb7"
      }
     },
     "2a4d6c7ab2b8486e8f515bb90ad4ad29": {
      "model_module": "@jupyter-widgets/base",
      "model_module_version": "1.2.0",
      "model_name": "LayoutModel",
      "state": {}
     },
     "2be4b0092f6340169f12a835a3eec6ba": {
      "model_module": "@jupyter-widgets/controls",
      "model_module_version": "1.5.0",
      "model_name": "DescriptionStyleModel",
      "state": {
       "description_width": ""
      }
     },
     "2e0dfc974dbd45e7a6291171c292b961": {
      "model_module": "@jupyter-widgets/base",
      "model_module_version": "1.2.0",
      "model_name": "LayoutModel",
      "state": {}
     },
     "2e6566a5e01b4a1cbe3bcb9bd2b8128c": {
      "model_module": "@jupyter-widgets/base",
      "model_module_version": "1.2.0",
      "model_name": "LayoutModel",
      "state": {}
     },
     "2efd005d77854b2aac26f2fdeb51205d": {
      "model_module": "@jupyter-widgets/base",
      "model_module_version": "1.2.0",
      "model_name": "LayoutModel",
      "state": {}
     },
     "31e668e5d0a741c0b3d2e54d228b9491": {
      "model_module": "@jupyter-widgets/controls",
      "model_module_version": "1.5.0",
      "model_name": "VBoxModel",
      "state": {
       "_dom_classes": [
        "widget-interact"
       ],
       "children": [
        "IPY_MODEL_e80d10e3c2684f959899e09caf97271f",
        "IPY_MODEL_c62915b0aa3647ae8931355ae4c8e2a5"
       ],
       "layout": "IPY_MODEL_6c8c87f4c19b488480052370aa301179"
      }
     },
     "329900879cce48c1b22866562c4fb037": {
      "model_module": "@jupyter-widgets/base",
      "model_module_version": "1.2.0",
      "model_name": "LayoutModel",
      "state": {}
     },
     "33fb0f454c49486890b11c2086813ba5": {
      "model_module": "@jupyter-widgets/base",
      "model_module_version": "1.2.0",
      "model_name": "LayoutModel",
      "state": {}
     },
     "3470285b4358413db83ce57658a069d0": {
      "model_module": "@jupyter-widgets/controls",
      "model_module_version": "1.5.0",
      "model_name": "DescriptionStyleModel",
      "state": {
       "description_width": ""
      }
     },
     "34ccb7fc070c44ec83a06231845342ad": {
      "model_module": "@jupyter-widgets/output",
      "model_module_version": "1.0.0",
      "model_name": "OutputModel",
      "state": {
       "layout": "IPY_MODEL_8b072197c9ed4c4fac9de5c1e7aa38d4",
       "outputs": [
        {
         "data": {
          "text/html": "<div>\n<style scoped>\n    .dataframe tbody tr th:only-of-type {\n        vertical-align: middle;\n    }\n\n    .dataframe tbody tr th {\n        vertical-align: top;\n    }\n\n    .dataframe thead th {\n        text-align: right;\n    }\n</style>\n<table border=\"1\" class=\"dataframe\">\n  <thead>\n    <tr style=\"text-align: right;\">\n      <th></th>\n      <th>Data</th>\n      <th>Código</th>\n      <th>Mercado</th>\n      <th>Especificação</th>\n      <th>Tipo de Execução</th>\n      <th>Corretora</th>\n      <th>Quantidade de C/V</th>\n      <th>Valor Total</th>\n      <th>Preço de C/V</th>\n      <th>Preço Atual</th>\n      <th>L/P</th>\n      <th>Quantidade Atual</th>\n    </tr>\n  </thead>\n  <tbody>\n    <tr>\n      <th>10</th>\n      <td>2019-08-01</td>\n      <td>MGLU3</td>\n      <td>Fracionário</td>\n      <td>MAGAZ LUIZA  ON      NM</td>\n      <td>C</td>\n      <td>MODAL</td>\n      <td>2.0</td>\n      <td>548.80</td>\n      <td>274.400</td>\n      <td>274.400000</td>\n      <td>0.0</td>\n      <td>2.0</td>\n    </tr>\n    <tr>\n      <th>11</th>\n      <td>2019-08-01</td>\n      <td>MGLU3</td>\n      <td>Fracionário</td>\n      <td>MAGAZ LUIZA  ON      NM</td>\n      <td>DES</td>\n      <td>MODAL</td>\n      <td>14.0</td>\n      <td>8.00</td>\n      <td>0.125</td>\n      <td>34.300000</td>\n      <td>0.0</td>\n      <td>16.0</td>\n    </tr>\n    <tr>\n      <th>20</th>\n      <td>2019-08-26</td>\n      <td>MGLU3</td>\n      <td>Fracionário</td>\n      <td>MAGAZ LUIZA  ON      NM</td>\n      <td>C</td>\n      <td>MODAL</td>\n      <td>10.0</td>\n      <td>337.50</td>\n      <td>33.750</td>\n      <td>34.088462</td>\n      <td>0.0</td>\n      <td>26.0</td>\n    </tr>\n    <tr>\n      <th>35</th>\n      <td>2019-09-05</td>\n      <td>MGLU3</td>\n      <td>Fracionário</td>\n      <td>MAGAZ LUIZA  ON      NM</td>\n      <td>C</td>\n      <td>MODAL</td>\n      <td>7.0</td>\n      <td>263.97</td>\n      <td>37.710</td>\n      <td>34.856667</td>\n      <td>0.0</td>\n      <td>33.0</td>\n    </tr>\n  </tbody>\n</table>\n</div>",
          "text/plain": "         Data Código      Mercado            Especificação Tipo de Execução  \\\n10 2019-08-01  MGLU3  Fracionário  MAGAZ LUIZA  ON      NM                C   \n11 2019-08-01  MGLU3  Fracionário  MAGAZ LUIZA  ON      NM              DES   \n20 2019-08-26  MGLU3  Fracionário  MAGAZ LUIZA  ON      NM                C   \n35 2019-09-05  MGLU3  Fracionário  MAGAZ LUIZA  ON      NM                C   \n\n   Corretora  Quantidade de C/V  Valor Total  Preço de C/V  Preço Atual  L/P  \\\n10     MODAL                2.0       548.80       274.400   274.400000  0.0   \n11     MODAL               14.0         8.00         0.125    34.300000  0.0   \n20     MODAL               10.0       337.50        33.750    34.088462  0.0   \n35     MODAL                7.0       263.97        37.710    34.856667  0.0   \n\n    Quantidade Atual  \n10               2.0  \n11              16.0  \n20              26.0  \n35              33.0  "
         },
         "metadata": {},
         "output_type": "display_data"
        }
       ]
      }
     },
     "399afac7ef0a44fcbbc9b684eebb6b91": {
      "model_module": "@jupyter-widgets/controls",
      "model_module_version": "1.5.0",
      "model_name": "VBoxModel",
      "state": {
       "_dom_classes": [
        "widget-interact"
       ],
       "children": [
        "IPY_MODEL_136ff0e5b9c5482baccd2f149d1d665f",
        "IPY_MODEL_4ff017b655c94056a519c8af9a834186"
       ],
       "layout": "IPY_MODEL_7919ea1193fa4689acdd07586de7b599"
      }
     },
     "3d080eaeeb3d4c2fbffe16df037cc457": {
      "model_module": "@jupyter-widgets/base",
      "model_module_version": "1.2.0",
      "model_name": "LayoutModel",
      "state": {}
     },
     "3e3ee3b66f684e6ab9f7569697814fd7": {
      "model_module": "@jupyter-widgets/controls",
      "model_module_version": "1.5.0",
      "model_name": "DescriptionStyleModel",
      "state": {
       "description_width": ""
      }
     },
     "4192408e2ea641ec9adbf79a110d0816": {
      "model_module": "@jupyter-widgets/base",
      "model_module_version": "1.2.0",
      "model_name": "LayoutModel",
      "state": {}
     },
     "422b1c11ee1d4ca0839021e2d3d8ef81": {
      "model_module": "@jupyter-widgets/controls",
      "model_module_version": "1.5.0",
      "model_name": "DropdownModel",
      "state": {
       "_options_labels": [
        "MODAL",
        "CLEAR"
       ],
       "description": "corretora",
       "index": 0,
       "layout": "IPY_MODEL_09065e12746142a8a060f5d7d0c62453",
       "style": "IPY_MODEL_b61d4c463cb94c2ea20ced9cba2cb474"
      }
     },
     "4319d25b1c7345299fceb8fa14cff1be": {
      "model_module": "@jupyter-widgets/controls",
      "model_module_version": "1.5.0",
      "model_name": "VBoxModel",
      "state": {
       "_dom_classes": [
        "widget-interact"
       ],
       "children": [
        "IPY_MODEL_c9156d5713144f05a2251cfcb2a09ca4",
        "IPY_MODEL_592cd5d816fd49aab4e2fbba3c3f0c98"
       ],
       "layout": "IPY_MODEL_74951f21c8814401a26b8de973a49353"
      }
     },
     "43da124934264d019c40e2f3faf4c346": {
      "model_module": "@jupyter-widgets/base",
      "model_module_version": "1.2.0",
      "model_name": "LayoutModel",
      "state": {}
     },
     "454f37ff666a4dae85475eec63235e4f": {
      "model_module": "@jupyter-widgets/base",
      "model_module_version": "1.2.0",
      "model_name": "LayoutModel",
      "state": {}
     },
     "47e888882f3d4df9a6dbc0db69813e92": {
      "model_module": "@jupyter-widgets/base",
      "model_module_version": "1.2.0",
      "model_name": "LayoutModel",
      "state": {}
     },
     "4b12a6d44e484365aca4b37784826d2e": {
      "model_module": "@jupyter-widgets/base",
      "model_module_version": "1.2.0",
      "model_name": "LayoutModel",
      "state": {}
     },
     "4b1bf242b45540e88fe76a4a6e882672": {
      "model_module": "@jupyter-widgets/base",
      "model_module_version": "1.2.0",
      "model_name": "LayoutModel",
      "state": {}
     },
     "4d611266edff4754a88d532b83a04f16": {
      "model_module": "@jupyter-widgets/base",
      "model_module_version": "1.2.0",
      "model_name": "LayoutModel",
      "state": {}
     },
     "4d981ad4f5cc4489ad7eba5858d8050a": {
      "model_module": "@jupyter-widgets/base",
      "model_module_version": "1.2.0",
      "model_name": "LayoutModel",
      "state": {}
     },
     "4ff017b655c94056a519c8af9a834186": {
      "model_module": "@jupyter-widgets/output",
      "model_module_version": "1.0.0",
      "model_name": "OutputModel",
      "state": {
       "layout": "IPY_MODEL_9ff70aff2aec44698bcd60e5af54055e"
      }
     },
     "5005ac08d22147c1be8cd8c66dd860eb": {
      "model_module": "@jupyter-widgets/controls",
      "model_module_version": "1.5.0",
      "model_name": "VBoxModel",
      "state": {
       "_dom_classes": [
        "widget-interact"
       ],
       "layout": "IPY_MODEL_4192408e2ea641ec9adbf79a110d0816"
      }
     },
     "50c46be6b20944c19a5be0acb3a1e2ff": {
      "model_module": "@jupyter-widgets/controls",
      "model_module_version": "1.5.0",
      "model_name": "DropdownModel",
      "state": {
       "_options_labels": [
        "CVCB3",
        "PETR4",
        "RAIL3",
        "VALE3",
        "ANIM3",
        "B3SA3",
        "JBSS3",
        "LREN3",
        "MGLU3",
        "PCAR4",
        "RENT3",
        "VVAR3",
        "IRBR3",
        "BBDC3",
        "BBSE3",
        "CSNA3",
        "CYRE3",
        "EVEN3",
        "MOVI3",
        "EZTC3",
        "SANB11",
        "SBSP3",
        "BBDC4",
        "LCAM3",
        "KLBN11"
       ],
       "description": "ativo",
       "index": 0,
       "layout": "IPY_MODEL_454f37ff666a4dae85475eec63235e4f",
       "style": "IPY_MODEL_919721938ef24eff9b68266c767e7242"
      }
     },
     "50e8f8395b3e47e6a3fa5f9eb2a72ca9": {
      "model_module": "@jupyter-widgets/base",
      "model_module_version": "1.2.0",
      "model_name": "LayoutModel",
      "state": {}
     },
     "53ebc3c6684440248664a6200939aed7": {
      "model_module": "@jupyter-widgets/controls",
      "model_module_version": "1.5.0",
      "model_name": "DescriptionStyleModel",
      "state": {
       "description_width": ""
      }
     },
     "5662d212588a4ed0a4e0314df21121ee": {
      "model_module": "@jupyter-widgets/base",
      "model_module_version": "1.2.0",
      "model_name": "LayoutModel",
      "state": {}
     },
     "56e6b6ed8e364c15abe2f7b8731e23d3": {
      "model_module": "@jupyter-widgets/output",
      "model_module_version": "1.0.0",
      "model_name": "OutputModel",
      "state": {
       "layout": "IPY_MODEL_0555fdd0639946e19ab1d2b4bbc75aa9",
       "outputs": [
        {
         "ename": "KeyError",
         "evalue": "\"['Situação'] not in index\"",
         "output_type": "error",
         "traceback": [
          "\u001b[0;31m---------------------------------------------------------------------------\u001b[0m",
          "\u001b[0;31mKeyError\u001b[0m                                  Traceback (most recent call last)",
          "\u001b[0;32m~/anaconda3/envs/data/lib/python3.7/site-packages/ipywidgets/widgets/interaction.py\u001b[0m in \u001b[0;36mupdate\u001b[0;34m(self, *args)\u001b[0m\n\u001b[1;32m    254\u001b[0m                     \u001b[0mvalue\u001b[0m \u001b[0;34m=\u001b[0m \u001b[0mwidget\u001b[0m\u001b[0;34m.\u001b[0m\u001b[0mget_interact_value\u001b[0m\u001b[0;34m(\u001b[0m\u001b[0;34m)\u001b[0m\u001b[0;34m\u001b[0m\u001b[0;34m\u001b[0m\u001b[0m\n\u001b[1;32m    255\u001b[0m                     \u001b[0mself\u001b[0m\u001b[0;34m.\u001b[0m\u001b[0mkwargs\u001b[0m\u001b[0;34m[\u001b[0m\u001b[0mwidget\u001b[0m\u001b[0;34m.\u001b[0m\u001b[0m_kwarg\u001b[0m\u001b[0;34m]\u001b[0m \u001b[0;34m=\u001b[0m \u001b[0mvalue\u001b[0m\u001b[0;34m\u001b[0m\u001b[0;34m\u001b[0m\u001b[0m\n\u001b[0;32m--> 256\u001b[0;31m                 \u001b[0mself\u001b[0m\u001b[0;34m.\u001b[0m\u001b[0mresult\u001b[0m \u001b[0;34m=\u001b[0m \u001b[0mself\u001b[0m\u001b[0;34m.\u001b[0m\u001b[0mf\u001b[0m\u001b[0;34m(\u001b[0m\u001b[0;34m**\u001b[0m\u001b[0mself\u001b[0m\u001b[0;34m.\u001b[0m\u001b[0mkwargs\u001b[0m\u001b[0;34m)\u001b[0m\u001b[0;34m\u001b[0m\u001b[0;34m\u001b[0m\u001b[0m\n\u001b[0m\u001b[1;32m    257\u001b[0m                 \u001b[0mshow_inline_matplotlib_plots\u001b[0m\u001b[0;34m(\u001b[0m\u001b[0;34m)\u001b[0m\u001b[0;34m\u001b[0m\u001b[0;34m\u001b[0m\u001b[0m\n\u001b[1;32m    258\u001b[0m                 \u001b[0;32mif\u001b[0m \u001b[0mself\u001b[0m\u001b[0;34m.\u001b[0m\u001b[0mauto_display\u001b[0m \u001b[0;32mand\u001b[0m \u001b[0mself\u001b[0m\u001b[0;34m.\u001b[0m\u001b[0mresult\u001b[0m \u001b[0;32mis\u001b[0m \u001b[0;32mnot\u001b[0m \u001b[0;32mNone\u001b[0m\u001b[0;34m:\u001b[0m\u001b[0;34m\u001b[0m\u001b[0;34m\u001b[0m\u001b[0m\n",
          "\u001b[0;32m<ipython-input-141-4666f79d928e>\u001b[0m in \u001b[0;36mf\u001b[0;34m(corretora)\u001b[0m\n\u001b[1;32m     27\u001b[0m     \u001b[0mdf\u001b[0m\u001b[0;34m[\u001b[0m\u001b[0;34m'posição'\u001b[0m\u001b[0;34m]\u001b[0m \u001b[0;34m=\u001b[0m \u001b[0;34m'Zerada'\u001b[0m\u001b[0;34m\u001b[0m\u001b[0;34m\u001b[0m\u001b[0m\n\u001b[1;32m     28\u001b[0m \u001b[0;34m\u001b[0m\u001b[0m\n\u001b[0;32m---> 29\u001b[0;31m     \u001b[0mdisplay\u001b[0m\u001b[0;34m(\u001b[0m\u001b[0mdf\u001b[0m\u001b[0;34m[\u001b[0m\u001b[0;34m[\u001b[0m\u001b[0;34m'Data'\u001b[0m\u001b[0;34m,\u001b[0m \u001b[0;34m'Código'\u001b[0m\u001b[0;34m,\u001b[0m \u001b[0;34m'Quantidade de C/V'\u001b[0m\u001b[0;34m,\u001b[0m \u001b[0;34m'<Preço>'\u001b[0m\u001b[0;34m,\u001b[0m \u001b[0;34m'<Valor Total>'\u001b[0m\u001b[0;34m,\u001b[0m \u001b[0;34m'Situação'\u001b[0m\u001b[0;34m,\u001b[0m \u001b[0;34m'Corretora'\u001b[0m\u001b[0;34m]\u001b[0m\u001b[0;34m]\u001b[0m\u001b[0;34m)\u001b[0m\u001b[0;34m\u001b[0m\u001b[0;34m\u001b[0m\u001b[0m\n\u001b[0m\u001b[1;32m     30\u001b[0m \u001b[0;34m\u001b[0m\u001b[0m\n\u001b[1;32m     31\u001b[0m \u001b[0minteractive\u001b[0m\u001b[0;34m(\u001b[0m\u001b[0mf\u001b[0m\u001b[0;34m,\u001b[0m \u001b[0mcorretora\u001b[0m\u001b[0;34m=\u001b[0m\u001b[0mdf_ativos\u001b[0m\u001b[0;34m[\u001b[0m\u001b[0;34m'Corretora'\u001b[0m\u001b[0;34m]\u001b[0m\u001b[0;34m.\u001b[0m\u001b[0munique\u001b[0m\u001b[0;34m(\u001b[0m\u001b[0;34m)\u001b[0m\u001b[0;34m)\u001b[0m\u001b[0;34m\u001b[0m\u001b[0;34m\u001b[0m\u001b[0m\n",
          "\u001b[0;32m~/anaconda3/envs/data/lib/python3.7/site-packages/pandas/core/frame.py\u001b[0m in \u001b[0;36m__getitem__\u001b[0;34m(self, key)\u001b[0m\n\u001b[1;32m   2804\u001b[0m             \u001b[0;32mif\u001b[0m \u001b[0mis_iterator\u001b[0m\u001b[0;34m(\u001b[0m\u001b[0mkey\u001b[0m\u001b[0;34m)\u001b[0m\u001b[0;34m:\u001b[0m\u001b[0;34m\u001b[0m\u001b[0;34m\u001b[0m\u001b[0m\n\u001b[1;32m   2805\u001b[0m                 \u001b[0mkey\u001b[0m \u001b[0;34m=\u001b[0m \u001b[0mlist\u001b[0m\u001b[0;34m(\u001b[0m\u001b[0mkey\u001b[0m\u001b[0;34m)\u001b[0m\u001b[0;34m\u001b[0m\u001b[0;34m\u001b[0m\u001b[0m\n\u001b[0;32m-> 2806\u001b[0;31m             \u001b[0mindexer\u001b[0m \u001b[0;34m=\u001b[0m \u001b[0mself\u001b[0m\u001b[0;34m.\u001b[0m\u001b[0mloc\u001b[0m\u001b[0;34m.\u001b[0m\u001b[0m_get_listlike_indexer\u001b[0m\u001b[0;34m(\u001b[0m\u001b[0mkey\u001b[0m\u001b[0;34m,\u001b[0m \u001b[0maxis\u001b[0m\u001b[0;34m=\u001b[0m\u001b[0;36m1\u001b[0m\u001b[0;34m,\u001b[0m \u001b[0mraise_missing\u001b[0m\u001b[0;34m=\u001b[0m\u001b[0;32mTrue\u001b[0m\u001b[0;34m)\u001b[0m\u001b[0;34m[\u001b[0m\u001b[0;36m1\u001b[0m\u001b[0;34m]\u001b[0m\u001b[0;34m\u001b[0m\u001b[0;34m\u001b[0m\u001b[0m\n\u001b[0m\u001b[1;32m   2807\u001b[0m \u001b[0;34m\u001b[0m\u001b[0m\n\u001b[1;32m   2808\u001b[0m         \u001b[0;31m# take() does not accept boolean indexers\u001b[0m\u001b[0;34m\u001b[0m\u001b[0;34m\u001b[0m\u001b[0;34m\u001b[0m\u001b[0m\n",
          "\u001b[0;32m~/anaconda3/envs/data/lib/python3.7/site-packages/pandas/core/indexing.py\u001b[0m in \u001b[0;36m_get_listlike_indexer\u001b[0;34m(self, key, axis, raise_missing)\u001b[0m\n\u001b[1;32m   1550\u001b[0m \u001b[0;34m\u001b[0m\u001b[0m\n\u001b[1;32m   1551\u001b[0m         self._validate_read_indexer(\n\u001b[0;32m-> 1552\u001b[0;31m             \u001b[0mkeyarr\u001b[0m\u001b[0;34m,\u001b[0m \u001b[0mindexer\u001b[0m\u001b[0;34m,\u001b[0m \u001b[0mo\u001b[0m\u001b[0;34m.\u001b[0m\u001b[0m_get_axis_number\u001b[0m\u001b[0;34m(\u001b[0m\u001b[0maxis\u001b[0m\u001b[0;34m)\u001b[0m\u001b[0;34m,\u001b[0m \u001b[0mraise_missing\u001b[0m\u001b[0;34m=\u001b[0m\u001b[0mraise_missing\u001b[0m\u001b[0;34m\u001b[0m\u001b[0;34m\u001b[0m\u001b[0m\n\u001b[0m\u001b[1;32m   1553\u001b[0m         )\n\u001b[1;32m   1554\u001b[0m         \u001b[0;32mreturn\u001b[0m \u001b[0mkeyarr\u001b[0m\u001b[0;34m,\u001b[0m \u001b[0mindexer\u001b[0m\u001b[0;34m\u001b[0m\u001b[0;34m\u001b[0m\u001b[0m\n",
          "\u001b[0;32m~/anaconda3/envs/data/lib/python3.7/site-packages/pandas/core/indexing.py\u001b[0m in \u001b[0;36m_validate_read_indexer\u001b[0;34m(self, key, indexer, axis, raise_missing)\u001b[0m\n\u001b[1;32m   1643\u001b[0m             \u001b[0;32mif\u001b[0m \u001b[0;32mnot\u001b[0m \u001b[0;34m(\u001b[0m\u001b[0mself\u001b[0m\u001b[0;34m.\u001b[0m\u001b[0mname\u001b[0m \u001b[0;34m==\u001b[0m \u001b[0;34m\"loc\"\u001b[0m \u001b[0;32mand\u001b[0m \u001b[0;32mnot\u001b[0m \u001b[0mraise_missing\u001b[0m\u001b[0;34m)\u001b[0m\u001b[0;34m:\u001b[0m\u001b[0;34m\u001b[0m\u001b[0;34m\u001b[0m\u001b[0m\n\u001b[1;32m   1644\u001b[0m                 \u001b[0mnot_found\u001b[0m \u001b[0;34m=\u001b[0m \u001b[0mlist\u001b[0m\u001b[0;34m(\u001b[0m\u001b[0mset\u001b[0m\u001b[0;34m(\u001b[0m\u001b[0mkey\u001b[0m\u001b[0;34m)\u001b[0m \u001b[0;34m-\u001b[0m \u001b[0mset\u001b[0m\u001b[0;34m(\u001b[0m\u001b[0max\u001b[0m\u001b[0;34m)\u001b[0m\u001b[0;34m)\u001b[0m\u001b[0;34m\u001b[0m\u001b[0;34m\u001b[0m\u001b[0m\n\u001b[0;32m-> 1645\u001b[0;31m                 \u001b[0;32mraise\u001b[0m \u001b[0mKeyError\u001b[0m\u001b[0;34m(\u001b[0m\u001b[0;34mf\"{not_found} not in index\"\u001b[0m\u001b[0;34m)\u001b[0m\u001b[0;34m\u001b[0m\u001b[0;34m\u001b[0m\u001b[0m\n\u001b[0m\u001b[1;32m   1646\u001b[0m \u001b[0;34m\u001b[0m\u001b[0m\n\u001b[1;32m   1647\u001b[0m             \u001b[0;31m# we skip the warning on Categorical/Interval\u001b[0m\u001b[0;34m\u001b[0m\u001b[0;34m\u001b[0m\u001b[0;34m\u001b[0m\u001b[0m\n",
          "\u001b[0;31mKeyError\u001b[0m: \"['Situação'] not in index\""
         ]
        }
       ]
      }
     },
     "57a95da8403141a89aeb969b2f0b221a": {
      "model_module": "@jupyter-widgets/controls",
      "model_module_version": "1.5.0",
      "model_name": "DescriptionStyleModel",
      "state": {
       "description_width": ""
      }
     },
     "592cd5d816fd49aab4e2fbba3c3f0c98": {
      "model_module": "@jupyter-widgets/output",
      "model_module_version": "1.0.0",
      "model_name": "OutputModel",
      "state": {
       "layout": "IPY_MODEL_50e8f8395b3e47e6a3fa5f9eb2a72ca9",
       "outputs": [
        {
         "data": {
          "text/html": "<div>\n<style scoped>\n    .dataframe tbody tr th:only-of-type {\n        vertical-align: middle;\n    }\n\n    .dataframe tbody tr th {\n        vertical-align: top;\n    }\n\n    .dataframe thead th {\n        text-align: right;\n    }\n</style>\n<table border=\"1\" class=\"dataframe\">\n  <thead>\n    <tr style=\"text-align: right;\">\n      <th></th>\n      <th>Data</th>\n      <th>Código</th>\n      <th>Quantidade de C/V</th>\n      <th>&lt;Preço&gt;</th>\n      <th>&lt;Valor Total&gt;</th>\n      <th>Corretora</th>\n      <th>Posição</th>\n    </tr>\n  </thead>\n  <tbody>\n    <tr>\n      <th>17</th>\n      <td>2019-08-05</td>\n      <td>JBSS3</td>\n      <td>-16.0</td>\n      <td>26.855</td>\n      <td>429.68</td>\n      <td>MODAL</td>\n      <td>Zerada</td>\n    </tr>\n    <tr>\n      <th>23</th>\n      <td>2019-09-02</td>\n      <td>CVCB3</td>\n      <td>-9.0</td>\n      <td>51.000</td>\n      <td>459.00</td>\n      <td>MODAL</td>\n      <td>Zerada</td>\n    </tr>\n    <tr>\n      <th>27</th>\n      <td>2019-09-02</td>\n      <td>RAIL3</td>\n      <td>-20.0</td>\n      <td>22.170</td>\n      <td>443.40</td>\n      <td>MODAL</td>\n      <td>Zerada</td>\n    </tr>\n    <tr>\n      <th>21</th>\n      <td>2019-09-02</td>\n      <td>ANIM3</td>\n      <td>-20.0</td>\n      <td>21.270</td>\n      <td>425.40</td>\n      <td>MODAL</td>\n      <td>Zerada</td>\n    </tr>\n    <tr>\n      <th>22</th>\n      <td>2019-09-02</td>\n      <td>B3SA3</td>\n      <td>-10.0</td>\n      <td>43.070</td>\n      <td>430.70</td>\n      <td>MODAL</td>\n      <td>Zerada</td>\n    </tr>\n    <tr>\n      <th>25</th>\n      <td>2019-09-02</td>\n      <td>LREN3</td>\n      <td>-10.0</td>\n      <td>49.320</td>\n      <td>493.20</td>\n      <td>MODAL</td>\n      <td>Zerada</td>\n    </tr>\n    <tr>\n      <th>26</th>\n      <td>2019-09-02</td>\n      <td>PCAR4</td>\n      <td>-5.0</td>\n      <td>94.860</td>\n      <td>474.30</td>\n      <td>MODAL</td>\n      <td>Zerada</td>\n    </tr>\n    <tr>\n      <th>28</th>\n      <td>2019-09-02</td>\n      <td>RENT3</td>\n      <td>-11.0</td>\n      <td>44.380</td>\n      <td>488.18</td>\n      <td>MODAL</td>\n      <td>Zerada</td>\n    </tr>\n    <tr>\n      <th>24</th>\n      <td>2019-09-02</td>\n      <td>IRBR3</td>\n      <td>-5.0</td>\n      <td>91.500</td>\n      <td>457.50</td>\n      <td>MODAL</td>\n      <td>Zerada</td>\n    </tr>\n  </tbody>\n</table>\n</div>",
          "text/plain": "         Data Código  Quantidade de C/V  <Preço>  <Valor Total> Corretora  \\\n17 2019-08-05  JBSS3              -16.0   26.855         429.68     MODAL   \n23 2019-09-02  CVCB3               -9.0   51.000         459.00     MODAL   \n27 2019-09-02  RAIL3              -20.0   22.170         443.40     MODAL   \n21 2019-09-02  ANIM3              -20.0   21.270         425.40     MODAL   \n22 2019-09-02  B3SA3              -10.0   43.070         430.70     MODAL   \n25 2019-09-02  LREN3              -10.0   49.320         493.20     MODAL   \n26 2019-09-02  PCAR4               -5.0   94.860         474.30     MODAL   \n28 2019-09-02  RENT3              -11.0   44.380         488.18     MODAL   \n24 2019-09-02  IRBR3               -5.0   91.500         457.50     MODAL   \n\n   Posição  \n17  Zerada  \n23  Zerada  \n27  Zerada  \n21  Zerada  \n22  Zerada  \n25  Zerada  \n26  Zerada  \n28  Zerada  \n24  Zerada  "
         },
         "metadata": {},
         "output_type": "display_data"
        }
       ]
      }
     },
     "5b04a1e377cf4f139756db9e8dafeebd": {
      "model_module": "@jupyter-widgets/controls",
      "model_module_version": "1.5.0",
      "model_name": "DropdownModel",
      "state": {
       "_options_labels": [
        "MODAL",
        "CLEAR"
       ],
       "description": "corretora",
       "index": 0,
       "layout": "IPY_MODEL_62b8ccf234f442adb280e6df7dc4ee83",
       "style": "IPY_MODEL_b62a631e12a147e291560f5af3e574c4"
      }
     },
     "5b79aa37975a40458f3d4c66a3c63ad7": {
      "model_module": "@jupyter-widgets/output",
      "model_module_version": "1.0.0",
      "model_name": "OutputModel",
      "state": {
       "layout": "IPY_MODEL_7b7297f043504a349e5ba2e0194e97f9",
       "outputs": [
        {
         "data": {
          "text/html": "<div>\n<style scoped>\n    .dataframe tbody tr th:only-of-type {\n        vertical-align: middle;\n    }\n\n    .dataframe tbody tr th {\n        vertical-align: top;\n    }\n\n    .dataframe thead th {\n        text-align: right;\n    }\n</style>\n<table border=\"1\" class=\"dataframe\">\n  <thead>\n    <tr style=\"text-align: right;\">\n      <th></th>\n      <th>Data</th>\n      <th>Código</th>\n      <th>Mercado</th>\n      <th>Especificação</th>\n      <th>Tipo de Execução</th>\n      <th>Corretora</th>\n      <th>Quantidade de C/V</th>\n      <th>Valor Total</th>\n      <th>Preço de C/V</th>\n      <th>Preço Atual</th>\n      <th>L/P</th>\n      <th>Quantidade Atual</th>\n      <th>Mês</th>\n    </tr>\n  </thead>\n  <tbody>\n    <tr>\n      <th>0</th>\n      <td>2019-07-11</td>\n      <td>CVCB3</td>\n      <td>Fracionário</td>\n      <td>CVC BRASIL   ON      NM</td>\n      <td>C</td>\n      <td>MODAL</td>\n      <td>10.0</td>\n      <td>530.0</td>\n      <td>53.0</td>\n      <td>53.0</td>\n      <td>0.0</td>\n      <td>10.0</td>\n      <td>July</td>\n    </tr>\n    <tr>\n      <th>4</th>\n      <td>2019-07-19</td>\n      <td>CVCB3</td>\n      <td>Fracionário</td>\n      <td>CVC BRASIL   ON      NM</td>\n      <td>V</td>\n      <td>MODAL</td>\n      <td>-10.0</td>\n      <td>487.0</td>\n      <td>48.7</td>\n      <td>53.0</td>\n      <td>-43.0</td>\n      <td>0.0</td>\n      <td>July</td>\n    </tr>\n    <tr>\n      <th>7</th>\n      <td>2019-08-01</td>\n      <td>CVCB3</td>\n      <td>Fracionário</td>\n      <td>CVC BRASIL   ON      NM</td>\n      <td>C</td>\n      <td>MODAL</td>\n      <td>9.0</td>\n      <td>459.0</td>\n      <td>51.0</td>\n      <td>51.0</td>\n      <td>0.0</td>\n      <td>9.0</td>\n      <td>August</td>\n    </tr>\n    <tr>\n      <th>23</th>\n      <td>2019-09-02</td>\n      <td>CVCB3</td>\n      <td>Fracionário</td>\n      <td>CVC BRASIL   ON      NM</td>\n      <td>V</td>\n      <td>MODAL</td>\n      <td>-9.0</td>\n      <td>474.3</td>\n      <td>52.7</td>\n      <td>51.0</td>\n      <td>15.3</td>\n      <td>0.0</td>\n      <td>September</td>\n    </tr>\n  </tbody>\n</table>\n</div>",
          "text/plain": "         Data Código      Mercado            Especificação Tipo de Execução  \\\n0  2019-07-11  CVCB3  Fracionário  CVC BRASIL   ON      NM                C   \n4  2019-07-19  CVCB3  Fracionário  CVC BRASIL   ON      NM                V   \n7  2019-08-01  CVCB3  Fracionário  CVC BRASIL   ON      NM                C   \n23 2019-09-02  CVCB3  Fracionário  CVC BRASIL   ON      NM                V   \n\n   Corretora  Quantidade de C/V  Valor Total  Preço de C/V  Preço Atual   L/P  \\\n0      MODAL               10.0        530.0          53.0         53.0   0.0   \n4      MODAL              -10.0        487.0          48.7         53.0 -43.0   \n7      MODAL                9.0        459.0          51.0         51.0   0.0   \n23     MODAL               -9.0        474.3          52.7         51.0  15.3   \n\n    Quantidade Atual        Mês  \n0               10.0       July  \n4                0.0       July  \n7                9.0     August  \n23               0.0  September  "
         },
         "metadata": {},
         "output_type": "display_data"
        }
       ]
      }
     },
     "5bbdba5172e64b509bd2fa391b2286a4": {
      "model_module": "@jupyter-widgets/output",
      "model_module_version": "1.0.0",
      "model_name": "OutputModel",
      "state": {
       "layout": "IPY_MODEL_33fb0f454c49486890b11c2086813ba5",
       "outputs": [
        {
         "ename": "NameError",
         "evalue": "name 'df_f' is not defined",
         "output_type": "error",
         "traceback": [
          "\u001b[0;31m---------------------------------------------------------------------------\u001b[0m",
          "\u001b[0;31mNameError\u001b[0m                                 Traceback (most recent call last)",
          "\u001b[0;32m~/anaconda3/envs/data/lib/python3.7/site-packages/ipywidgets/widgets/interaction.py\u001b[0m in \u001b[0;36mupdate\u001b[0;34m(self, *args)\u001b[0m\n\u001b[1;32m    254\u001b[0m                     \u001b[0mvalue\u001b[0m \u001b[0;34m=\u001b[0m \u001b[0mwidget\u001b[0m\u001b[0;34m.\u001b[0m\u001b[0mget_interact_value\u001b[0m\u001b[0;34m(\u001b[0m\u001b[0;34m)\u001b[0m\u001b[0;34m\u001b[0m\u001b[0;34m\u001b[0m\u001b[0m\n\u001b[1;32m    255\u001b[0m                     \u001b[0mself\u001b[0m\u001b[0;34m.\u001b[0m\u001b[0mkwargs\u001b[0m\u001b[0;34m[\u001b[0m\u001b[0mwidget\u001b[0m\u001b[0;34m.\u001b[0m\u001b[0m_kwarg\u001b[0m\u001b[0;34m]\u001b[0m \u001b[0;34m=\u001b[0m \u001b[0mvalue\u001b[0m\u001b[0;34m\u001b[0m\u001b[0;34m\u001b[0m\u001b[0m\n\u001b[0;32m--> 256\u001b[0;31m                 \u001b[0mself\u001b[0m\u001b[0;34m.\u001b[0m\u001b[0mresult\u001b[0m \u001b[0;34m=\u001b[0m \u001b[0mself\u001b[0m\u001b[0;34m.\u001b[0m\u001b[0mf\u001b[0m\u001b[0;34m(\u001b[0m\u001b[0;34m**\u001b[0m\u001b[0mself\u001b[0m\u001b[0;34m.\u001b[0m\u001b[0mkwargs\u001b[0m\u001b[0;34m)\u001b[0m\u001b[0;34m\u001b[0m\u001b[0;34m\u001b[0m\u001b[0m\n\u001b[0m\u001b[1;32m    257\u001b[0m                 \u001b[0mshow_inline_matplotlib_plots\u001b[0m\u001b[0;34m(\u001b[0m\u001b[0;34m)\u001b[0m\u001b[0;34m\u001b[0m\u001b[0;34m\u001b[0m\u001b[0m\n\u001b[1;32m    258\u001b[0m                 \u001b[0;32mif\u001b[0m \u001b[0mself\u001b[0m\u001b[0;34m.\u001b[0m\u001b[0mauto_display\u001b[0m \u001b[0;32mand\u001b[0m \u001b[0mself\u001b[0m\u001b[0;34m.\u001b[0m\u001b[0mresult\u001b[0m \u001b[0;32mis\u001b[0m \u001b[0;32mnot\u001b[0m \u001b[0;32mNone\u001b[0m\u001b[0;34m:\u001b[0m\u001b[0;34m\u001b[0m\u001b[0;34m\u001b[0m\u001b[0m\n",
          "\u001b[0;32m<ipython-input-144-cce6fb875f06>\u001b[0m in \u001b[0;36mf\u001b[0;34m(corretora)\u001b[0m\n\u001b[1;32m      2\u001b[0m \u001b[0;34m\u001b[0m\u001b[0m\n\u001b[1;32m      3\u001b[0m     \u001b[0mdf\u001b[0m \u001b[0;34m=\u001b[0m \u001b[0mdf_ativos\u001b[0m\u001b[0;34m[\u001b[0m\u001b[0mdf_ativos\u001b[0m\u001b[0;34m[\u001b[0m\u001b[0;34m'Corretora'\u001b[0m\u001b[0;34m]\u001b[0m \u001b[0;34m==\u001b[0m \u001b[0mcorretora\u001b[0m\u001b[0;34m]\u001b[0m\u001b[0;34m\u001b[0m\u001b[0;34m\u001b[0m\u001b[0m\n\u001b[0;32m----> 4\u001b[0;31m     \u001b[0mdf\u001b[0m \u001b[0;34m=\u001b[0m \u001b[0mcarteira_de_acoes_atual\u001b[0m\u001b[0;34m(\u001b[0m\u001b[0mdf_f\u001b[0m\u001b[0;34m.\u001b[0m\u001b[0mcopy\u001b[0m\u001b[0;34m(\u001b[0m\u001b[0;34m)\u001b[0m\u001b[0;34m,\u001b[0m \u001b[0moffline\u001b[0m\u001b[0;34m=\u001b[0m\u001b[0;32mTrue\u001b[0m\u001b[0;34m)\u001b[0m\u001b[0;34m\u001b[0m\u001b[0;34m\u001b[0m\u001b[0m\n\u001b[0m\u001b[1;32m      5\u001b[0m     \u001b[0mdf\u001b[0m\u001b[0;34m[\u001b[0m\u001b[0;34m'Posição'\u001b[0m\u001b[0;34m]\u001b[0m \u001b[0;34m=\u001b[0m \u001b[0;34m'Comprada'\u001b[0m\u001b[0;34m\u001b[0m\u001b[0;34m\u001b[0m\u001b[0m\n\u001b[1;32m      6\u001b[0m     \u001b[0mdisplay\u001b[0m\u001b[0;34m(\u001b[0m\u001b[0;34m)\u001b[0m\u001b[0;34m\u001b[0m\u001b[0;34m\u001b[0m\u001b[0m\n",
          "\u001b[0;31mNameError\u001b[0m: name 'df_f' is not defined"
         ]
        }
       ]
      }
     },
     "5dd7790c71d84558b734ecf4b13c03b3": {
      "model_module": "@jupyter-widgets/base",
      "model_module_version": "1.2.0",
      "model_name": "LayoutModel",
      "state": {}
     },
     "61a2355079364630a1995235ee893d59": {
      "model_module": "@jupyter-widgets/base",
      "model_module_version": "1.2.0",
      "model_name": "LayoutModel",
      "state": {}
     },
     "62b8ccf234f442adb280e6df7dc4ee83": {
      "model_module": "@jupyter-widgets/base",
      "model_module_version": "1.2.0",
      "model_name": "LayoutModel",
      "state": {}
     },
     "62d30606f153421c8e92187c08a59571": {
      "model_module": "@jupyter-widgets/base",
      "model_module_version": "1.2.0",
      "model_name": "LayoutModel",
      "state": {}
     },
     "640cfb1a14064ade8eb0a58f1d4488b8": {
      "model_module": "@jupyter-widgets/controls",
      "model_module_version": "1.5.0",
      "model_name": "DescriptionStyleModel",
      "state": {
       "description_width": ""
      }
     },
     "641c560a1dfb413b8284ad1d580b5702": {
      "model_module": "@jupyter-widgets/controls",
      "model_module_version": "1.5.0",
      "model_name": "VBoxModel",
      "state": {
       "_dom_classes": [
        "widget-interact"
       ],
       "children": [
        "IPY_MODEL_09621b9baaca415dab32bd8aa33e6aec",
        "IPY_MODEL_140a6df3596f460b9cebac96ef6e7217"
       ],
       "layout": "IPY_MODEL_730ee5d23ffa4539b73ae26817874d26"
      }
     },
     "652f10425c0e43df9ee5eb93b9e93258": {
      "model_module": "@jupyter-widgets/controls",
      "model_module_version": "1.5.0",
      "model_name": "DropdownModel",
      "state": {
       "_options_labels": [
        "MODAL",
        "CLEAR"
       ],
       "description": "name",
       "index": 0,
       "layout": "IPY_MODEL_3d080eaeeb3d4c2fbffe16df037cc457",
       "style": "IPY_MODEL_abbd29dc7db94d49bbcf6fe0ea07df53"
      }
     },
     "66dba2e33c954155aa3f8dfe73485877": {
      "model_module": "@jupyter-widgets/controls",
      "model_module_version": "1.5.0",
      "model_name": "VBoxModel",
      "state": {
       "_dom_classes": [
        "widget-interact"
       ],
       "children": [
        "IPY_MODEL_cd88407866404a76b349cae582dfb091",
        "IPY_MODEL_97c679792e894a3181ebea9a80b85fa1"
       ],
       "layout": "IPY_MODEL_62d30606f153421c8e92187c08a59571"
      }
     },
     "67c02427572e4372a1b01693cc6bd228": {
      "model_module": "@jupyter-widgets/controls",
      "model_module_version": "1.5.0",
      "model_name": "VBoxModel",
      "state": {
       "_dom_classes": [
        "widget-interact"
       ],
       "children": [
        "IPY_MODEL_22307df501bd43f7a9c3ac20d6f9156b",
        "IPY_MODEL_7d8be759fd6b4d8fba60acf2636672ad"
       ],
       "layout": "IPY_MODEL_4d611266edff4754a88d532b83a04f16"
      }
     },
     "6c8c87f4c19b488480052370aa301179": {
      "model_module": "@jupyter-widgets/base",
      "model_module_version": "1.2.0",
      "model_name": "LayoutModel",
      "state": {}
     },
     "6d657081ca33429f885f0dc713bcbd2e": {
      "model_module": "@jupyter-widgets/base",
      "model_module_version": "1.2.0",
      "model_name": "LayoutModel",
      "state": {}
     },
     "6fbc154553b74443a5a04488e353a089": {
      "model_module": "@jupyter-widgets/controls",
      "model_module_version": "1.5.0",
      "model_name": "DescriptionStyleModel",
      "state": {
       "description_width": ""
      }
     },
     "730ee5d23ffa4539b73ae26817874d26": {
      "model_module": "@jupyter-widgets/base",
      "model_module_version": "1.2.0",
      "model_name": "LayoutModel",
      "state": {}
     },
     "74196828afbe4cf6a7eb14d89ba9c93e": {
      "model_module": "@jupyter-widgets/controls",
      "model_module_version": "1.5.0",
      "model_name": "VBoxModel",
      "state": {
       "_dom_classes": [
        "widget-interact"
       ],
       "children": [
        "IPY_MODEL_50c46be6b20944c19a5be0acb3a1e2ff",
        "IPY_MODEL_9222c8d2083f4206adb2a70f01be6872"
       ],
       "layout": "IPY_MODEL_23b7bc15673a4a148d1c3f5f1dfd1f87"
      }
     },
     "74432649c67e45a7b5a1fb56b87ea8f2": {
      "model_module": "@jupyter-widgets/controls",
      "model_module_version": "1.5.0",
      "model_name": "DescriptionStyleModel",
      "state": {
       "description_width": ""
      }
     },
     "74951f21c8814401a26b8de973a49353": {
      "model_module": "@jupyter-widgets/base",
      "model_module_version": "1.2.0",
      "model_name": "LayoutModel",
      "state": {}
     },
     "7919ea1193fa4689acdd07586de7b599": {
      "model_module": "@jupyter-widgets/base",
      "model_module_version": "1.2.0",
      "model_name": "LayoutModel",
      "state": {}
     },
     "7978c250337746289860f92460cb6d7a": {
      "model_module": "@jupyter-widgets/controls",
      "model_module_version": "1.5.0",
      "model_name": "DropdownModel",
      "state": {
       "_options_labels": [
        "MODAL",
        "CLEAR"
       ],
       "description": "corretora",
       "index": 0,
       "layout": "IPY_MODEL_8116a218ab9e414eabade799e8a149aa",
       "style": "IPY_MODEL_b69ac8e0e6bd4433b59f85d8006d6d46"
      }
     },
     "7b0a83b5a75b4140acd9c62f93c3196b": {
      "model_module": "@jupyter-widgets/controls",
      "model_module_version": "1.5.0",
      "model_name": "DropdownModel",
      "state": {
       "_options_labels": [
        "CVCB3",
        "PETR4",
        "RAIL3",
        "VALE3",
        "ANIM3",
        "B3SA3",
        "JBSS3",
        "LREN3",
        "MGLU3",
        "PCAR4",
        "RENT3",
        "VVAR3",
        "IRBR3",
        "BBDC3",
        "BBSE3",
        "CSNA3",
        "CYRE3",
        "EVEN3",
        "MOVI3",
        "EZTC3",
        "SANB11",
        "SBSP3",
        "BBDC4",
        "LCAM3",
        "KLBN11"
       ],
       "description": "ativo",
       "index": 8,
       "layout": "IPY_MODEL_2a4d6c7ab2b8486e8f515bb90ad4ad29",
       "style": "IPY_MODEL_dc27473537a74a2eb4acdda98ade2c71"
      }
     },
     "7b34e11b57ea4c6a970312466178bb3f": {
      "model_module": "@jupyter-widgets/base",
      "model_module_version": "1.2.0",
      "model_name": "LayoutModel",
      "state": {}
     },
     "7b7297f043504a349e5ba2e0194e97f9": {
      "model_module": "@jupyter-widgets/base",
      "model_module_version": "1.2.0",
      "model_name": "LayoutModel",
      "state": {}
     },
     "7d8be759fd6b4d8fba60acf2636672ad": {
      "model_module": "@jupyter-widgets/output",
      "model_module_version": "1.0.0",
      "model_name": "OutputModel",
      "state": {
       "layout": "IPY_MODEL_921e198b56164634aefccd7064d94200",
       "outputs": [
        {
         "data": {
          "text/html": "<div>\n<style scoped>\n    .dataframe tbody tr th:only-of-type {\n        vertical-align: middle;\n    }\n\n    .dataframe tbody tr th {\n        vertical-align: top;\n    }\n\n    .dataframe thead th {\n        text-align: right;\n    }\n</style>\n<table border=\"1\" class=\"dataframe\">\n  <thead>\n    <tr style=\"text-align: right;\">\n      <th></th>\n      <th>Data</th>\n      <th>Código</th>\n      <th>Quantidade de C/V</th>\n      <th>&lt;Preço&gt;</th>\n      <th>&lt;Valor Total&gt;</th>\n      <th>Situação</th>\n      <th>Corretora</th>\n    </tr>\n  </thead>\n  <tbody>\n    <tr>\n      <th>43</th>\n      <td>2019-10-01</td>\n      <td>BBDC3</td>\n      <td>-16.0</td>\n      <td>30.55</td>\n      <td>488.80</td>\n      <td>Zerada</td>\n      <td>CLEAR</td>\n    </tr>\n    <tr>\n      <th>44</th>\n      <td>2019-10-01</td>\n      <td>BBSE3</td>\n      <td>-15.0</td>\n      <td>32.90</td>\n      <td>493.50</td>\n      <td>Zerada</td>\n      <td>CLEAR</td>\n    </tr>\n    <tr>\n      <th>45</th>\n      <td>2019-10-01</td>\n      <td>CSNA3</td>\n      <td>-35.0</td>\n      <td>14.53</td>\n      <td>508.55</td>\n      <td>Zerada</td>\n      <td>CLEAR</td>\n    </tr>\n    <tr>\n      <th>46</th>\n      <td>2019-10-01</td>\n      <td>EVEN3</td>\n      <td>-65.0</td>\n      <td>10.84</td>\n      <td>704.60</td>\n      <td>Zerada</td>\n      <td>CLEAR</td>\n    </tr>\n    <tr>\n      <th>54</th>\n      <td>2019-11-04</td>\n      <td>MOVI3</td>\n      <td>-31.0</td>\n      <td>15.71</td>\n      <td>487.01</td>\n      <td>Zerada</td>\n      <td>CLEAR</td>\n    </tr>\n    <tr>\n      <th>55</th>\n      <td>2019-11-04</td>\n      <td>SANB11</td>\n      <td>-12.0</td>\n      <td>45.65</td>\n      <td>547.80</td>\n      <td>Zerada</td>\n      <td>CLEAR</td>\n    </tr>\n    <tr>\n      <th>56</th>\n      <td>2019-11-04</td>\n      <td>SBSP3</td>\n      <td>-11.0</td>\n      <td>49.90</td>\n      <td>548.90</td>\n      <td>Zerada</td>\n      <td>CLEAR</td>\n    </tr>\n    <tr>\n      <th>58</th>\n      <td>2019-12-02</td>\n      <td>IRBR3</td>\n      <td>-14.0</td>\n      <td>37.80</td>\n      <td>529.20</td>\n      <td>Zerada</td>\n      <td>CLEAR</td>\n    </tr>\n    <tr>\n      <th>57</th>\n      <td>2019-12-02</td>\n      <td>BBDC4</td>\n      <td>-15.0</td>\n      <td>35.05</td>\n      <td>525.75</td>\n      <td>Zerada</td>\n      <td>CLEAR</td>\n    </tr>\n  </tbody>\n</table>\n</div>",
          "text/plain": "         Data  Código  Quantidade de C/V  <Preço>  <Valor Total> Situação  \\\n43 2019-10-01   BBDC3              -16.0    30.55         488.80   Zerada   \n44 2019-10-01   BBSE3              -15.0    32.90         493.50   Zerada   \n45 2019-10-01   CSNA3              -35.0    14.53         508.55   Zerada   \n46 2019-10-01   EVEN3              -65.0    10.84         704.60   Zerada   \n54 2019-11-04   MOVI3              -31.0    15.71         487.01   Zerada   \n55 2019-11-04  SANB11              -12.0    45.65         547.80   Zerada   \n56 2019-11-04   SBSP3              -11.0    49.90         548.90   Zerada   \n58 2019-12-02   IRBR3              -14.0    37.80         529.20   Zerada   \n57 2019-12-02   BBDC4              -15.0    35.05         525.75   Zerada   \n\n   Corretora  \n43     CLEAR  \n44     CLEAR  \n45     CLEAR  \n46     CLEAR  \n54     CLEAR  \n55     CLEAR  \n56     CLEAR  \n58     CLEAR  \n57     CLEAR  "
         },
         "metadata": {},
         "output_type": "display_data"
        }
       ]
      }
     },
     "8047cf5ec82743bd8d56fc94ce5e4b22": {
      "model_module": "@jupyter-widgets/base",
      "model_module_version": "1.2.0",
      "model_name": "LayoutModel",
      "state": {}
     },
     "8116a218ab9e414eabade799e8a149aa": {
      "model_module": "@jupyter-widgets/base",
      "model_module_version": "1.2.0",
      "model_name": "LayoutModel",
      "state": {}
     },
     "82985117b4c24c929498ec5de0b22b18": {
      "model_module": "@jupyter-widgets/controls",
      "model_module_version": "1.5.0",
      "model_name": "VBoxModel",
      "state": {
       "_dom_classes": [
        "widget-interact"
       ],
       "children": [
        "IPY_MODEL_5b04a1e377cf4f139756db9e8dafeebd",
        "IPY_MODEL_d63fb07d0f164849a2a316b946955382"
       ],
       "layout": "IPY_MODEL_e52fa8c90da74f119f9e892929979e53"
      }
     },
     "84ea3f1347174849b50585c15bd45cf7": {
      "model_module": "@jupyter-widgets/controls",
      "model_module_version": "1.5.0",
      "model_name": "VBoxModel",
      "state": {
       "_dom_classes": [
        "widget-interact"
       ],
       "children": [
        "IPY_MODEL_1d397af23b574c3881c852fa5542a9b4",
        "IPY_MODEL_1aa3211d94464925aaa8b11a673c4da7"
       ],
       "layout": "IPY_MODEL_9e0e96aca3244ce7b87ad418c69db636"
      }
     },
     "86ef40725b3047968b214f7629e28907": {
      "model_module": "@jupyter-widgets/base",
      "model_module_version": "1.2.0",
      "model_name": "LayoutModel",
      "state": {}
     },
     "87562c8eb92f4edfabb04cf787660982": {
      "model_module": "@jupyter-widgets/base",
      "model_module_version": "1.2.0",
      "model_name": "LayoutModel",
      "state": {}
     },
     "891e7c3fed344a5aac463e015023891b": {
      "model_module": "@jupyter-widgets/base",
      "model_module_version": "1.2.0",
      "model_name": "LayoutModel",
      "state": {}
     },
     "89b365ad969242538b2c6121e448eea8": {
      "model_module": "@jupyter-widgets/base",
      "model_module_version": "1.2.0",
      "model_name": "LayoutModel",
      "state": {}
     },
     "8b072197c9ed4c4fac9de5c1e7aa38d4": {
      "model_module": "@jupyter-widgets/base",
      "model_module_version": "1.2.0",
      "model_name": "LayoutModel",
      "state": {}
     },
     "8c09da5b0bf54631aeef7c47b9960c69": {
      "model_module": "@jupyter-widgets/base",
      "model_module_version": "1.2.0",
      "model_name": "LayoutModel",
      "state": {}
     },
     "8d551117422348dcb63a93a4d3384570": {
      "model_module": "@jupyter-widgets/controls",
      "model_module_version": "1.5.0",
      "model_name": "DropdownModel",
      "state": {
       "_options_labels": [
        "MODAL",
        "CLEAR"
       ],
       "description": "corretora",
       "index": 0,
       "layout": "IPY_MODEL_c88e2ed2380c4d8daece039c557e27a3",
       "style": "IPY_MODEL_3470285b4358413db83ce57658a069d0"
      }
     },
     "90ed2ee0a6054e908f217261c227bcf4": {
      "model_module": "@jupyter-widgets/controls",
      "model_module_version": "1.5.0",
      "model_name": "DescriptionStyleModel",
      "state": {
       "description_width": ""
      }
     },
     "919721938ef24eff9b68266c767e7242": {
      "model_module": "@jupyter-widgets/controls",
      "model_module_version": "1.5.0",
      "model_name": "DescriptionStyleModel",
      "state": {
       "description_width": ""
      }
     },
     "921e198b56164634aefccd7064d94200": {
      "model_module": "@jupyter-widgets/base",
      "model_module_version": "1.2.0",
      "model_name": "LayoutModel",
      "state": {}
     },
     "9222c8d2083f4206adb2a70f01be6872": {
      "model_module": "@jupyter-widgets/output",
      "model_module_version": "1.0.0",
      "model_name": "OutputModel",
      "state": {
       "layout": "IPY_MODEL_eb46b02bd5254c8c9fb7fca22f8c98f7",
       "outputs": [
        {
         "data": {
          "text/html": "<div>\n<style scoped>\n    .dataframe tbody tr th:only-of-type {\n        vertical-align: middle;\n    }\n\n    .dataframe tbody tr th {\n        vertical-align: top;\n    }\n\n    .dataframe thead th {\n        text-align: right;\n    }\n</style>\n<table border=\"1\" class=\"dataframe\">\n  <thead>\n    <tr style=\"text-align: right;\">\n      <th></th>\n      <th>Data</th>\n      <th>Código</th>\n      <th>Mercado</th>\n      <th>Especificação</th>\n      <th>Tipo de Execução</th>\n      <th>Corretora</th>\n      <th>Quantidade de C/V</th>\n      <th>Valor Total</th>\n      <th>Preço de C/V</th>\n      <th>Preço Atual</th>\n      <th>L/P</th>\n      <th>Quantidade Atual</th>\n    </tr>\n  </thead>\n  <tbody>\n    <tr>\n      <th>0</th>\n      <td>2019-07-11</td>\n      <td>CVCB3</td>\n      <td>Fracionário</td>\n      <td>CVC BRASIL   ON      NM</td>\n      <td>C</td>\n      <td>MODAL</td>\n      <td>10.0</td>\n      <td>530.0</td>\n      <td>53.0</td>\n      <td>53.0</td>\n      <td>0.0</td>\n      <td>10.0</td>\n    </tr>\n    <tr>\n      <th>4</th>\n      <td>2019-07-19</td>\n      <td>CVCB3</td>\n      <td>Fracionário</td>\n      <td>CVC BRASIL   ON      NM</td>\n      <td>V</td>\n      <td>MODAL</td>\n      <td>-10.0</td>\n      <td>487.0</td>\n      <td>48.7</td>\n      <td>53.0</td>\n      <td>-43.0</td>\n      <td>0.0</td>\n    </tr>\n    <tr>\n      <th>7</th>\n      <td>2019-08-01</td>\n      <td>CVCB3</td>\n      <td>Fracionário</td>\n      <td>CVC BRASIL   ON      NM</td>\n      <td>C</td>\n      <td>MODAL</td>\n      <td>9.0</td>\n      <td>459.0</td>\n      <td>51.0</td>\n      <td>51.0</td>\n      <td>0.0</td>\n      <td>9.0</td>\n    </tr>\n    <tr>\n      <th>23</th>\n      <td>2019-09-02</td>\n      <td>CVCB3</td>\n      <td>Fracionário</td>\n      <td>CVC BRASIL   ON      NM</td>\n      <td>V</td>\n      <td>MODAL</td>\n      <td>-9.0</td>\n      <td>474.3</td>\n      <td>52.7</td>\n      <td>51.0</td>\n      <td>15.3</td>\n      <td>0.0</td>\n    </tr>\n  </tbody>\n</table>\n</div>",
          "text/plain": "         Data Código      Mercado            Especificação Tipo de Execução  \\\n0  2019-07-11  CVCB3  Fracionário  CVC BRASIL   ON      NM                C   \n4  2019-07-19  CVCB3  Fracionário  CVC BRASIL   ON      NM                V   \n7  2019-08-01  CVCB3  Fracionário  CVC BRASIL   ON      NM                C   \n23 2019-09-02  CVCB3  Fracionário  CVC BRASIL   ON      NM                V   \n\n   Corretora  Quantidade de C/V  Valor Total  Preço de C/V  Preço Atual   L/P  \\\n0      MODAL               10.0        530.0          53.0         53.0   0.0   \n4      MODAL              -10.0        487.0          48.7         53.0 -43.0   \n7      MODAL                9.0        459.0          51.0         51.0   0.0   \n23     MODAL               -9.0        474.3          52.7         51.0  15.3   \n\n    Quantidade Atual  \n0               10.0  \n4                0.0  \n7                9.0  \n23               0.0  "
         },
         "metadata": {},
         "output_type": "display_data"
        }
       ]
      }
     },
     "97c679792e894a3181ebea9a80b85fa1": {
      "model_module": "@jupyter-widgets/output",
      "model_module_version": "1.0.0",
      "model_name": "OutputModel",
      "state": {
       "layout": "IPY_MODEL_11caf8bb4a2d4e2faed22d2ef0f5d881",
       "outputs": [
        {
         "data": {
          "text/html": "<div>\n<style scoped>\n    .dataframe tbody tr th:only-of-type {\n        vertical-align: middle;\n    }\n\n    .dataframe tbody tr th {\n        vertical-align: top;\n    }\n\n    .dataframe thead th {\n        text-align: right;\n    }\n</style>\n<table border=\"1\" class=\"dataframe\">\n  <thead>\n    <tr style=\"text-align: right;\">\n      <th></th>\n      <th>Data</th>\n      <th>Código</th>\n      <th>Quantidade de C/V</th>\n      <th>&lt;Preço&gt;</th>\n      <th>&lt;Valor Total&gt;</th>\n      <th>Situação</th>\n      <th>Corretora</th>\n    </tr>\n  </thead>\n  <tbody>\n    <tr>\n      <th>17</th>\n      <td>2019-08-05</td>\n      <td>JBSS3</td>\n      <td>-16.0</td>\n      <td>26.855</td>\n      <td>429.68</td>\n      <td>Zerada</td>\n      <td>MODAL</td>\n    </tr>\n    <tr>\n      <th>23</th>\n      <td>2019-09-02</td>\n      <td>CVCB3</td>\n      <td>-9.0</td>\n      <td>51.000</td>\n      <td>459.00</td>\n      <td>Zerada</td>\n      <td>MODAL</td>\n    </tr>\n    <tr>\n      <th>27</th>\n      <td>2019-09-02</td>\n      <td>RAIL3</td>\n      <td>-20.0</td>\n      <td>22.170</td>\n      <td>443.40</td>\n      <td>Zerada</td>\n      <td>MODAL</td>\n    </tr>\n    <tr>\n      <th>21</th>\n      <td>2019-09-02</td>\n      <td>ANIM3</td>\n      <td>-20.0</td>\n      <td>21.270</td>\n      <td>425.40</td>\n      <td>Zerada</td>\n      <td>MODAL</td>\n    </tr>\n    <tr>\n      <th>22</th>\n      <td>2019-09-02</td>\n      <td>B3SA3</td>\n      <td>-10.0</td>\n      <td>43.070</td>\n      <td>430.70</td>\n      <td>Zerada</td>\n      <td>MODAL</td>\n    </tr>\n    <tr>\n      <th>25</th>\n      <td>2019-09-02</td>\n      <td>LREN3</td>\n      <td>-10.0</td>\n      <td>49.320</td>\n      <td>493.20</td>\n      <td>Zerada</td>\n      <td>MODAL</td>\n    </tr>\n    <tr>\n      <th>26</th>\n      <td>2019-09-02</td>\n      <td>PCAR4</td>\n      <td>-5.0</td>\n      <td>94.860</td>\n      <td>474.30</td>\n      <td>Zerada</td>\n      <td>MODAL</td>\n    </tr>\n    <tr>\n      <th>28</th>\n      <td>2019-09-02</td>\n      <td>RENT3</td>\n      <td>-11.0</td>\n      <td>44.380</td>\n      <td>488.18</td>\n      <td>Zerada</td>\n      <td>MODAL</td>\n    </tr>\n    <tr>\n      <th>24</th>\n      <td>2019-09-02</td>\n      <td>IRBR3</td>\n      <td>-5.0</td>\n      <td>91.500</td>\n      <td>457.50</td>\n      <td>Zerada</td>\n      <td>MODAL</td>\n    </tr>\n  </tbody>\n</table>\n</div>",
          "text/plain": "         Data Código  Quantidade de C/V  <Preço>  <Valor Total> Situação  \\\n17 2019-08-05  JBSS3              -16.0   26.855         429.68   Zerada   \n23 2019-09-02  CVCB3               -9.0   51.000         459.00   Zerada   \n27 2019-09-02  RAIL3              -20.0   22.170         443.40   Zerada   \n21 2019-09-02  ANIM3              -20.0   21.270         425.40   Zerada   \n22 2019-09-02  B3SA3              -10.0   43.070         430.70   Zerada   \n25 2019-09-02  LREN3              -10.0   49.320         493.20   Zerada   \n26 2019-09-02  PCAR4               -5.0   94.860         474.30   Zerada   \n28 2019-09-02  RENT3              -11.0   44.380         488.18   Zerada   \n24 2019-09-02  IRBR3               -5.0   91.500         457.50   Zerada   \n\n   Corretora  \n17     MODAL  \n23     MODAL  \n27     MODAL  \n21     MODAL  \n22     MODAL  \n25     MODAL  \n26     MODAL  \n28     MODAL  \n24     MODAL  "
         },
         "metadata": {},
         "output_type": "display_data"
        }
       ]
      }
     },
     "9c048f2d6f3f408fa7b7eb62e6f675f3": {
      "model_module": "@jupyter-widgets/controls",
      "model_module_version": "1.5.0",
      "model_name": "VBoxModel",
      "state": {
       "_dom_classes": [
        "widget-interact"
       ],
       "children": [
        "IPY_MODEL_7b0a83b5a75b4140acd9c62f93c3196b",
        "IPY_MODEL_34ccb7fc070c44ec83a06231845342ad"
       ],
       "layout": "IPY_MODEL_de0f24e8220c42df9ff24c2f634bbe25"
      }
     },
     "9e0e96aca3244ce7b87ad418c69db636": {
      "model_module": "@jupyter-widgets/base",
      "model_module_version": "1.2.0",
      "model_name": "LayoutModel",
      "state": {}
     },
     "9ec067a9a51c4fba9dd702af225353e0": {
      "model_module": "@jupyter-widgets/base",
      "model_module_version": "1.2.0",
      "model_name": "LayoutModel",
      "state": {}
     },
     "9ff70aff2aec44698bcd60e5af54055e": {
      "model_module": "@jupyter-widgets/base",
      "model_module_version": "1.2.0",
      "model_name": "LayoutModel",
      "state": {}
     },
     "a75c5e4aec81426cbd26e908ff987d69": {
      "model_module": "@jupyter-widgets/controls",
      "model_module_version": "1.5.0",
      "model_name": "DropdownModel",
      "state": {
       "_options_labels": [
        "MODAL",
        "CLEAR"
       ],
       "description": "corretora",
       "index": 0,
       "layout": "IPY_MODEL_1c7f697987f74e338af358e1f3e250bf",
       "style": "IPY_MODEL_53ebc3c6684440248664a6200939aed7"
      }
     },
     "a899a836d4874d75bb4e140b88a1719e": {
      "model_module": "@jupyter-widgets/output",
      "model_module_version": "1.0.0",
      "model_name": "OutputModel",
      "state": {
       "layout": "IPY_MODEL_9ec067a9a51c4fba9dd702af225353e0",
       "outputs": [
        {
         "ename": "IndexError",
         "evalue": "single positional indexer is out-of-bounds",
         "output_type": "error",
         "traceback": [
          "\u001b[0;31m---------------------------------------------------------------------------\u001b[0m",
          "\u001b[0;31mIndexError\u001b[0m                                Traceback (most recent call last)",
          "\u001b[0;32m~/anaconda3/envs/data/lib/python3.7/site-packages/ipywidgets/widgets/interaction.py\u001b[0m in \u001b[0;36mupdate\u001b[0;34m(self, *args)\u001b[0m\n\u001b[1;32m    254\u001b[0m                     \u001b[0mvalue\u001b[0m \u001b[0;34m=\u001b[0m \u001b[0mwidget\u001b[0m\u001b[0;34m.\u001b[0m\u001b[0mget_interact_value\u001b[0m\u001b[0;34m(\u001b[0m\u001b[0;34m)\u001b[0m\u001b[0;34m\u001b[0m\u001b[0;34m\u001b[0m\u001b[0m\n\u001b[1;32m    255\u001b[0m                     \u001b[0mself\u001b[0m\u001b[0;34m.\u001b[0m\u001b[0mkwargs\u001b[0m\u001b[0;34m[\u001b[0m\u001b[0mwidget\u001b[0m\u001b[0;34m.\u001b[0m\u001b[0m_kwarg\u001b[0m\u001b[0;34m]\u001b[0m \u001b[0;34m=\u001b[0m \u001b[0mvalue\u001b[0m\u001b[0;34m\u001b[0m\u001b[0;34m\u001b[0m\u001b[0m\n\u001b[0;32m--> 256\u001b[0;31m                 \u001b[0mself\u001b[0m\u001b[0;34m.\u001b[0m\u001b[0mresult\u001b[0m \u001b[0;34m=\u001b[0m \u001b[0mself\u001b[0m\u001b[0;34m.\u001b[0m\u001b[0mf\u001b[0m\u001b[0;34m(\u001b[0m\u001b[0;34m**\u001b[0m\u001b[0mself\u001b[0m\u001b[0;34m.\u001b[0m\u001b[0mkwargs\u001b[0m\u001b[0;34m)\u001b[0m\u001b[0;34m\u001b[0m\u001b[0;34m\u001b[0m\u001b[0m\n\u001b[0m\u001b[1;32m    257\u001b[0m                 \u001b[0mshow_inline_matplotlib_plots\u001b[0m\u001b[0;34m(\u001b[0m\u001b[0;34m)\u001b[0m\u001b[0;34m\u001b[0m\u001b[0;34m\u001b[0m\u001b[0m\n\u001b[1;32m    258\u001b[0m                 \u001b[0;32mif\u001b[0m \u001b[0mself\u001b[0m\u001b[0;34m.\u001b[0m\u001b[0mauto_display\u001b[0m \u001b[0;32mand\u001b[0m \u001b[0mself\u001b[0m\u001b[0;34m.\u001b[0m\u001b[0mresult\u001b[0m \u001b[0;32mis\u001b[0m \u001b[0;32mnot\u001b[0m \u001b[0;32mNone\u001b[0m\u001b[0;34m:\u001b[0m\u001b[0;34m\u001b[0m\u001b[0;34m\u001b[0m\u001b[0m\n",
          "\u001b[0;32m<ipython-input-111-0c8ad3ef1f94>\u001b[0m in \u001b[0;36mf\u001b[0;34m(corretora)\u001b[0m\n\u001b[1;32m      3\u001b[0m     \u001b[0mdf_f\u001b[0m \u001b[0;34m=\u001b[0m \u001b[0mdf_ativos\u001b[0m\u001b[0;34m[\u001b[0m\u001b[0mdf_ativos\u001b[0m\u001b[0;34m[\u001b[0m\u001b[0;34m'Corretora'\u001b[0m\u001b[0;34m]\u001b[0m \u001b[0;34m==\u001b[0m \u001b[0mcorretora\u001b[0m\u001b[0;34m]\u001b[0m\u001b[0;34m\u001b[0m\u001b[0;34m\u001b[0m\u001b[0m\n\u001b[1;32m      4\u001b[0m \u001b[0;34m\u001b[0m\u001b[0m\n\u001b[0;32m----> 5\u001b[0;31m     \u001b[0mdisplay\u001b[0m\u001b[0;34m(\u001b[0m\u001b[0mcarteira_de_acoes_atual\u001b[0m\u001b[0;34m(\u001b[0m\u001b[0mdf_f\u001b[0m\u001b[0;34m.\u001b[0m\u001b[0mcopy\u001b[0m\u001b[0;34m(\u001b[0m\u001b[0;34m)\u001b[0m\u001b[0;34m,\u001b[0m \u001b[0moffline\u001b[0m\u001b[0;34m=\u001b[0m\u001b[0;32mTrue\u001b[0m\u001b[0;34m)\u001b[0m\u001b[0;34m)\u001b[0m\u001b[0;34m\u001b[0m\u001b[0;34m\u001b[0m\u001b[0m\n\u001b[0m\u001b[1;32m      6\u001b[0m \u001b[0;34m\u001b[0m\u001b[0m\n\u001b[1;32m      7\u001b[0m \u001b[0minteractive\u001b[0m\u001b[0;34m(\u001b[0m\u001b[0mf\u001b[0m\u001b[0;34m,\u001b[0m \u001b[0mcorretora\u001b[0m\u001b[0;34m=\u001b[0m\u001b[0mdf_ativos\u001b[0m\u001b[0;34m[\u001b[0m\u001b[0;34m'Corretora'\u001b[0m\u001b[0;34m]\u001b[0m\u001b[0;34m.\u001b[0m\u001b[0munique\u001b[0m\u001b[0;34m(\u001b[0m\u001b[0;34m)\u001b[0m\u001b[0;34m)\u001b[0m\u001b[0;34m\u001b[0m\u001b[0;34m\u001b[0m\u001b[0m\n",
          "\u001b[0;32m<ipython-input-103-253fe6605bb8>\u001b[0m in \u001b[0;36mcarteira_de_acoes_atual\u001b[0;34m(df, offline)\u001b[0m\n\u001b[1;32m      9\u001b[0m         \u001b[0mlast_idx\u001b[0m \u001b[0;34m=\u001b[0m \u001b[0mdf\u001b[0m\u001b[0;34m[\u001b[0m\u001b[0mdf\u001b[0m\u001b[0;34m[\u001b[0m\u001b[0;34m[\u001b[0m\u001b[0;34m'Código'\u001b[0m\u001b[0;34m]\u001b[0m\u001b[0;34m]\u001b[0m \u001b[0;34m==\u001b[0m \u001b[0mcod\u001b[0m\u001b[0;34m]\u001b[0m\u001b[0;34m.\u001b[0m\u001b[0mlast_valid_index\u001b[0m\u001b[0;34m(\u001b[0m\u001b[0;34m)\u001b[0m\u001b[0;34m\u001b[0m\u001b[0;34m\u001b[0m\u001b[0m\n\u001b[1;32m     10\u001b[0m \u001b[0;34m\u001b[0m\u001b[0m\n\u001b[0;32m---> 11\u001b[0;31m         \u001b[0mcarteira\u001b[0m \u001b[0;34m=\u001b[0m \u001b[0mcarteira\u001b[0m\u001b[0;34m.\u001b[0m\u001b[0mappend\u001b[0m\u001b[0;34m(\u001b[0m\u001b[0mdf\u001b[0m\u001b[0;34m.\u001b[0m\u001b[0miloc\u001b[0m\u001b[0;34m[\u001b[0m\u001b[0mlast_idx\u001b[0m\u001b[0;34m]\u001b[0m\u001b[0;34m,\u001b[0m \u001b[0mignore_index\u001b[0m\u001b[0;34m=\u001b[0m\u001b[0;32mTrue\u001b[0m\u001b[0;34m)\u001b[0m\u001b[0;34m\u001b[0m\u001b[0;34m\u001b[0m\u001b[0m\n\u001b[0m\u001b[1;32m     12\u001b[0m \u001b[0;34m\u001b[0m\u001b[0m\n\u001b[1;32m     13\u001b[0m     \u001b[0mcarteira\u001b[0m \u001b[0;34m=\u001b[0m \u001b[0mcarteira\u001b[0m\u001b[0;34m[\u001b[0m\u001b[0mcarteira\u001b[0m\u001b[0;34m[\u001b[0m\u001b[0;34m'Quantidade Atual'\u001b[0m\u001b[0;34m]\u001b[0m \u001b[0;34m!=\u001b[0m \u001b[0;36m0.0\u001b[0m\u001b[0;34m]\u001b[0m\u001b[0;34m\u001b[0m\u001b[0;34m\u001b[0m\u001b[0m\n",
          "\u001b[0;32m~/anaconda3/envs/data/lib/python3.7/site-packages/pandas/core/indexing.py\u001b[0m in \u001b[0;36m__getitem__\u001b[0;34m(self, key)\u001b[0m\n\u001b[1;32m   1765\u001b[0m \u001b[0;34m\u001b[0m\u001b[0m\n\u001b[1;32m   1766\u001b[0m             \u001b[0mmaybe_callable\u001b[0m \u001b[0;34m=\u001b[0m \u001b[0mcom\u001b[0m\u001b[0;34m.\u001b[0m\u001b[0mapply_if_callable\u001b[0m\u001b[0;34m(\u001b[0m\u001b[0mkey\u001b[0m\u001b[0;34m,\u001b[0m \u001b[0mself\u001b[0m\u001b[0;34m.\u001b[0m\u001b[0mobj\u001b[0m\u001b[0;34m)\u001b[0m\u001b[0;34m\u001b[0m\u001b[0;34m\u001b[0m\u001b[0m\n\u001b[0;32m-> 1767\u001b[0;31m             \u001b[0;32mreturn\u001b[0m \u001b[0mself\u001b[0m\u001b[0;34m.\u001b[0m\u001b[0m_getitem_axis\u001b[0m\u001b[0;34m(\u001b[0m\u001b[0mmaybe_callable\u001b[0m\u001b[0;34m,\u001b[0m \u001b[0maxis\u001b[0m\u001b[0;34m=\u001b[0m\u001b[0maxis\u001b[0m\u001b[0;34m)\u001b[0m\u001b[0;34m\u001b[0m\u001b[0;34m\u001b[0m\u001b[0m\n\u001b[0m\u001b[1;32m   1768\u001b[0m \u001b[0;34m\u001b[0m\u001b[0m\n\u001b[1;32m   1769\u001b[0m     \u001b[0;32mdef\u001b[0m \u001b[0m_is_scalar_access\u001b[0m\u001b[0;34m(\u001b[0m\u001b[0mself\u001b[0m\u001b[0;34m,\u001b[0m \u001b[0mkey\u001b[0m\u001b[0;34m:\u001b[0m \u001b[0mTuple\u001b[0m\u001b[0;34m)\u001b[0m\u001b[0;34m:\u001b[0m\u001b[0;34m\u001b[0m\u001b[0;34m\u001b[0m\u001b[0m\n",
          "\u001b[0;32m~/anaconda3/envs/data/lib/python3.7/site-packages/pandas/core/indexing.py\u001b[0m in \u001b[0;36m_getitem_axis\u001b[0;34m(self, key, axis)\u001b[0m\n\u001b[1;32m   2135\u001b[0m \u001b[0;34m\u001b[0m\u001b[0m\n\u001b[1;32m   2136\u001b[0m             \u001b[0;31m# validate the location\u001b[0m\u001b[0;34m\u001b[0m\u001b[0;34m\u001b[0m\u001b[0;34m\u001b[0m\u001b[0m\n\u001b[0;32m-> 2137\u001b[0;31m             \u001b[0mself\u001b[0m\u001b[0;34m.\u001b[0m\u001b[0m_validate_integer\u001b[0m\u001b[0;34m(\u001b[0m\u001b[0mkey\u001b[0m\u001b[0;34m,\u001b[0m \u001b[0maxis\u001b[0m\u001b[0;34m)\u001b[0m\u001b[0;34m\u001b[0m\u001b[0;34m\u001b[0m\u001b[0m\n\u001b[0m\u001b[1;32m   2138\u001b[0m \u001b[0;34m\u001b[0m\u001b[0m\n\u001b[1;32m   2139\u001b[0m             \u001b[0;32mreturn\u001b[0m \u001b[0mself\u001b[0m\u001b[0;34m.\u001b[0m\u001b[0m_get_loc\u001b[0m\u001b[0;34m(\u001b[0m\u001b[0mkey\u001b[0m\u001b[0;34m,\u001b[0m \u001b[0maxis\u001b[0m\u001b[0;34m=\u001b[0m\u001b[0maxis\u001b[0m\u001b[0;34m)\u001b[0m\u001b[0;34m\u001b[0m\u001b[0;34m\u001b[0m\u001b[0m\n",
          "\u001b[0;32m~/anaconda3/envs/data/lib/python3.7/site-packages/pandas/core/indexing.py\u001b[0m in \u001b[0;36m_validate_integer\u001b[0;34m(self, key, axis)\u001b[0m\n\u001b[1;32m   2060\u001b[0m         \u001b[0mlen_axis\u001b[0m \u001b[0;34m=\u001b[0m \u001b[0mlen\u001b[0m\u001b[0;34m(\u001b[0m\u001b[0mself\u001b[0m\u001b[0;34m.\u001b[0m\u001b[0mobj\u001b[0m\u001b[0;34m.\u001b[0m\u001b[0m_get_axis\u001b[0m\u001b[0;34m(\u001b[0m\u001b[0maxis\u001b[0m\u001b[0;34m)\u001b[0m\u001b[0;34m)\u001b[0m\u001b[0;34m\u001b[0m\u001b[0;34m\u001b[0m\u001b[0m\n\u001b[1;32m   2061\u001b[0m         \u001b[0;32mif\u001b[0m \u001b[0mkey\u001b[0m \u001b[0;34m>=\u001b[0m \u001b[0mlen_axis\u001b[0m \u001b[0;32mor\u001b[0m \u001b[0mkey\u001b[0m \u001b[0;34m<\u001b[0m \u001b[0;34m-\u001b[0m\u001b[0mlen_axis\u001b[0m\u001b[0;34m:\u001b[0m\u001b[0;34m\u001b[0m\u001b[0;34m\u001b[0m\u001b[0m\n\u001b[0;32m-> 2062\u001b[0;31m             \u001b[0;32mraise\u001b[0m \u001b[0mIndexError\u001b[0m\u001b[0;34m(\u001b[0m\u001b[0;34m\"single positional indexer is out-of-bounds\"\u001b[0m\u001b[0;34m)\u001b[0m\u001b[0;34m\u001b[0m\u001b[0;34m\u001b[0m\u001b[0m\n\u001b[0m\u001b[1;32m   2063\u001b[0m \u001b[0;34m\u001b[0m\u001b[0m\n\u001b[1;32m   2064\u001b[0m     \u001b[0;32mdef\u001b[0m \u001b[0m_getitem_tuple\u001b[0m\u001b[0;34m(\u001b[0m\u001b[0mself\u001b[0m\u001b[0;34m,\u001b[0m \u001b[0mtup\u001b[0m\u001b[0;34m:\u001b[0m \u001b[0mTuple\u001b[0m\u001b[0;34m)\u001b[0m\u001b[0;34m:\u001b[0m\u001b[0;34m\u001b[0m\u001b[0;34m\u001b[0m\u001b[0m\n",
          "\u001b[0;31mIndexError\u001b[0m: single positional indexer is out-of-bounds"
         ]
        }
       ]
      }
     },
     "a8b4b4f7806d423791947771f447b2db": {
      "model_module": "@jupyter-widgets/base",
      "model_module_version": "1.2.0",
      "model_name": "LayoutModel",
      "state": {}
     },
     "abbd29dc7db94d49bbcf6fe0ea07df53": {
      "model_module": "@jupyter-widgets/controls",
      "model_module_version": "1.5.0",
      "model_name": "DescriptionStyleModel",
      "state": {
       "description_width": ""
      }
     },
     "b0cc39136bd84db799b3085062261ce3": {
      "model_module": "@jupyter-widgets/base",
      "model_module_version": "1.2.0",
      "model_name": "LayoutModel",
      "state": {}
     },
     "b0f4ef095ec74b78b49438eaf2ac3c55": {
      "model_module": "@jupyter-widgets/output",
      "model_module_version": "1.0.0",
      "model_name": "OutputModel",
      "state": {
       "layout": "IPY_MODEL_7b34e11b57ea4c6a970312466178bb3f",
       "outputs": [
        {
         "data": {
          "text/html": "<div>\n<style scoped>\n    .dataframe tbody tr th:only-of-type {\n        vertical-align: middle;\n    }\n\n    .dataframe tbody tr th {\n        vertical-align: top;\n    }\n\n    .dataframe thead th {\n        text-align: right;\n    }\n</style>\n<table border=\"1\" class=\"dataframe\">\n  <thead>\n    <tr style=\"text-align: right;\">\n      <th></th>\n      <th>Data</th>\n      <th>Código</th>\n      <th>Quantidade Atual</th>\n      <th>&lt;Preço&gt;</th>\n      <th>&lt;Valor Total&gt;</th>\n      <th>Corretora</th>\n      <th>Posição</th>\n    </tr>\n  </thead>\n  <tbody>\n    <tr>\n      <th>0</th>\n      <td>2019-09-05</td>\n      <td>CYRE3</td>\n      <td>21.0</td>\n      <td>24.160000</td>\n      <td>507.36</td>\n      <td>CLEAR</td>\n      <td>Comprada</td>\n    </tr>\n    <tr>\n      <th>1</th>\n      <td>2019-10-01</td>\n      <td>EZTC3</td>\n      <td>15.0</td>\n      <td>36.420000</td>\n      <td>546.30</td>\n      <td>CLEAR</td>\n      <td>Comprada</td>\n    </tr>\n    <tr>\n      <th>2</th>\n      <td>2019-11-04</td>\n      <td>JBSS3</td>\n      <td>21.0</td>\n      <td>28.494762</td>\n      <td>598.39</td>\n      <td>CLEAR</td>\n      <td>Comprada</td>\n    </tr>\n    <tr>\n      <th>3</th>\n      <td>2019-11-04</td>\n      <td>LCAM3</td>\n      <td>29.0</td>\n      <td>17.750000</td>\n      <td>514.75</td>\n      <td>CLEAR</td>\n      <td>Comprada</td>\n    </tr>\n    <tr>\n      <th>4</th>\n      <td>2019-12-03</td>\n      <td>KLBN11</td>\n      <td>29.0</td>\n      <td>18.150000</td>\n      <td>526.35</td>\n      <td>CLEAR</td>\n      <td>Comprada</td>\n    </tr>\n    <tr>\n      <th>5</th>\n      <td>2019-12-03</td>\n      <td>RAIL3</td>\n      <td>21.0</td>\n      <td>25.220000</td>\n      <td>529.62</td>\n      <td>CLEAR</td>\n      <td>Comprada</td>\n    </tr>\n  </tbody>\n</table>\n</div>",
          "text/plain": "        Data  Código  Quantidade Atual    <Preço>  <Valor Total> Corretora  \\\n0 2019-09-05   CYRE3              21.0  24.160000         507.36     CLEAR   \n1 2019-10-01   EZTC3              15.0  36.420000         546.30     CLEAR   \n2 2019-11-04   JBSS3              21.0  28.494762         598.39     CLEAR   \n3 2019-11-04   LCAM3              29.0  17.750000         514.75     CLEAR   \n4 2019-12-03  KLBN11              29.0  18.150000         526.35     CLEAR   \n5 2019-12-03   RAIL3              21.0  25.220000         529.62     CLEAR   \n\n    Posição  \n0  Comprada  \n1  Comprada  \n2  Comprada  \n3  Comprada  \n4  Comprada  \n5  Comprada  "
         },
         "metadata": {},
         "output_type": "display_data"
        }
       ]
      }
     },
     "b4cec45b2627470aae42e0d161f8e268": {
      "model_module": "@jupyter-widgets/controls",
      "model_module_version": "1.5.0",
      "model_name": "VBoxModel",
      "state": {
       "_dom_classes": [
        "widget-interact"
       ],
       "children": [
        "IPY_MODEL_bb728f78f18c4dd683ab86562dc952f2",
        "IPY_MODEL_b0f4ef095ec74b78b49438eaf2ac3c55"
       ],
       "layout": "IPY_MODEL_2e6566a5e01b4a1cbe3bcb9bd2b8128c"
      }
     },
     "b55dc3c2e81643039edfa7d3d89a574f": {
      "model_module": "@jupyter-widgets/output",
      "model_module_version": "1.0.0",
      "model_name": "OutputModel",
      "state": {
       "layout": "IPY_MODEL_6d657081ca33429f885f0dc713bcbd2e",
       "outputs": [
        {
         "data": {
          "text/html": "<div>\n<style scoped>\n    .dataframe tbody tr th:only-of-type {\n        vertical-align: middle;\n    }\n\n    .dataframe tbody tr th {\n        vertical-align: top;\n    }\n\n    .dataframe thead th {\n        text-align: right;\n    }\n</style>\n<table border=\"1\" class=\"dataframe\">\n  <thead>\n    <tr style=\"text-align: right;\">\n      <th></th>\n      <th>Data</th>\n      <th>Código</th>\n      <th>Quantidade Atual</th>\n      <th>&lt;Preço&gt;</th>\n      <th>&lt;Valor Total&gt;</th>\n      <th>Corretora</th>\n      <th>Posição</th>\n    </tr>\n  </thead>\n  <tbody>\n    <tr>\n      <th>0</th>\n      <td>2019-09-05</td>\n      <td>PETR4</td>\n      <td>39.0</td>\n      <td>26.376410</td>\n      <td>1028.68</td>\n      <td>MODAL</td>\n      <td>Comprada</td>\n    </tr>\n    <tr>\n      <th>1</th>\n      <td>2019-09-05</td>\n      <td>VALE3</td>\n      <td>25.0</td>\n      <td>49.798000</td>\n      <td>1244.95</td>\n      <td>MODAL</td>\n      <td>Comprada</td>\n    </tr>\n    <tr>\n      <th>2</th>\n      <td>2019-09-05</td>\n      <td>MGLU3</td>\n      <td>33.0</td>\n      <td>34.856667</td>\n      <td>1150.27</td>\n      <td>MODAL</td>\n      <td>Comprada</td>\n    </tr>\n    <tr>\n      <th>3</th>\n      <td>2019-09-12</td>\n      <td>VVAR3</td>\n      <td>100.0</td>\n      <td>7.758000</td>\n      <td>775.80</td>\n      <td>MODAL</td>\n      <td>Comprada</td>\n    </tr>\n  </tbody>\n</table>\n</div>",
          "text/plain": "        Data Código  Quantidade Atual    <Preço>  <Valor Total> Corretora  \\\n0 2019-09-05  PETR4              39.0  26.376410        1028.68     MODAL   \n1 2019-09-05  VALE3              25.0  49.798000        1244.95     MODAL   \n2 2019-09-05  MGLU3              33.0  34.856667        1150.27     MODAL   \n3 2019-09-12  VVAR3             100.0   7.758000         775.80     MODAL   \n\n    Posição  \n0  Comprada  \n1  Comprada  \n2  Comprada  \n3  Comprada  "
         },
         "metadata": {},
         "output_type": "display_data"
        }
       ]
      }
     },
     "b61d4c463cb94c2ea20ced9cba2cb474": {
      "model_module": "@jupyter-widgets/controls",
      "model_module_version": "1.5.0",
      "model_name": "DescriptionStyleModel",
      "state": {
       "description_width": ""
      }
     },
     "b62a631e12a147e291560f5af3e574c4": {
      "model_module": "@jupyter-widgets/controls",
      "model_module_version": "1.5.0",
      "model_name": "DescriptionStyleModel",
      "state": {
       "description_width": ""
      }
     },
     "b69ac8e0e6bd4433b59f85d8006d6d46": {
      "model_module": "@jupyter-widgets/controls",
      "model_module_version": "1.5.0",
      "model_name": "DescriptionStyleModel",
      "state": {
       "description_width": ""
      }
     },
     "b94473964fe84f809f8f9a46488d7971": {
      "model_module": "@jupyter-widgets/output",
      "model_module_version": "1.0.0",
      "model_name": "OutputModel",
      "state": {
       "layout": "IPY_MODEL_43da124934264d019c40e2f3faf4c346",
       "outputs": [
        {
         "ename": "KeyError",
         "evalue": "\"['Posição'] not in index\"",
         "output_type": "error",
         "traceback": [
          "\u001b[0;31m---------------------------------------------------------------------------\u001b[0m",
          "\u001b[0;31mKeyError\u001b[0m                                  Traceback (most recent call last)",
          "\u001b[0;32m~/anaconda3/envs/data/lib/python3.7/site-packages/ipywidgets/widgets/interaction.py\u001b[0m in \u001b[0;36mupdate\u001b[0;34m(self, *args)\u001b[0m\n\u001b[1;32m    254\u001b[0m                     \u001b[0mvalue\u001b[0m \u001b[0;34m=\u001b[0m \u001b[0mwidget\u001b[0m\u001b[0;34m.\u001b[0m\u001b[0mget_interact_value\u001b[0m\u001b[0;34m(\u001b[0m\u001b[0;34m)\u001b[0m\u001b[0;34m\u001b[0m\u001b[0;34m\u001b[0m\u001b[0m\n\u001b[1;32m    255\u001b[0m                     \u001b[0mself\u001b[0m\u001b[0;34m.\u001b[0m\u001b[0mkwargs\u001b[0m\u001b[0;34m[\u001b[0m\u001b[0mwidget\u001b[0m\u001b[0;34m.\u001b[0m\u001b[0m_kwarg\u001b[0m\u001b[0;34m]\u001b[0m \u001b[0;34m=\u001b[0m \u001b[0mvalue\u001b[0m\u001b[0;34m\u001b[0m\u001b[0;34m\u001b[0m\u001b[0m\n\u001b[0;32m--> 256\u001b[0;31m                 \u001b[0mself\u001b[0m\u001b[0;34m.\u001b[0m\u001b[0mresult\u001b[0m \u001b[0;34m=\u001b[0m \u001b[0mself\u001b[0m\u001b[0;34m.\u001b[0m\u001b[0mf\u001b[0m\u001b[0;34m(\u001b[0m\u001b[0;34m**\u001b[0m\u001b[0mself\u001b[0m\u001b[0;34m.\u001b[0m\u001b[0mkwargs\u001b[0m\u001b[0;34m)\u001b[0m\u001b[0;34m\u001b[0m\u001b[0;34m\u001b[0m\u001b[0m\n\u001b[0m\u001b[1;32m    257\u001b[0m                 \u001b[0mshow_inline_matplotlib_plots\u001b[0m\u001b[0;34m(\u001b[0m\u001b[0;34m)\u001b[0m\u001b[0;34m\u001b[0m\u001b[0;34m\u001b[0m\u001b[0m\n\u001b[1;32m    258\u001b[0m                 \u001b[0;32mif\u001b[0m \u001b[0mself\u001b[0m\u001b[0;34m.\u001b[0m\u001b[0mauto_display\u001b[0m \u001b[0;32mand\u001b[0m \u001b[0mself\u001b[0m\u001b[0;34m.\u001b[0m\u001b[0mresult\u001b[0m \u001b[0;32mis\u001b[0m \u001b[0;32mnot\u001b[0m \u001b[0;32mNone\u001b[0m\u001b[0;34m:\u001b[0m\u001b[0;34m\u001b[0m\u001b[0;34m\u001b[0m\u001b[0m\n",
          "\u001b[0;32m<ipython-input-142-c75b923928c6>\u001b[0m in \u001b[0;36mf\u001b[0;34m(corretora)\u001b[0m\n\u001b[1;32m     27\u001b[0m     \u001b[0mdf\u001b[0m\u001b[0;34m[\u001b[0m\u001b[0;34m'posição'\u001b[0m\u001b[0;34m]\u001b[0m \u001b[0;34m=\u001b[0m \u001b[0;34m'Zerada'\u001b[0m\u001b[0;34m\u001b[0m\u001b[0;34m\u001b[0m\u001b[0m\n\u001b[1;32m     28\u001b[0m \u001b[0;34m\u001b[0m\u001b[0m\n\u001b[0;32m---> 29\u001b[0;31m     \u001b[0mdisplay\u001b[0m\u001b[0;34m(\u001b[0m\u001b[0mdf\u001b[0m\u001b[0;34m[\u001b[0m\u001b[0;34m[\u001b[0m\u001b[0;34m'Data'\u001b[0m\u001b[0;34m,\u001b[0m \u001b[0;34m'Código'\u001b[0m\u001b[0;34m,\u001b[0m \u001b[0;34m'Quantidade de C/V'\u001b[0m\u001b[0;34m,\u001b[0m \u001b[0;34m'<Preço>'\u001b[0m\u001b[0;34m,\u001b[0m \u001b[0;34m'<Valor Total>'\u001b[0m\u001b[0;34m,\u001b[0m \u001b[0;34m'Posição'\u001b[0m\u001b[0;34m,\u001b[0m \u001b[0;34m'Corretora'\u001b[0m\u001b[0;34m]\u001b[0m\u001b[0;34m]\u001b[0m\u001b[0;34m)\u001b[0m\u001b[0;34m\u001b[0m\u001b[0;34m\u001b[0m\u001b[0m\n\u001b[0m\u001b[1;32m     30\u001b[0m \u001b[0;34m\u001b[0m\u001b[0m\n\u001b[1;32m     31\u001b[0m \u001b[0minteractive\u001b[0m\u001b[0;34m(\u001b[0m\u001b[0mf\u001b[0m\u001b[0;34m,\u001b[0m \u001b[0mcorretora\u001b[0m\u001b[0;34m=\u001b[0m\u001b[0mdf_ativos\u001b[0m\u001b[0;34m[\u001b[0m\u001b[0;34m'Corretora'\u001b[0m\u001b[0;34m]\u001b[0m\u001b[0;34m.\u001b[0m\u001b[0munique\u001b[0m\u001b[0;34m(\u001b[0m\u001b[0;34m)\u001b[0m\u001b[0;34m)\u001b[0m\u001b[0;34m\u001b[0m\u001b[0;34m\u001b[0m\u001b[0m\n",
          "\u001b[0;32m~/anaconda3/envs/data/lib/python3.7/site-packages/pandas/core/frame.py\u001b[0m in \u001b[0;36m__getitem__\u001b[0;34m(self, key)\u001b[0m\n\u001b[1;32m   2804\u001b[0m             \u001b[0;32mif\u001b[0m \u001b[0mis_iterator\u001b[0m\u001b[0;34m(\u001b[0m\u001b[0mkey\u001b[0m\u001b[0;34m)\u001b[0m\u001b[0;34m:\u001b[0m\u001b[0;34m\u001b[0m\u001b[0;34m\u001b[0m\u001b[0m\n\u001b[1;32m   2805\u001b[0m                 \u001b[0mkey\u001b[0m \u001b[0;34m=\u001b[0m \u001b[0mlist\u001b[0m\u001b[0;34m(\u001b[0m\u001b[0mkey\u001b[0m\u001b[0;34m)\u001b[0m\u001b[0;34m\u001b[0m\u001b[0;34m\u001b[0m\u001b[0m\n\u001b[0;32m-> 2806\u001b[0;31m             \u001b[0mindexer\u001b[0m \u001b[0;34m=\u001b[0m \u001b[0mself\u001b[0m\u001b[0;34m.\u001b[0m\u001b[0mloc\u001b[0m\u001b[0;34m.\u001b[0m\u001b[0m_get_listlike_indexer\u001b[0m\u001b[0;34m(\u001b[0m\u001b[0mkey\u001b[0m\u001b[0;34m,\u001b[0m \u001b[0maxis\u001b[0m\u001b[0;34m=\u001b[0m\u001b[0;36m1\u001b[0m\u001b[0;34m,\u001b[0m \u001b[0mraise_missing\u001b[0m\u001b[0;34m=\u001b[0m\u001b[0;32mTrue\u001b[0m\u001b[0;34m)\u001b[0m\u001b[0;34m[\u001b[0m\u001b[0;36m1\u001b[0m\u001b[0;34m]\u001b[0m\u001b[0;34m\u001b[0m\u001b[0;34m\u001b[0m\u001b[0m\n\u001b[0m\u001b[1;32m   2807\u001b[0m \u001b[0;34m\u001b[0m\u001b[0m\n\u001b[1;32m   2808\u001b[0m         \u001b[0;31m# take() does not accept boolean indexers\u001b[0m\u001b[0;34m\u001b[0m\u001b[0;34m\u001b[0m\u001b[0;34m\u001b[0m\u001b[0m\n",
          "\u001b[0;32m~/anaconda3/envs/data/lib/python3.7/site-packages/pandas/core/indexing.py\u001b[0m in \u001b[0;36m_get_listlike_indexer\u001b[0;34m(self, key, axis, raise_missing)\u001b[0m\n\u001b[1;32m   1550\u001b[0m \u001b[0;34m\u001b[0m\u001b[0m\n\u001b[1;32m   1551\u001b[0m         self._validate_read_indexer(\n\u001b[0;32m-> 1552\u001b[0;31m             \u001b[0mkeyarr\u001b[0m\u001b[0;34m,\u001b[0m \u001b[0mindexer\u001b[0m\u001b[0;34m,\u001b[0m \u001b[0mo\u001b[0m\u001b[0;34m.\u001b[0m\u001b[0m_get_axis_number\u001b[0m\u001b[0;34m(\u001b[0m\u001b[0maxis\u001b[0m\u001b[0;34m)\u001b[0m\u001b[0;34m,\u001b[0m \u001b[0mraise_missing\u001b[0m\u001b[0;34m=\u001b[0m\u001b[0mraise_missing\u001b[0m\u001b[0;34m\u001b[0m\u001b[0;34m\u001b[0m\u001b[0m\n\u001b[0m\u001b[1;32m   1553\u001b[0m         )\n\u001b[1;32m   1554\u001b[0m         \u001b[0;32mreturn\u001b[0m \u001b[0mkeyarr\u001b[0m\u001b[0;34m,\u001b[0m \u001b[0mindexer\u001b[0m\u001b[0;34m\u001b[0m\u001b[0;34m\u001b[0m\u001b[0m\n",
          "\u001b[0;32m~/anaconda3/envs/data/lib/python3.7/site-packages/pandas/core/indexing.py\u001b[0m in \u001b[0;36m_validate_read_indexer\u001b[0;34m(self, key, indexer, axis, raise_missing)\u001b[0m\n\u001b[1;32m   1643\u001b[0m             \u001b[0;32mif\u001b[0m \u001b[0;32mnot\u001b[0m \u001b[0;34m(\u001b[0m\u001b[0mself\u001b[0m\u001b[0;34m.\u001b[0m\u001b[0mname\u001b[0m \u001b[0;34m==\u001b[0m \u001b[0;34m\"loc\"\u001b[0m \u001b[0;32mand\u001b[0m \u001b[0;32mnot\u001b[0m \u001b[0mraise_missing\u001b[0m\u001b[0;34m)\u001b[0m\u001b[0;34m:\u001b[0m\u001b[0;34m\u001b[0m\u001b[0;34m\u001b[0m\u001b[0m\n\u001b[1;32m   1644\u001b[0m                 \u001b[0mnot_found\u001b[0m \u001b[0;34m=\u001b[0m \u001b[0mlist\u001b[0m\u001b[0;34m(\u001b[0m\u001b[0mset\u001b[0m\u001b[0;34m(\u001b[0m\u001b[0mkey\u001b[0m\u001b[0;34m)\u001b[0m \u001b[0;34m-\u001b[0m \u001b[0mset\u001b[0m\u001b[0;34m(\u001b[0m\u001b[0max\u001b[0m\u001b[0;34m)\u001b[0m\u001b[0;34m)\u001b[0m\u001b[0;34m\u001b[0m\u001b[0;34m\u001b[0m\u001b[0m\n\u001b[0;32m-> 1645\u001b[0;31m                 \u001b[0;32mraise\u001b[0m \u001b[0mKeyError\u001b[0m\u001b[0;34m(\u001b[0m\u001b[0;34mf\"{not_found} not in index\"\u001b[0m\u001b[0;34m)\u001b[0m\u001b[0;34m\u001b[0m\u001b[0;34m\u001b[0m\u001b[0m\n\u001b[0m\u001b[1;32m   1646\u001b[0m \u001b[0;34m\u001b[0m\u001b[0m\n\u001b[1;32m   1647\u001b[0m             \u001b[0;31m# we skip the warning on Categorical/Interval\u001b[0m\u001b[0;34m\u001b[0m\u001b[0;34m\u001b[0m\u001b[0;34m\u001b[0m\u001b[0m\n",
          "\u001b[0;31mKeyError\u001b[0m: \"['Posição'] not in index\""
         ]
        }
       ]
      }
     },
     "b99e03d818654acd8acd4b696513a30a": {
      "model_module": "@jupyter-widgets/base",
      "model_module_version": "1.2.0",
      "model_name": "LayoutModel",
      "state": {}
     },
     "bb728f78f18c4dd683ab86562dc952f2": {
      "model_module": "@jupyter-widgets/controls",
      "model_module_version": "1.5.0",
      "model_name": "DropdownModel",
      "state": {
       "_options_labels": [
        "MODAL",
        "CLEAR"
       ],
       "description": "corretora",
       "index": 1,
       "layout": "IPY_MODEL_de979d6855d246c48a903303f9dd25e0",
       "style": "IPY_MODEL_d314f5b058694e7aafbd128c7897280a"
      }
     },
     "bc1693a3a6c5406787c93a0cbd239d8f": {
      "model_module": "@jupyter-widgets/controls",
      "model_module_version": "1.5.0",
      "model_name": "DescriptionStyleModel",
      "state": {
       "description_width": ""
      }
     },
     "c1718b243f6044cd93f4864646044924": {
      "model_module": "@jupyter-widgets/controls",
      "model_module_version": "1.5.0",
      "model_name": "DescriptionStyleModel",
      "state": {
       "description_width": ""
      }
     },
     "c53ee025a061494ca6f0ccabf0975243": {
      "model_module": "@jupyter-widgets/base",
      "model_module_version": "1.2.0",
      "model_name": "LayoutModel",
      "state": {}
     },
     "c5960cf0e58f45d9937ec0aa9acc9675": {
      "model_module": "@jupyter-widgets/controls",
      "model_module_version": "1.5.0",
      "model_name": "VBoxModel",
      "state": {
       "_dom_classes": [
        "widget-interact"
       ],
       "children": [
        "IPY_MODEL_d281b43b7eb54bd7b9e9d40cf2dcb88f",
        "IPY_MODEL_b94473964fe84f809f8f9a46488d7971"
       ],
       "layout": "IPY_MODEL_8047cf5ec82743bd8d56fc94ce5e4b22"
      }
     },
     "c62915b0aa3647ae8931355ae4c8e2a5": {
      "model_module": "@jupyter-widgets/output",
      "model_module_version": "1.0.0",
      "model_name": "OutputModel",
      "state": {
       "layout": "IPY_MODEL_e1808e78560d4966b62088efdedcc95f"
      }
     },
     "c88e2ed2380c4d8daece039c557e27a3": {
      "model_module": "@jupyter-widgets/base",
      "model_module_version": "1.2.0",
      "model_name": "LayoutModel",
      "state": {}
     },
     "c90fcfb6d7014d649177179419691841": {
      "model_module": "@jupyter-widgets/output",
      "model_module_version": "1.0.0",
      "model_name": "OutputModel",
      "state": {
       "layout": "IPY_MODEL_dd911a37231f4efeb95a070e316c7f5d",
       "outputs": [
        {
         "ename": "NameError",
         "evalue": "name 'df_f' is not defined",
         "output_type": "error",
         "traceback": [
          "\u001b[0;31m---------------------------------------------------------------------------\u001b[0m",
          "\u001b[0;31mNameError\u001b[0m                                 Traceback (most recent call last)",
          "\u001b[0;32m~/anaconda3/envs/data/lib/python3.7/site-packages/ipywidgets/widgets/interaction.py\u001b[0m in \u001b[0;36mupdate\u001b[0;34m(self, *args)\u001b[0m\n\u001b[1;32m    254\u001b[0m                     \u001b[0mvalue\u001b[0m \u001b[0;34m=\u001b[0m \u001b[0mwidget\u001b[0m\u001b[0;34m.\u001b[0m\u001b[0mget_interact_value\u001b[0m\u001b[0;34m(\u001b[0m\u001b[0;34m)\u001b[0m\u001b[0;34m\u001b[0m\u001b[0;34m\u001b[0m\u001b[0m\n\u001b[1;32m    255\u001b[0m                     \u001b[0mself\u001b[0m\u001b[0;34m.\u001b[0m\u001b[0mkwargs\u001b[0m\u001b[0;34m[\u001b[0m\u001b[0mwidget\u001b[0m\u001b[0;34m.\u001b[0m\u001b[0m_kwarg\u001b[0m\u001b[0;34m]\u001b[0m \u001b[0;34m=\u001b[0m \u001b[0mvalue\u001b[0m\u001b[0;34m\u001b[0m\u001b[0;34m\u001b[0m\u001b[0m\n\u001b[0;32m--> 256\u001b[0;31m                 \u001b[0mself\u001b[0m\u001b[0;34m.\u001b[0m\u001b[0mresult\u001b[0m \u001b[0;34m=\u001b[0m \u001b[0mself\u001b[0m\u001b[0;34m.\u001b[0m\u001b[0mf\u001b[0m\u001b[0;34m(\u001b[0m\u001b[0;34m**\u001b[0m\u001b[0mself\u001b[0m\u001b[0;34m.\u001b[0m\u001b[0mkwargs\u001b[0m\u001b[0;34m)\u001b[0m\u001b[0;34m\u001b[0m\u001b[0;34m\u001b[0m\u001b[0m\n\u001b[0m\u001b[1;32m    257\u001b[0m                 \u001b[0mshow_inline_matplotlib_plots\u001b[0m\u001b[0;34m(\u001b[0m\u001b[0;34m)\u001b[0m\u001b[0;34m\u001b[0m\u001b[0;34m\u001b[0m\u001b[0m\n\u001b[1;32m    258\u001b[0m                 \u001b[0;32mif\u001b[0m \u001b[0mself\u001b[0m\u001b[0;34m.\u001b[0m\u001b[0mauto_display\u001b[0m \u001b[0;32mand\u001b[0m \u001b[0mself\u001b[0m\u001b[0;34m.\u001b[0m\u001b[0mresult\u001b[0m \u001b[0;32mis\u001b[0m \u001b[0;32mnot\u001b[0m \u001b[0;32mNone\u001b[0m\u001b[0;34m:\u001b[0m\u001b[0;34m\u001b[0m\u001b[0;34m\u001b[0m\u001b[0m\n",
          "\u001b[0;32m<ipython-input-145-4ccf2c59f85c>\u001b[0m in \u001b[0;36mf\u001b[0;34m(corretora)\u001b[0m\n\u001b[1;32m      2\u001b[0m \u001b[0;34m\u001b[0m\u001b[0m\n\u001b[1;32m      3\u001b[0m     \u001b[0mdf\u001b[0m \u001b[0;34m=\u001b[0m \u001b[0mdf_ativos\u001b[0m\u001b[0;34m[\u001b[0m\u001b[0mdf_ativos\u001b[0m\u001b[0;34m[\u001b[0m\u001b[0;34m'Corretora'\u001b[0m\u001b[0;34m]\u001b[0m \u001b[0;34m==\u001b[0m \u001b[0mcorretora\u001b[0m\u001b[0;34m]\u001b[0m\u001b[0;34m\u001b[0m\u001b[0;34m\u001b[0m\u001b[0m\n\u001b[0;32m----> 4\u001b[0;31m     \u001b[0mdf\u001b[0m \u001b[0;34m=\u001b[0m \u001b[0mcarteira_de_acoes_atual\u001b[0m\u001b[0;34m(\u001b[0m\u001b[0mdf_f\u001b[0m\u001b[0;34m.\u001b[0m\u001b[0mcopy\u001b[0m\u001b[0;34m(\u001b[0m\u001b[0;34m)\u001b[0m\u001b[0;34m,\u001b[0m \u001b[0moffline\u001b[0m\u001b[0;34m=\u001b[0m\u001b[0;32mTrue\u001b[0m\u001b[0;34m)\u001b[0m\u001b[0;34m\u001b[0m\u001b[0;34m\u001b[0m\u001b[0m\n\u001b[0m\u001b[1;32m      5\u001b[0m     \u001b[0mdf\u001b[0m\u001b[0;34m[\u001b[0m\u001b[0;34m'Posição'\u001b[0m\u001b[0;34m]\u001b[0m \u001b[0;34m=\u001b[0m \u001b[0;34m'Comprada'\u001b[0m\u001b[0;34m\u001b[0m\u001b[0;34m\u001b[0m\u001b[0m\n\u001b[1;32m      6\u001b[0m     \u001b[0mdisplay\u001b[0m\u001b[0;34m(\u001b[0m\u001b[0mdf\u001b[0m\u001b[0;34m)\u001b[0m\u001b[0;34m\u001b[0m\u001b[0;34m\u001b[0m\u001b[0m\n",
          "\u001b[0;31mNameError\u001b[0m: name 'df_f' is not defined"
         ]
        }
       ]
      }
     },
     "c9156d5713144f05a2251cfcb2a09ca4": {
      "model_module": "@jupyter-widgets/controls",
      "model_module_version": "1.5.0",
      "model_name": "DropdownModel",
      "state": {
       "_options_labels": [
        "MODAL",
        "CLEAR"
       ],
       "description": "corretora",
       "index": 0,
       "layout": "IPY_MODEL_db00545037cf4d58a5bd2e70693a7e10",
       "style": "IPY_MODEL_ce08da9bec77441b80db17ce92af985f"
      }
     },
     "ca42a130c3f44a40a4605b3ac07e31ee": {
      "model_module": "@jupyter-widgets/controls",
      "model_module_version": "1.5.0",
      "model_name": "VBoxModel",
      "state": {
       "_dom_classes": [
        "widget-interact"
       ],
       "children": [
        "IPY_MODEL_ef452becad1e4bf69f7ae8f182be0b5d",
        "IPY_MODEL_29edb23c1f8e4f46b964a5fb7e2af4c7"
       ],
       "layout": "IPY_MODEL_4b1bf242b45540e88fe76a4a6e882672"
      }
     },
     "cd88407866404a76b349cae582dfb091": {
      "model_module": "@jupyter-widgets/controls",
      "model_module_version": "1.5.0",
      "model_name": "DropdownModel",
      "state": {
       "_options_labels": [
        "MODAL",
        "CLEAR"
       ],
       "description": "name",
       "index": 0,
       "layout": "IPY_MODEL_87562c8eb92f4edfabb04cf787660982",
       "style": "IPY_MODEL_08ef2911c7de4978abe1d85930b40f17"
      }
     },
     "ce08da9bec77441b80db17ce92af985f": {
      "model_module": "@jupyter-widgets/controls",
      "model_module_version": "1.5.0",
      "model_name": "DescriptionStyleModel",
      "state": {
       "description_width": ""
      }
     },
     "d281b43b7eb54bd7b9e9d40cf2dcb88f": {
      "model_module": "@jupyter-widgets/controls",
      "model_module_version": "1.5.0",
      "model_name": "DropdownModel",
      "state": {
       "_options_labels": [
        "MODAL",
        "CLEAR"
       ],
       "description": "corretora",
       "index": 0,
       "layout": "IPY_MODEL_287c341fab7045d5910434270b0236b4",
       "style": "IPY_MODEL_2be4b0092f6340169f12a835a3eec6ba"
      }
     },
     "d314f5b058694e7aafbd128c7897280a": {
      "model_module": "@jupyter-widgets/controls",
      "model_module_version": "1.5.0",
      "model_name": "DescriptionStyleModel",
      "state": {
       "description_width": ""
      }
     },
     "d63fb07d0f164849a2a316b946955382": {
      "model_module": "@jupyter-widgets/output",
      "model_module_version": "1.0.0",
      "model_name": "OutputModel",
      "state": {
       "layout": "IPY_MODEL_1d74b405cb4e4197aed4280508212373",
       "outputs": [
        {
         "data": {
          "text/html": "<div>\n<style scoped>\n    .dataframe tbody tr th:only-of-type {\n        vertical-align: middle;\n    }\n\n    .dataframe tbody tr th {\n        vertical-align: top;\n    }\n\n    .dataframe thead th {\n        text-align: right;\n    }\n</style>\n<table border=\"1\" class=\"dataframe\">\n  <thead>\n    <tr style=\"text-align: right;\">\n      <th></th>\n      <th>Data</th>\n      <th>Código</th>\n      <th>Quantidade de C/V</th>\n      <th>&lt;Preço&gt;</th>\n      <th>&lt;Valor Total&gt;</th>\n      <th>Posição</th>\n      <th>Corretora</th>\n    </tr>\n  </thead>\n  <tbody>\n    <tr>\n      <th>17</th>\n      <td>2019-08-05</td>\n      <td>JBSS3</td>\n      <td>-16.0</td>\n      <td>26.855</td>\n      <td>429.68</td>\n      <td>Zerada</td>\n      <td>MODAL</td>\n    </tr>\n    <tr>\n      <th>23</th>\n      <td>2019-09-02</td>\n      <td>CVCB3</td>\n      <td>-9.0</td>\n      <td>51.000</td>\n      <td>459.00</td>\n      <td>Zerada</td>\n      <td>MODAL</td>\n    </tr>\n    <tr>\n      <th>27</th>\n      <td>2019-09-02</td>\n      <td>RAIL3</td>\n      <td>-20.0</td>\n      <td>22.170</td>\n      <td>443.40</td>\n      <td>Zerada</td>\n      <td>MODAL</td>\n    </tr>\n    <tr>\n      <th>21</th>\n      <td>2019-09-02</td>\n      <td>ANIM3</td>\n      <td>-20.0</td>\n      <td>21.270</td>\n      <td>425.40</td>\n      <td>Zerada</td>\n      <td>MODAL</td>\n    </tr>\n    <tr>\n      <th>22</th>\n      <td>2019-09-02</td>\n      <td>B3SA3</td>\n      <td>-10.0</td>\n      <td>43.070</td>\n      <td>430.70</td>\n      <td>Zerada</td>\n      <td>MODAL</td>\n    </tr>\n    <tr>\n      <th>25</th>\n      <td>2019-09-02</td>\n      <td>LREN3</td>\n      <td>-10.0</td>\n      <td>49.320</td>\n      <td>493.20</td>\n      <td>Zerada</td>\n      <td>MODAL</td>\n    </tr>\n    <tr>\n      <th>26</th>\n      <td>2019-09-02</td>\n      <td>PCAR4</td>\n      <td>-5.0</td>\n      <td>94.860</td>\n      <td>474.30</td>\n      <td>Zerada</td>\n      <td>MODAL</td>\n    </tr>\n    <tr>\n      <th>28</th>\n      <td>2019-09-02</td>\n      <td>RENT3</td>\n      <td>-11.0</td>\n      <td>44.380</td>\n      <td>488.18</td>\n      <td>Zerada</td>\n      <td>MODAL</td>\n    </tr>\n    <tr>\n      <th>24</th>\n      <td>2019-09-02</td>\n      <td>IRBR3</td>\n      <td>-5.0</td>\n      <td>91.500</td>\n      <td>457.50</td>\n      <td>Zerada</td>\n      <td>MODAL</td>\n    </tr>\n  </tbody>\n</table>\n</div>",
          "text/plain": "         Data Código  Quantidade de C/V  <Preço>  <Valor Total> Posição  \\\n17 2019-08-05  JBSS3              -16.0   26.855         429.68  Zerada   \n23 2019-09-02  CVCB3               -9.0   51.000         459.00  Zerada   \n27 2019-09-02  RAIL3              -20.0   22.170         443.40  Zerada   \n21 2019-09-02  ANIM3              -20.0   21.270         425.40  Zerada   \n22 2019-09-02  B3SA3              -10.0   43.070         430.70  Zerada   \n25 2019-09-02  LREN3              -10.0   49.320         493.20  Zerada   \n26 2019-09-02  PCAR4               -5.0   94.860         474.30  Zerada   \n28 2019-09-02  RENT3              -11.0   44.380         488.18  Zerada   \n24 2019-09-02  IRBR3               -5.0   91.500         457.50  Zerada   \n\n   Corretora  \n17     MODAL  \n23     MODAL  \n27     MODAL  \n21     MODAL  \n22     MODAL  \n25     MODAL  \n26     MODAL  \n28     MODAL  \n24     MODAL  "
         },
         "metadata": {},
         "output_type": "display_data"
        }
       ]
      }
     },
     "db00545037cf4d58a5bd2e70693a7e10": {
      "model_module": "@jupyter-widgets/base",
      "model_module_version": "1.2.0",
      "model_name": "LayoutModel",
      "state": {}
     },
     "dc27473537a74a2eb4acdda98ade2c71": {
      "model_module": "@jupyter-widgets/controls",
      "model_module_version": "1.5.0",
      "model_name": "DescriptionStyleModel",
      "state": {
       "description_width": ""
      }
     },
     "dd911a37231f4efeb95a070e316c7f5d": {
      "model_module": "@jupyter-widgets/base",
      "model_module_version": "1.2.0",
      "model_name": "LayoutModel",
      "state": {}
     },
     "de0f24e8220c42df9ff24c2f634bbe25": {
      "model_module": "@jupyter-widgets/base",
      "model_module_version": "1.2.0",
      "model_name": "LayoutModel",
      "state": {}
     },
     "de979d6855d246c48a903303f9dd25e0": {
      "model_module": "@jupyter-widgets/base",
      "model_module_version": "1.2.0",
      "model_name": "LayoutModel",
      "state": {}
     },
     "df09ac93840644aa8ea03fc567dee261": {
      "model_module": "@jupyter-widgets/controls",
      "model_module_version": "1.5.0",
      "model_name": "VBoxModel",
      "state": {
       "_dom_classes": [
        "widget-interact"
       ],
       "children": [
        "IPY_MODEL_8d551117422348dcb63a93a4d3384570",
        "IPY_MODEL_5bbdba5172e64b509bd2fa391b2286a4"
       ],
       "layout": "IPY_MODEL_fee95dfc80e648a18be9bda375b656ee"
      }
     },
     "e1808e78560d4966b62088efdedcc95f": {
      "model_module": "@jupyter-widgets/base",
      "model_module_version": "1.2.0",
      "model_name": "LayoutModel",
      "state": {}
     },
     "e52fa8c90da74f119f9e892929979e53": {
      "model_module": "@jupyter-widgets/base",
      "model_module_version": "1.2.0",
      "model_name": "LayoutModel",
      "state": {}
     },
     "e55e40c6d1bf4ed0a8bf7a91d96381c9": {
      "model_module": "@jupyter-widgets/base",
      "model_module_version": "1.2.0",
      "model_name": "LayoutModel",
      "state": {}
     },
     "e80d10e3c2684f959899e09caf97271f": {
      "model_module": "@jupyter-widgets/controls",
      "model_module_version": "1.5.0",
      "model_name": "DropdownModel",
      "state": {
       "_options_labels": [
        "MODAL",
        "CLEAR"
       ],
       "description": "name",
       "index": 0,
       "layout": "IPY_MODEL_4b12a6d44e484365aca4b37784826d2e",
       "style": "IPY_MODEL_c1718b243f6044cd93f4864646044924"
      }
     },
     "e9ab321d66c1449d8bd4a954cb26658d": {
      "model_module": "@jupyter-widgets/controls",
      "model_module_version": "1.5.0",
      "model_name": "VBoxModel",
      "state": {
       "_dom_classes": [
        "widget-interact"
       ],
       "layout": "IPY_MODEL_4d981ad4f5cc4489ad7eba5858d8050a"
      }
     },
     "eb46b02bd5254c8c9fb7fca22f8c98f7": {
      "model_module": "@jupyter-widgets/base",
      "model_module_version": "1.2.0",
      "model_name": "LayoutModel",
      "state": {}
     },
     "ec1eb3fa4a114211a07e1ff37399eeec": {
      "model_module": "@jupyter-widgets/controls",
      "model_module_version": "1.5.0",
      "model_name": "VBoxModel",
      "state": {
       "_dom_classes": [
        "widget-interact"
       ],
       "children": [
        "IPY_MODEL_652f10425c0e43df9ee5eb93b9e93258",
        "IPY_MODEL_233230794e83498ba17a07c343bcf53b"
       ],
       "layout": "IPY_MODEL_61a2355079364630a1995235ee893d59"
      }
     },
     "ec2cc20c69924b089bb440f6190188c9": {
      "model_module": "@jupyter-widgets/controls",
      "model_module_version": "1.5.0",
      "model_name": "VBoxModel",
      "state": {
       "_dom_classes": [
        "widget-interact"
       ],
       "children": [
        "IPY_MODEL_0f2519cde113444cb7c2d44036d001b7",
        "IPY_MODEL_5b79aa37975a40458f3d4c66a3c63ad7"
       ],
       "layout": "IPY_MODEL_f6a38f859787483a9b1b39e0bc65328f"
      }
     },
     "ed8a8de308584570ba98930a46ca8cd9": {
      "model_module": "@jupyter-widgets/controls",
      "model_module_version": "1.5.0",
      "model_name": "VBoxModel",
      "state": {
       "_dom_classes": [
        "widget-interact"
       ],
       "children": [
        "IPY_MODEL_422b1c11ee1d4ca0839021e2d3d8ef81",
        "IPY_MODEL_c90fcfb6d7014d649177179419691841"
       ],
       "layout": "IPY_MODEL_a8b4b4f7806d423791947771f447b2db"
      }
     },
     "ee860ff7d67b4e6f923676adb17dc338": {
      "model_module": "@jupyter-widgets/controls",
      "model_module_version": "1.5.0",
      "model_name": "VBoxModel",
      "state": {
       "_dom_classes": [
        "widget-interact"
       ],
       "children": [
        "IPY_MODEL_7978c250337746289860f92460cb6d7a",
        "IPY_MODEL_56e6b6ed8e364c15abe2f7b8731e23d3"
       ],
       "layout": "IPY_MODEL_5662d212588a4ed0a4e0314df21121ee"
      }
     },
     "ef452becad1e4bf69f7ae8f182be0b5d": {
      "model_module": "@jupyter-widgets/controls",
      "model_module_version": "1.5.0",
      "model_name": "DropdownModel",
      "state": {
       "_options_labels": [
        "MODAL",
        "CLEAR"
       ],
       "description": "corretora",
       "index": 0,
       "layout": "IPY_MODEL_f55a532d91ef4f16be56f20aa95602f5",
       "style": "IPY_MODEL_0e6f6bb854df4c25ae82fb43c3489666"
      }
     },
     "efd6dbad8ac54c7cbdf2e3389aff6cf7": {
      "model_module": "@jupyter-widgets/controls",
      "model_module_version": "1.5.0",
      "model_name": "VBoxModel",
      "state": {
       "_dom_classes": [
        "widget-interact"
       ],
       "children": [
        "IPY_MODEL_223abbf860a34898ba21339655a24f80",
        "IPY_MODEL_b55dc3c2e81643039edfa7d3d89a574f"
       ],
       "layout": "IPY_MODEL_8c09da5b0bf54631aeef7c47b9960c69"
      }
     },
     "f55a532d91ef4f16be56f20aa95602f5": {
      "model_module": "@jupyter-widgets/base",
      "model_module_version": "1.2.0",
      "model_name": "LayoutModel",
      "state": {}
     },
     "f6a38f859787483a9b1b39e0bc65328f": {
      "model_module": "@jupyter-widgets/base",
      "model_module_version": "1.2.0",
      "model_name": "LayoutModel",
      "state": {}
     },
     "fee95dfc80e648a18be9bda375b656ee": {
      "model_module": "@jupyter-widgets/base",
      "model_module_version": "1.2.0",
      "model_name": "LayoutModel",
      "state": {}
     }
    },
    "version_major": 2,
    "version_minor": 0
   }
  }
 },
 "nbformat": 4,
 "nbformat_minor": 4
}
